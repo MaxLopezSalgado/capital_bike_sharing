{
 "cells": [
  {
   "cell_type": "code",
   "execution_count": null,
   "metadata": {},
   "outputs": [],
   "source": [
    "#### Author : Maximiliano Lopez Salgado\n",
    "#### First commit: 2023-05-05\n",
    "#### Last commit: 2023-05-05\n",
    "#### Description: This notebook is used to explore the bike data set"
   ]
  },
  {
   "cell_type": "code",
   "execution_count": null,
   "metadata": {},
   "outputs": [],
   "source": [
    "<center><h1>Data Wrangling</center></h1>"
   ]
  },
  {
   "cell_type": "code",
   "execution_count": null,
   "metadata": {},
   "outputs": [],
   "source": [
    "# import ML libraries\n",
    "import pandas as pd\n",
    "import numpy as np\n",
    "import matplotlib.pyplot as plt\n",
    "import seaborn as sns\n",
    "import datetime as dt\n",
    "import math"
   ]
  },
  {
   "cell_type": "code",
   "execution_count": null,
   "metadata": {},
   "outputs": [],
   "source": [
    "# import day dataset from csv file and store it in a dataframe named day\n",
    "day = pd.read_csv('/Users/maximilianolopezsalgado/data_projects/capital_bike_sharing/datasets/day.csv')\n",
    "\n",
    "# import hour dataset from csv file and store it in a dataframe named hour\n",
    "hour = pd.read_csv('/Users/maximilianolopezsalgado/data_projects/capital_bike_sharing/datasets/hour.csv')\n",
    "\n",
    "# print the first 5 rows of the day dataset\n",
    "display(day.head())\n",
    "\n",
    "# print the first 5 rows of the hour dataset\n",
    "display(hour.head())"
   ]
  },
  {
   "cell_type": "code",
   "execution_count": null,
   "metadata": {},
   "outputs": [],
   "source": [
    "# Check the shape of datasets and column names for day and hour datasets \n",
    "print('Shape of day dataset: ', day.shape)\n",
    "print('Shape of hour dataset: ', hour.shape)"
   ]
  },
  {
   "cell_type": "code",
   "execution_count": null,
   "metadata": {},
   "outputs": [],
   "source": [
    "# look out for missing values in day dataset\n",
    "print('Missing values in day dataset: ', day.isnull().sum())\n",
    "\n",
    "# look out for missing values in hour dataset\n",
    "print('Missing values in hour dataset: ', hour.isnull().sum())"
   ]
  },
  {
   "cell_type": "code",
   "execution_count": null,
   "metadata": {},
   "outputs": [],
   "source": [
    "# check the data types for day dataset\n",
    "print('Data types for day dataset: ', day.dtypes)\n",
    "\n",
    "# check the data types for hour dataset\n",
    "print('Data types for hour dataset: ', hour.dtypes)"
   ]
  },
  {
   "cell_type": "code",
   "execution_count": null,
   "metadata": {},
   "outputs": [],
   "source": [
    "# check the unique values for each column in day dataset\n",
    "print('Unique values for each column in day dataset: ', day.nunique())\n",
    "\n",
    "# check the unique values for each column in hour dataset\n",
    "print('Unique values for each column in hour dataset: ', hour.nunique())"
   ]
  },
  {
   "cell_type": "code",
   "execution_count": null,
   "metadata": {},
   "outputs": [],
   "source": [
    "# check the descriptive statistics for day dataset\n",
    "print('Descriptive statistics for day dataset: ', day.describe())\n",
    "\n",
    "# check the descriptive statistics for hour dataset\n",
    "print('Descriptive statistics for hour dataset: ', hour.describe())"
   ]
  },
  {
   "cell_type": "code",
   "execution_count": null,
   "metadata": {},
   "outputs": [],
   "source": [
    "# rename the hour dataset to bike\n",
    "bike = hour"
   ]
  },
  {
   "cell_type": "code",
   "execution_count": null,
   "metadata": {},
   "outputs": [],
   "source": [
    "# change the data type for dteday column to datetime\n",
    "bike['dteday'] = pd.to_datetime(bike['dteday'])\n",
    "\n",
    "# check the data types for the concatenated dataset\n",
    "print('Data types for concatenated dataset: ', bike.dtypes)"
   ]
  },
  {
   "cell_type": "code",
   "execution_count": null,
   "metadata": {},
   "outputs": [],
   "source": [
    "# change the name of the columns in the concatenated dataset to make them more readable\n",
    "bike.rename(columns={'dteday':'date','yr':'year', 'mnth':'month', 'hr':'hour', 'weathersit':'weather', 'casual':'casual_user', 'registered':'registered_user', 'hum':'humidity', 'cnt':'count', 'atemp':'apparent_temp'}, inplace=True)\n",
    "\n",
    "# check the column names for the concatenated dataset\n",
    "print('Column names for concatenated dataset: ', bike.columns)"
   ]
  },
  {
   "cell_type": "code",
   "execution_count": null,
   "metadata": {},
   "outputs": [],
   "source": [
    "# rename names and values in columns to make them look human readable\n",
    "# change the values of holiday column to month names\n",
    "bike.loc[bike['holiday'] == 0, 'holiday'] = 'No'\n",
    "bike.loc[bike['holiday'] == 1, 'holiday'] = 'Yes'\n",
    "\n",
    "# change the values of season column to month names\n",
    "\n",
    "bike.loc[bike['season'] == 1, 'season'] = 'Winter'\n",
    "bike.loc[bike['season'] == 2, 'season'] = 'Spring'\n",
    "bike.loc[bike['season'] == 3, 'season'] = 'Summer'\n",
    "bike.loc[bike['season'] == 4, 'season'] = 'Fall'\n",
    "\n",
    "# change the values of workingday column to month names\n",
    "\n",
    "bike.loc[bike['workingday'] == 0, 'workingday'] = 'No'\n",
    "bike.loc[bike['workingday'] == 1, 'workingday'] = 'Yes'\n",
    "\n",
    "# change the values of weather column to month names\n",
    "\n",
    "bike.loc[bike['weather'] == 1, 'weather'] = 'Clear'\n",
    "bike.loc[bike['weather'] == 2, 'weather'] = 'Mist-Cloudy'\n",
    "bike.loc[bike['weather'] == 3, 'weather'] = 'Light-Rain'\n",
    "bike.loc[bike['weather'] == 4, 'weather'] = 'Heavy-Rain'\n",
    "\n",
    "# change the values of weekday column to month names\n",
    "\n",
    "bike.loc[bike['weekday'] == 0, 'weekday'] = 'Sunday'\n",
    "bike.loc[bike['weekday'] == 1, 'weekday'] = 'Monday'\n",
    "bike.loc[bike['weekday'] == 2, 'weekday'] = 'Tuesday'\n",
    "bike.loc[bike['weekday'] == 3, 'weekday'] = 'Wednesday'\n",
    "bike.loc[bike['weekday'] == 4, 'weekday'] = 'Thursday'\n",
    "bike.loc[bike['weekday'] == 5, 'weekday'] = 'Friday'\n",
    "bike.loc[bike['weekday'] == 6, 'weekday'] = 'Saturday'\n",
    "\n",
    "# temp column: normalize temperature in celsius. Formula: (t-t_min)/(t_max-t_min), t_min=-8, t_max=+39 (from dataset description)\n",
    "t_min = -8  # Minimum temperature value in Celsius\n",
    "t_max = 39  # Maximum temperature value in Celsius\n",
    "\n",
    "# Convert normalized temperature values back to Celsius\n",
    "bike['temp'] = bike['temp'].apply(lambda x: (x*(t_max-t_min))+t_min)\n",
    "\n",
    "# display the range of values for temp column\n",
    "display(print('Range of values for temp column: ', bike['temp'].min(), bike['temp'].max()))\n",
    "\n",
    "# atemp column: normalize feeling temperature in celsius. Formula: (t-t_min)/(t_max-t_min), t_min=-16, t_max=+50 (from dataset description)\n",
    "at_min=-16\n",
    "at_max=+50\n",
    "\n",
    "# Convert normalized feeling temperature values back to Celsius\n",
    "bike['apparent_temp'] = bike['apparent_temp'].apply(lambda x: (x*(at_max-at_min))+at_min)\n",
    "\n",
    "# display the range of values for atemp column\n",
    "display(print('Range of values for atemp column: ', bike['apparent_temp'].min(), bike['apparent_temp'].max()))\n",
    "\n",
    "# hum column: normalize humidity. Formula: (hum-hum_min)/(hum_max-hum_min), hum_min=0, hum_max=1 (from dataset description)\n",
    "bike['humidity'] = bike['humidity'].apply(lambda x: x/100)\n",
    "\n",
    "# windspeed column: Normalized wind speed. The values are divided to 67 (max) (from dataset description)\n",
    "windspeed_min=0\n",
    "windspeed_max=0.85\n",
    "\n",
    "# Convert normalized windspeed values back to not normalized values (km/h) The values are divided to 67 (from dataset description)       \n",
    "bike['windspeed'] = bike['windspeed'].apply(lambda x: (x * 67))\n",
    "\n",
    "# display the range of values for windspeed column\n",
    "display(print('Range of values for windspeed column: ', bike['windspeed'].min(), bike['windspeed'].max()))\n",
    "\n",
    "# change the values of humidity column to percentage\n",
    "bike['humidity'] = bike['humidity'].apply(lambda x: x*100)\n",
    "\n",
    "# print the range of values for humidity column\n",
    "display(print('Range of values for humidity column: ', bike['humidity'].min(), bike['humidity'].max()))\n",
    "\n",
    "# change the values of month column to month names\n",
    "\n",
    "bike.loc[bike['month'] == 1, 'month'] = 'January'\n",
    "bike.loc[bike['month'] == 2, 'month'] = 'February'\n",
    "bike.loc[bike['month'] == 3, 'month'] = 'March'\n",
    "bike.loc[bike['month'] == 4, 'month'] = 'April'\n",
    "bike.loc[bike['month'] == 5, 'month'] = 'May'\n",
    "bike.loc[bike['month'] == 6, 'month'] = 'June'\n",
    "bike.loc[bike['month'] == 7, 'month'] = 'July'\n",
    "bike.loc[bike['month'] == 8, 'month'] = 'August'\n",
    "bike.loc[bike['month'] == 9, 'month'] = 'September'\n",
    "bike.loc[bike['month'] == 10, 'month'] = 'October'\n",
    "bike.loc[bike['month'] == 11, 'month'] = 'November'\n",
    "bike.loc[bike['month'] == 12, 'month'] = 'December'\n",
    "\n",
    "bike.loc[bike['year'] == 0, 'year'] = '2011'\n",
    "bike.loc[bike['year'] == 1, 'year'] = '2012'\n",
    "\n",
    "\n",
    "# check the unique values for each column in bike dataset\n",
    "display(print('Unique values for each column in bike dataset: ', bike.nunique()))\n",
    "\n",
    "# print the first 5 rows of the bike dataset to check the changes made to the columns names and values\n",
    "display(bike.head())"
   ]
  },
  {
   "cell_type": "code",
   "execution_count": null,
   "metadata": {},
   "outputs": [],
   "source": [
    "# transform the data type for the columns in the bike dataset into category in order to make them usable for the future analysis\n",
    "bike['year'] = bike['year'].astype('datetime64[ns]')\n",
    "bike['month'] = bike['month'].astype('category')\n",
    "bike['weekday'] = bike['weekday'].astype('category')\n",
    "bike['season'] = bike['season'].astype('category')\n",
    "bike['weather'] = bike['weather'].astype('category')\n",
    "bike['holiday'] = bike['holiday'].astype('category')\n",
    "bike['workingday'] = bike['workingday'].astype('category')"
   ]
  },
  {
   "cell_type": "code",
   "execution_count": null,
   "metadata": {},
   "outputs": [],
   "source": [
    "# create a new column name called day_period to classify the hour in the dataset‚\n",
    "# create a function to classify the hour\n",
    "def day_period(hour):\n",
    "    if hour >= 0 and hour <= 6:\n",
    "        return 'Dawn'\n",
    "    elif hour > 6 and hour <= 12:\n",
    "        return 'Morning'\n",
    "    elif hour > 12 and hour <= 18:\n",
    "        return 'Afternoon'\n",
    "    else:\n",
    "        return 'Night'\n",
    "\n",
    "# apply the function to the column hour\n",
    "bike['day_period'] = bike['hour'].apply(day_period)"
   ]
  },
  {
   "cell_type": "code",
   "execution_count": null,
   "metadata": {},
   "outputs": [],
   "source": [
    "# Create a new column name called warmness to classify the apparent_temperature in the dataset\n",
    "# create a function to classify the apparent_temperature\n",
    "def warmness(apparent_temp):\n",
    "    if apparent_temp <= 12:\n",
    "        return 'Cold'\n",
    "    elif apparent_temp > 12 and apparent_temp <= 20:\n",
    "        return 'Warm'\n",
    "    elif apparent_temp > 20 and apparent_temp <= 30:\n",
    "        return 'Hot'\n",
    "    else:\n",
    "        return 'Very Hot'\n",
    "    \n",
    "# apply the function to the column apparent_temp\n",
    "bike['warmness'] = bike['apparent_temp'].apply(warmness)\n",
    "\n",
    "# check the values of the column warmness\n",
    "print('Values of the column warmness: ', bike['warmness'].unique())"
   ]
  },
  {
   "cell_type": "code",
   "execution_count": null,
   "metadata": {},
   "outputs": [],
   "source": [
    "# Create a new column name called humidity_level to classify the humidity in the dataset\n",
    "# create a function to classify the humidity\n",
    "def humidity_level(humidity):\n",
    "    if humidity <= 0.40:\n",
    "        return 'Low'\n",
    "    elif humidity > 0.40 and humidity <= 0.70:\n",
    "        return 'Medium'\n",
    "    else:\n",
    "        return 'High'\n",
    "    \n",
    "# apply the function to the column humidity\n",
    "bike['humidity_level'] = bike['humidity'].apply(humidity_level)\n",
    "\n",
    "# check the values of the column humidity_level\n",
    "print('Values of the column humidity_level: ', bike['humidity_level'].unique())"
   ]
  },
  {
   "cell_type": "code",
   "execution_count": null,
   "metadata": {},
   "outputs": [],
   "source": [
    "# create a function to classify the windspeed\n",
    "def windspeed_level(windspeed):\n",
    "    if windspeed <= 10:\n",
    "        return 'Low'\n",
    "    elif windspeed > 10 and windspeed <= 20:\n",
    "        return 'Medium'\n",
    "    else:\n",
    "        return 'High'\n",
    "\n",
    "# apply the function to the column windspeed\n",
    "bike['windspeed_level'] = bike['windspeed'].apply(windspeed_level)\n",
    "\n",
    "# check the values of the column windspeed_level\n",
    "print('Values of the column windspeed_level: ', bike['windspeed_level'].unique())"
   ]
  },
  {
   "cell_type": "code",
   "execution_count": null,
   "metadata": {},
   "outputs": [],
   "source": [
    "# export the bike dataset to a csv file to the datasets folder\n",
    "bike.to_csv('datasets/bike_clean.csv', index=False)"
   ]
  },
  {
   "cell_type": "code",
   "execution_count": null,
   "metadata": {},
   "outputs": [],
   "source": [
    "### Enrich the original dataset with the other datasets"
   ]
  },
  {
   "cell_type": "code",
   "execution_count": null,
   "metadata": {},
   "outputs": [],
   "source": [
    "# import the other bike datasets with the trip history data\n",
    "bike_2011 = pd.read_csv('/Users/maximilianolopezsalgado/data_projects/bike_sharing/datasets/2011-capitalbikeshare-tripdata.csv')\n",
    "bike_2012_q1 = pd.read_csv('/Users/maximilianolopezsalgado/data_projects/bike_sharing/datasets/2012Q1-capitalbikeshare-tripdata.csv')\n",
    "bike_2012_q2 = pd.read_csv('/Users/maximilianolopezsalgado/data_projects/bike_sharing/datasets/2012Q2-capitalbikeshare-tripdata.csv')\n",
    "bike_2012_q3 = pd.read_csv('/Users/maximilianolopezsalgado/data_projects/bike_sharing/datasets/2012Q3-capitalbikeshare-tripdata.csv')\n",
    "bike_2012_q4 = pd.read_csv('/Users/maximilianolopezsalgado/data_projects/bike_sharing/datasets/2012Q4-capitalbikeshare-tripdata.csv')\n",
    "# explore the first 5 rows of the bike_2011 dataset\n",
    "display(bike_2011.head())\n",
    "\n",
    "# explore the first 5 rows of the bike_2012_q1 dataset\n",
    "display(bike_2012_q1.head())\n",
    "\n",
    "# explore the first 5 rows of the bike_2012_q2 dataset\n",
    "display(bike_2012_q2.head())\n",
    "\n",
    "# explore the first 5 rows of the bike_2012_q3 dataset\n",
    "display(bike_2012_q3.head())\n",
    "\n",
    "# explore the first 5 rows of the bike_2012_q4 dataset\n",
    "display(bike_2012_q4.head())"
   ]
  },
  {
   "cell_type": "code",
   "execution_count": null,
   "metadata": {},
   "outputs": [],
   "source": [
    "# check the shape of the bike_2011 dataset\n",
    "display(print('Shape of the bike_2011 dataset: ', bike_2011.shape))\n",
    "\n",
    "# check the shape of the bike_2012_q1 dataset\n",
    "display(print('Shape of the bike_2012_q1 dataset: ', bike_2012_q1.shape))\n",
    "\n",
    "# check the shape of the bike_2012_q2 dataset\n",
    "display(print('Shape of the bike_2012_q2 dataset: ', bike_2012_q2.shape))\n",
    "\n",
    "# check the shape of the bike_2012_q3 dataset\n",
    "display(print('Shape of the bike_2012_q3 dataset: ', bike_2012_q3.shape))\n",
    "\n",
    "# check the shape of the bike_2012_q4 dataset\n",
    "display(print('Shape of the bike_2012_q4 dataset: ', bike_2012_q4.shape))"
   ]
  },
  {
   "cell_type": "code",
   "execution_count": null,
   "metadata": {},
   "outputs": [],
   "source": [
    "# check the columns of the bike_2011 dataset\n",
    "display(print('Columns of the bike_2011 dataset: ', bike_2011.columns))\n",
    "\n",
    "# check the columns of the bike_2012_q1 dataset\n",
    "display(print('Columns of the bike_2012_q1 dataset: ', bike_2012_q1.columns))\n",
    "\n",
    "# check the columns of the bike_2012_q2 dataset\n",
    "display(print('Columns of the bike_2012_q2 dataset: ', bike_2012_q2.columns))\n",
    "\n",
    "# check the columns of the bike_2012_q3 dataset\n",
    "display(print('Columns of the bike_2012_q3 dataset: ', bike_2012_q3.columns))\n",
    "\n",
    "# check the columns of the bike_2012_q4 dataset\n",
    "display(print('Columns of the bike_2012_q4 dataset: ', bike_2012_q4.columns))"
   ]
  },
  {
   "cell_type": "code",
   "execution_count": null,
   "metadata": {},
   "outputs": [],
   "source": []
  },
  {
   "cell_type": "code",
   "execution_count": null,
   "metadata": {},
   "outputs": [],
   "source": []
  },
  {
   "cell_type": "code",
   "execution_count": null,
   "metadata": {},
   "outputs": [],
   "source": []
  },
  {
   "cell_type": "code",
   "execution_count": null,
   "metadata": {},
   "outputs": [],
   "source": []
  },
  {
   "cell_type": "code",
   "execution_count": null,
   "metadata": {},
   "outputs": [],
   "source": []
  },
  {
   "cell_type": "code",
   "execution_count": null,
   "metadata": {},
   "outputs": [],
   "source": []
  },
  {
   "cell_type": "code",
   "execution_count": null,
   "metadata": {},
   "outputs": [],
   "source": []
  },
  {
   "cell_type": "code",
   "execution_count": null,
   "metadata": {},
   "outputs": [],
   "source": []
  },
  {
   "cell_type": "code",
   "execution_count": null,
   "metadata": {},
   "outputs": [],
   "source": []
  },
  {
   "cell_type": "code",
   "execution_count": null,
   "metadata": {},
   "outputs": [],
   "source": []
  },
  {
   "cell_type": "code",
   "execution_count": null,
   "metadata": {},
   "outputs": [],
   "source": []
  }
 ],
 "metadata": {
  "kernelspec": {
   "display_name": "ML",
   "language": "python",
   "name": "python3"
  },
  "language_info": {
   "name": "python",
   "version": "3.9.16"
  },
  "orig_nbformat": 4
 },
 "nbformat": 4,
 "nbformat_minor": 2
}
