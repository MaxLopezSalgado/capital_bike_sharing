{
 "cells": [
  {
   "cell_type": "code",
   "execution_count": 91,
   "metadata": {},
   "outputs": [],
   "source": [
    "#### Author : Maximiliano Lopez Salgado\n",
    "#### First commit: 2023-05-05\n",
    "#### Last commit: 2023-05-12\n",
    "#### Description: This notebook is used to explore the bike data set"
   ]
  },
  {
   "attachments": {},
   "cell_type": "markdown",
   "metadata": {},
   "source": [
    "<center><h1>Data Wrangling</center></h1>"
   ]
  },
  {
   "cell_type": "code",
   "execution_count": 92,
   "metadata": {},
   "outputs": [],
   "source": [
    "# import ML libraries\n",
    "import pandas as pd\n",
    "import numpy as np\n",
    "import matplotlib.pyplot as plt\n",
    "import seaborn as sns\n",
    "import datetime as dt\n",
    "import math\n",
    "import folium"
   ]
  },
  {
   "cell_type": "code",
   "execution_count": 93,
   "metadata": {},
   "outputs": [
    {
     "data": {
      "text/html": [
       "<div>\n",
       "<style scoped>\n",
       "    .dataframe tbody tr th:only-of-type {\n",
       "        vertical-align: middle;\n",
       "    }\n",
       "\n",
       "    .dataframe tbody tr th {\n",
       "        vertical-align: top;\n",
       "    }\n",
       "\n",
       "    .dataframe thead th {\n",
       "        text-align: right;\n",
       "    }\n",
       "</style>\n",
       "<table border=\"1\" class=\"dataframe\">\n",
       "  <thead>\n",
       "    <tr style=\"text-align: right;\">\n",
       "      <th></th>\n",
       "      <th>instant</th>\n",
       "      <th>dteday</th>\n",
       "      <th>season</th>\n",
       "      <th>yr</th>\n",
       "      <th>mnth</th>\n",
       "      <th>holiday</th>\n",
       "      <th>weekday</th>\n",
       "      <th>workingday</th>\n",
       "      <th>weathersit</th>\n",
       "      <th>temp</th>\n",
       "      <th>atemp</th>\n",
       "      <th>hum</th>\n",
       "      <th>windspeed</th>\n",
       "      <th>casual</th>\n",
       "      <th>registered</th>\n",
       "      <th>cnt</th>\n",
       "    </tr>\n",
       "  </thead>\n",
       "  <tbody>\n",
       "    <tr>\n",
       "      <th>0</th>\n",
       "      <td>1</td>\n",
       "      <td>2011-01-01</td>\n",
       "      <td>1</td>\n",
       "      <td>0</td>\n",
       "      <td>1</td>\n",
       "      <td>0</td>\n",
       "      <td>6</td>\n",
       "      <td>0</td>\n",
       "      <td>2</td>\n",
       "      <td>0.344167</td>\n",
       "      <td>0.363625</td>\n",
       "      <td>0.805833</td>\n",
       "      <td>0.160446</td>\n",
       "      <td>331</td>\n",
       "      <td>654</td>\n",
       "      <td>985</td>\n",
       "    </tr>\n",
       "    <tr>\n",
       "      <th>1</th>\n",
       "      <td>2</td>\n",
       "      <td>2011-01-02</td>\n",
       "      <td>1</td>\n",
       "      <td>0</td>\n",
       "      <td>1</td>\n",
       "      <td>0</td>\n",
       "      <td>0</td>\n",
       "      <td>0</td>\n",
       "      <td>2</td>\n",
       "      <td>0.363478</td>\n",
       "      <td>0.353739</td>\n",
       "      <td>0.696087</td>\n",
       "      <td>0.248539</td>\n",
       "      <td>131</td>\n",
       "      <td>670</td>\n",
       "      <td>801</td>\n",
       "    </tr>\n",
       "    <tr>\n",
       "      <th>2</th>\n",
       "      <td>3</td>\n",
       "      <td>2011-01-03</td>\n",
       "      <td>1</td>\n",
       "      <td>0</td>\n",
       "      <td>1</td>\n",
       "      <td>0</td>\n",
       "      <td>1</td>\n",
       "      <td>1</td>\n",
       "      <td>1</td>\n",
       "      <td>0.196364</td>\n",
       "      <td>0.189405</td>\n",
       "      <td>0.437273</td>\n",
       "      <td>0.248309</td>\n",
       "      <td>120</td>\n",
       "      <td>1229</td>\n",
       "      <td>1349</td>\n",
       "    </tr>\n",
       "    <tr>\n",
       "      <th>3</th>\n",
       "      <td>4</td>\n",
       "      <td>2011-01-04</td>\n",
       "      <td>1</td>\n",
       "      <td>0</td>\n",
       "      <td>1</td>\n",
       "      <td>0</td>\n",
       "      <td>2</td>\n",
       "      <td>1</td>\n",
       "      <td>1</td>\n",
       "      <td>0.200000</td>\n",
       "      <td>0.212122</td>\n",
       "      <td>0.590435</td>\n",
       "      <td>0.160296</td>\n",
       "      <td>108</td>\n",
       "      <td>1454</td>\n",
       "      <td>1562</td>\n",
       "    </tr>\n",
       "    <tr>\n",
       "      <th>4</th>\n",
       "      <td>5</td>\n",
       "      <td>2011-01-05</td>\n",
       "      <td>1</td>\n",
       "      <td>0</td>\n",
       "      <td>1</td>\n",
       "      <td>0</td>\n",
       "      <td>3</td>\n",
       "      <td>1</td>\n",
       "      <td>1</td>\n",
       "      <td>0.226957</td>\n",
       "      <td>0.229270</td>\n",
       "      <td>0.436957</td>\n",
       "      <td>0.186900</td>\n",
       "      <td>82</td>\n",
       "      <td>1518</td>\n",
       "      <td>1600</td>\n",
       "    </tr>\n",
       "  </tbody>\n",
       "</table>\n",
       "</div>"
      ],
      "text/plain": [
       "   instant      dteday  season  yr  mnth  holiday  weekday  workingday  \\\n",
       "0        1  2011-01-01       1   0     1        0        6           0   \n",
       "1        2  2011-01-02       1   0     1        0        0           0   \n",
       "2        3  2011-01-03       1   0     1        0        1           1   \n",
       "3        4  2011-01-04       1   0     1        0        2           1   \n",
       "4        5  2011-01-05       1   0     1        0        3           1   \n",
       "\n",
       "   weathersit      temp     atemp       hum  windspeed  casual  registered  \\\n",
       "0           2  0.344167  0.363625  0.805833   0.160446     331         654   \n",
       "1           2  0.363478  0.353739  0.696087   0.248539     131         670   \n",
       "2           1  0.196364  0.189405  0.437273   0.248309     120        1229   \n",
       "3           1  0.200000  0.212122  0.590435   0.160296     108        1454   \n",
       "4           1  0.226957  0.229270  0.436957   0.186900      82        1518   \n",
       "\n",
       "    cnt  \n",
       "0   985  \n",
       "1   801  \n",
       "2  1349  \n",
       "3  1562  \n",
       "4  1600  "
      ]
     },
     "metadata": {},
     "output_type": "display_data"
    },
    {
     "data": {
      "text/html": [
       "<div>\n",
       "<style scoped>\n",
       "    .dataframe tbody tr th:only-of-type {\n",
       "        vertical-align: middle;\n",
       "    }\n",
       "\n",
       "    .dataframe tbody tr th {\n",
       "        vertical-align: top;\n",
       "    }\n",
       "\n",
       "    .dataframe thead th {\n",
       "        text-align: right;\n",
       "    }\n",
       "</style>\n",
       "<table border=\"1\" class=\"dataframe\">\n",
       "  <thead>\n",
       "    <tr style=\"text-align: right;\">\n",
       "      <th></th>\n",
       "      <th>instant</th>\n",
       "      <th>dteday</th>\n",
       "      <th>season</th>\n",
       "      <th>yr</th>\n",
       "      <th>mnth</th>\n",
       "      <th>hr</th>\n",
       "      <th>holiday</th>\n",
       "      <th>weekday</th>\n",
       "      <th>workingday</th>\n",
       "      <th>weathersit</th>\n",
       "      <th>temp</th>\n",
       "      <th>atemp</th>\n",
       "      <th>hum</th>\n",
       "      <th>windspeed</th>\n",
       "      <th>casual</th>\n",
       "      <th>registered</th>\n",
       "      <th>cnt</th>\n",
       "    </tr>\n",
       "  </thead>\n",
       "  <tbody>\n",
       "    <tr>\n",
       "      <th>0</th>\n",
       "      <td>1</td>\n",
       "      <td>2011-01-01</td>\n",
       "      <td>1</td>\n",
       "      <td>0</td>\n",
       "      <td>1</td>\n",
       "      <td>0</td>\n",
       "      <td>0</td>\n",
       "      <td>6</td>\n",
       "      <td>0</td>\n",
       "      <td>1</td>\n",
       "      <td>0.24</td>\n",
       "      <td>0.2879</td>\n",
       "      <td>0.81</td>\n",
       "      <td>0.0</td>\n",
       "      <td>3</td>\n",
       "      <td>13</td>\n",
       "      <td>16</td>\n",
       "    </tr>\n",
       "    <tr>\n",
       "      <th>1</th>\n",
       "      <td>2</td>\n",
       "      <td>2011-01-01</td>\n",
       "      <td>1</td>\n",
       "      <td>0</td>\n",
       "      <td>1</td>\n",
       "      <td>1</td>\n",
       "      <td>0</td>\n",
       "      <td>6</td>\n",
       "      <td>0</td>\n",
       "      <td>1</td>\n",
       "      <td>0.22</td>\n",
       "      <td>0.2727</td>\n",
       "      <td>0.80</td>\n",
       "      <td>0.0</td>\n",
       "      <td>8</td>\n",
       "      <td>32</td>\n",
       "      <td>40</td>\n",
       "    </tr>\n",
       "    <tr>\n",
       "      <th>2</th>\n",
       "      <td>3</td>\n",
       "      <td>2011-01-01</td>\n",
       "      <td>1</td>\n",
       "      <td>0</td>\n",
       "      <td>1</td>\n",
       "      <td>2</td>\n",
       "      <td>0</td>\n",
       "      <td>6</td>\n",
       "      <td>0</td>\n",
       "      <td>1</td>\n",
       "      <td>0.22</td>\n",
       "      <td>0.2727</td>\n",
       "      <td>0.80</td>\n",
       "      <td>0.0</td>\n",
       "      <td>5</td>\n",
       "      <td>27</td>\n",
       "      <td>32</td>\n",
       "    </tr>\n",
       "    <tr>\n",
       "      <th>3</th>\n",
       "      <td>4</td>\n",
       "      <td>2011-01-01</td>\n",
       "      <td>1</td>\n",
       "      <td>0</td>\n",
       "      <td>1</td>\n",
       "      <td>3</td>\n",
       "      <td>0</td>\n",
       "      <td>6</td>\n",
       "      <td>0</td>\n",
       "      <td>1</td>\n",
       "      <td>0.24</td>\n",
       "      <td>0.2879</td>\n",
       "      <td>0.75</td>\n",
       "      <td>0.0</td>\n",
       "      <td>3</td>\n",
       "      <td>10</td>\n",
       "      <td>13</td>\n",
       "    </tr>\n",
       "    <tr>\n",
       "      <th>4</th>\n",
       "      <td>5</td>\n",
       "      <td>2011-01-01</td>\n",
       "      <td>1</td>\n",
       "      <td>0</td>\n",
       "      <td>1</td>\n",
       "      <td>4</td>\n",
       "      <td>0</td>\n",
       "      <td>6</td>\n",
       "      <td>0</td>\n",
       "      <td>1</td>\n",
       "      <td>0.24</td>\n",
       "      <td>0.2879</td>\n",
       "      <td>0.75</td>\n",
       "      <td>0.0</td>\n",
       "      <td>0</td>\n",
       "      <td>1</td>\n",
       "      <td>1</td>\n",
       "    </tr>\n",
       "  </tbody>\n",
       "</table>\n",
       "</div>"
      ],
      "text/plain": [
       "   instant      dteday  season  yr  mnth  hr  holiday  weekday  workingday  \\\n",
       "0        1  2011-01-01       1   0     1   0        0        6           0   \n",
       "1        2  2011-01-01       1   0     1   1        0        6           0   \n",
       "2        3  2011-01-01       1   0     1   2        0        6           0   \n",
       "3        4  2011-01-01       1   0     1   3        0        6           0   \n",
       "4        5  2011-01-01       1   0     1   4        0        6           0   \n",
       "\n",
       "   weathersit  temp   atemp   hum  windspeed  casual  registered  cnt  \n",
       "0           1  0.24  0.2879  0.81        0.0       3          13   16  \n",
       "1           1  0.22  0.2727  0.80        0.0       8          32   40  \n",
       "2           1  0.22  0.2727  0.80        0.0       5          27   32  \n",
       "3           1  0.24  0.2879  0.75        0.0       3          10   13  \n",
       "4           1  0.24  0.2879  0.75        0.0       0           1    1  "
      ]
     },
     "metadata": {},
     "output_type": "display_data"
    }
   ],
   "source": [
    "# import day dataset from csv file and store it in a dataframe named day\n",
    "day = pd.read_csv('/Users/maximilianolopezsalgado/data_projects/capital_bike_sharing/datasets/day.csv')\n",
    "\n",
    "# import hour dataset from csv file and store it in a dataframe named hour\n",
    "hour = pd.read_csv('/Users/maximilianolopezsalgado/data_projects/capital_bike_sharing/datasets/hour.csv')\n",
    "\n",
    "# print the first 5 rows of the day dataset\n",
    "display(day.head())\n",
    "\n",
    "# print the first 5 rows of the hour dataset\n",
    "display(hour.head())"
   ]
  },
  {
   "cell_type": "code",
   "execution_count": 94,
   "metadata": {},
   "outputs": [
    {
     "name": "stdout",
     "output_type": "stream",
     "text": [
      "Shape of day dataset:  (731, 16)\n",
      "Shape of hour dataset:  (17379, 17)\n"
     ]
    }
   ],
   "source": [
    "# Check the shape of datasets and column names for day and hour datasets \n",
    "print('Shape of day dataset: ', day.shape)\n",
    "print('Shape of hour dataset: ', hour.shape)"
   ]
  },
  {
   "cell_type": "code",
   "execution_count": 95,
   "metadata": {},
   "outputs": [
    {
     "name": "stdout",
     "output_type": "stream",
     "text": [
      "Missing values in day dataset:  instant       0\n",
      "dteday        0\n",
      "season        0\n",
      "yr            0\n",
      "mnth          0\n",
      "holiday       0\n",
      "weekday       0\n",
      "workingday    0\n",
      "weathersit    0\n",
      "temp          0\n",
      "atemp         0\n",
      "hum           0\n",
      "windspeed     0\n",
      "casual        0\n",
      "registered    0\n",
      "cnt           0\n",
      "dtype: int64\n",
      "Missing values in hour dataset:  instant       0\n",
      "dteday        0\n",
      "season        0\n",
      "yr            0\n",
      "mnth          0\n",
      "hr            0\n",
      "holiday       0\n",
      "weekday       0\n",
      "workingday    0\n",
      "weathersit    0\n",
      "temp          0\n",
      "atemp         0\n",
      "hum           0\n",
      "windspeed     0\n",
      "casual        0\n",
      "registered    0\n",
      "cnt           0\n",
      "dtype: int64\n"
     ]
    }
   ],
   "source": [
    "# look out for missing values in day dataset\n",
    "print('Missing values in day dataset: ', day.isnull().sum())\n",
    "\n",
    "# look out for missing values in hour dataset\n",
    "print('Missing values in hour dataset: ', hour.isnull().sum())"
   ]
  },
  {
   "cell_type": "code",
   "execution_count": 96,
   "metadata": {},
   "outputs": [
    {
     "name": "stdout",
     "output_type": "stream",
     "text": [
      "Data types for day dataset:  instant         int64\n",
      "dteday         object\n",
      "season          int64\n",
      "yr              int64\n",
      "mnth            int64\n",
      "holiday         int64\n",
      "weekday         int64\n",
      "workingday      int64\n",
      "weathersit      int64\n",
      "temp          float64\n",
      "atemp         float64\n",
      "hum           float64\n",
      "windspeed     float64\n",
      "casual          int64\n",
      "registered      int64\n",
      "cnt             int64\n",
      "dtype: object\n",
      "Data types for hour dataset:  instant         int64\n",
      "dteday         object\n",
      "season          int64\n",
      "yr              int64\n",
      "mnth            int64\n",
      "hr              int64\n",
      "holiday         int64\n",
      "weekday         int64\n",
      "workingday      int64\n",
      "weathersit      int64\n",
      "temp          float64\n",
      "atemp         float64\n",
      "hum           float64\n",
      "windspeed     float64\n",
      "casual          int64\n",
      "registered      int64\n",
      "cnt             int64\n",
      "dtype: object\n"
     ]
    }
   ],
   "source": [
    "# check the data types for day dataset\n",
    "print('Data types for day dataset: ', day.dtypes)\n",
    "\n",
    "# check the data types for hour dataset\n",
    "print('Data types for hour dataset: ', hour.dtypes)"
   ]
  },
  {
   "cell_type": "code",
   "execution_count": 97,
   "metadata": {},
   "outputs": [
    {
     "name": "stdout",
     "output_type": "stream",
     "text": [
      "Unique values for each column in day dataset:  instant       731\n",
      "dteday        731\n",
      "season          4\n",
      "yr              2\n",
      "mnth           12\n",
      "holiday         2\n",
      "weekday         7\n",
      "workingday      2\n",
      "weathersit      3\n",
      "temp          499\n",
      "atemp         690\n",
      "hum           595\n",
      "windspeed     650\n",
      "casual        606\n",
      "registered    679\n",
      "cnt           696\n",
      "dtype: int64\n",
      "Unique values for each column in hour dataset:  instant       17379\n",
      "dteday          731\n",
      "season            4\n",
      "yr                2\n",
      "mnth             12\n",
      "hr               24\n",
      "holiday           2\n",
      "weekday           7\n",
      "workingday        2\n",
      "weathersit        4\n",
      "temp             50\n",
      "atemp            65\n",
      "hum              89\n",
      "windspeed        30\n",
      "casual          322\n",
      "registered      776\n",
      "cnt             869\n",
      "dtype: int64\n"
     ]
    }
   ],
   "source": [
    "# check the unique values for each column in day dataset\n",
    "print('Unique values for each column in day dataset: ', day.nunique())\n",
    "\n",
    "# check the unique values for each column in hour dataset\n",
    "print('Unique values for each column in hour dataset: ', hour.nunique())"
   ]
  },
  {
   "cell_type": "code",
   "execution_count": 98,
   "metadata": {},
   "outputs": [],
   "source": [
    "#### Checking the descriptive statistics is now not necessary because the data is normalized."
   ]
  },
  {
   "cell_type": "code",
   "execution_count": 99,
   "metadata": {},
   "outputs": [],
   "source": [
    "# check the descriptive statistics for day dataset\n",
    "# print('Descriptive statistics for day dataset: ', day.describe())\n",
    "\n",
    "# check the descriptive statistics for hour dataset\n",
    "# print('Descriptive statistics for hour dataset: ', hour.describe())"
   ]
  },
  {
   "cell_type": "code",
   "execution_count": 100,
   "metadata": {},
   "outputs": [],
   "source": [
    "# rename the hour dataset to bike\n",
    "bike = hour"
   ]
  },
  {
   "cell_type": "code",
   "execution_count": 101,
   "metadata": {},
   "outputs": [
    {
     "name": "stdout",
     "output_type": "stream",
     "text": [
      "Data types for concatenated dataset:  instant                int64\n",
      "dteday        datetime64[ns]\n",
      "season                 int64\n",
      "yr                     int64\n",
      "mnth                   int64\n",
      "hr                     int64\n",
      "holiday                int64\n",
      "weekday                int64\n",
      "workingday             int64\n",
      "weathersit             int64\n",
      "temp                 float64\n",
      "atemp                float64\n",
      "hum                  float64\n",
      "windspeed            float64\n",
      "casual                 int64\n",
      "registered             int64\n",
      "cnt                    int64\n",
      "dtype: object\n"
     ]
    }
   ],
   "source": [
    "# change the data type for dteday column to datetime\n",
    "bike['dteday'] = pd.to_datetime(bike['dteday'])\n",
    "\n",
    "# check the data types for the concatenated dataset\n",
    "print('Data types for concatenated dataset: ', bike.dtypes)"
   ]
  },
  {
   "cell_type": "code",
   "execution_count": 102,
   "metadata": {},
   "outputs": [
    {
     "name": "stdout",
     "output_type": "stream",
     "text": [
      "Column names for concatenated dataset:  Index(['instant', 'date', 'season', 'year', 'month', 'hour', 'holiday',\n",
      "       'weekday', 'workingday', 'weather', 'temp', 'apparent_temp', 'humidity',\n",
      "       'windspeed', 'casual_user', 'registered_user', 'count'],\n",
      "      dtype='object')\n"
     ]
    }
   ],
   "source": [
    "# change the name of the columns in the concatenated dataset to make them more readable\n",
    "bike.rename(columns={'dteday':'date','yr':'year', 'mnth':'month', 'hr':'hour', 'weathersit':'weather', 'casual':'casual_user', 'registered':'registered_user', 'hum':'humidity', 'cnt':'count', 'atemp':'apparent_temp'}, inplace=True)\n",
    "\n",
    "# check the column names for the concatenated dataset\n",
    "print('Column names for concatenated dataset: ', bike.columns)"
   ]
  },
  {
   "cell_type": "code",
   "execution_count": 103,
   "metadata": {},
   "outputs": [
    {
     "name": "stdout",
     "output_type": "stream",
     "text": [
      "Range of values for temp column:  -7.06 39.0\n"
     ]
    },
    {
     "data": {
      "text/plain": [
       "None"
      ]
     },
     "metadata": {},
     "output_type": "display_data"
    },
    {
     "name": "stdout",
     "output_type": "stream",
     "text": [
      "Range of values for atemp column:  -16.0 50.0\n"
     ]
    },
    {
     "data": {
      "text/plain": [
       "None"
      ]
     },
     "metadata": {},
     "output_type": "display_data"
    },
    {
     "name": "stdout",
     "output_type": "stream",
     "text": [
      "Range of values for windspeed column:  0.0 56.996900000000004\n"
     ]
    },
    {
     "data": {
      "text/plain": [
       "None"
      ]
     },
     "metadata": {},
     "output_type": "display_data"
    },
    {
     "name": "stdout",
     "output_type": "stream",
     "text": [
      "Range of values for humidity column:  0.0 1.0\n"
     ]
    },
    {
     "data": {
      "text/plain": [
       "None"
      ]
     },
     "metadata": {},
     "output_type": "display_data"
    },
    {
     "name": "stdout",
     "output_type": "stream",
     "text": [
      "Unique values for each column in bike dataset:  instant            17379\n",
      "date                 731\n",
      "season                 4\n",
      "year                   2\n",
      "month                 12\n",
      "hour                  24\n",
      "holiday                2\n",
      "weekday                7\n",
      "workingday             2\n",
      "weather                4\n",
      "temp                  50\n",
      "apparent_temp         65\n",
      "humidity              89\n",
      "windspeed             30\n",
      "casual_user          322\n",
      "registered_user      776\n",
      "count                869\n",
      "dtype: int64\n"
     ]
    },
    {
     "data": {
      "text/plain": [
       "None"
      ]
     },
     "metadata": {},
     "output_type": "display_data"
    },
    {
     "data": {
      "text/html": [
       "<div>\n",
       "<style scoped>\n",
       "    .dataframe tbody tr th:only-of-type {\n",
       "        vertical-align: middle;\n",
       "    }\n",
       "\n",
       "    .dataframe tbody tr th {\n",
       "        vertical-align: top;\n",
       "    }\n",
       "\n",
       "    .dataframe thead th {\n",
       "        text-align: right;\n",
       "    }\n",
       "</style>\n",
       "<table border=\"1\" class=\"dataframe\">\n",
       "  <thead>\n",
       "    <tr style=\"text-align: right;\">\n",
       "      <th></th>\n",
       "      <th>instant</th>\n",
       "      <th>date</th>\n",
       "      <th>season</th>\n",
       "      <th>year</th>\n",
       "      <th>month</th>\n",
       "      <th>hour</th>\n",
       "      <th>holiday</th>\n",
       "      <th>weekday</th>\n",
       "      <th>workingday</th>\n",
       "      <th>weather</th>\n",
       "      <th>temp</th>\n",
       "      <th>apparent_temp</th>\n",
       "      <th>humidity</th>\n",
       "      <th>windspeed</th>\n",
       "      <th>casual_user</th>\n",
       "      <th>registered_user</th>\n",
       "      <th>count</th>\n",
       "    </tr>\n",
       "  </thead>\n",
       "  <tbody>\n",
       "    <tr>\n",
       "      <th>0</th>\n",
       "      <td>1</td>\n",
       "      <td>2011-01-01</td>\n",
       "      <td>Winter</td>\n",
       "      <td>2011</td>\n",
       "      <td>January</td>\n",
       "      <td>0</td>\n",
       "      <td>No</td>\n",
       "      <td>Sunday</td>\n",
       "      <td>No</td>\n",
       "      <td>Clear</td>\n",
       "      <td>3.28</td>\n",
       "      <td>3.0014</td>\n",
       "      <td>0.81</td>\n",
       "      <td>0.0</td>\n",
       "      <td>3</td>\n",
       "      <td>13</td>\n",
       "      <td>16</td>\n",
       "    </tr>\n",
       "    <tr>\n",
       "      <th>1</th>\n",
       "      <td>2</td>\n",
       "      <td>2011-01-01</td>\n",
       "      <td>Winter</td>\n",
       "      <td>2011</td>\n",
       "      <td>January</td>\n",
       "      <td>1</td>\n",
       "      <td>No</td>\n",
       "      <td>Sunday</td>\n",
       "      <td>No</td>\n",
       "      <td>Clear</td>\n",
       "      <td>2.34</td>\n",
       "      <td>1.9982</td>\n",
       "      <td>0.80</td>\n",
       "      <td>0.0</td>\n",
       "      <td>8</td>\n",
       "      <td>32</td>\n",
       "      <td>40</td>\n",
       "    </tr>\n",
       "    <tr>\n",
       "      <th>2</th>\n",
       "      <td>3</td>\n",
       "      <td>2011-01-01</td>\n",
       "      <td>Winter</td>\n",
       "      <td>2011</td>\n",
       "      <td>January</td>\n",
       "      <td>2</td>\n",
       "      <td>No</td>\n",
       "      <td>Sunday</td>\n",
       "      <td>No</td>\n",
       "      <td>Clear</td>\n",
       "      <td>2.34</td>\n",
       "      <td>1.9982</td>\n",
       "      <td>0.80</td>\n",
       "      <td>0.0</td>\n",
       "      <td>5</td>\n",
       "      <td>27</td>\n",
       "      <td>32</td>\n",
       "    </tr>\n",
       "    <tr>\n",
       "      <th>3</th>\n",
       "      <td>4</td>\n",
       "      <td>2011-01-01</td>\n",
       "      <td>Winter</td>\n",
       "      <td>2011</td>\n",
       "      <td>January</td>\n",
       "      <td>3</td>\n",
       "      <td>No</td>\n",
       "      <td>Sunday</td>\n",
       "      <td>No</td>\n",
       "      <td>Clear</td>\n",
       "      <td>3.28</td>\n",
       "      <td>3.0014</td>\n",
       "      <td>0.75</td>\n",
       "      <td>0.0</td>\n",
       "      <td>3</td>\n",
       "      <td>10</td>\n",
       "      <td>13</td>\n",
       "    </tr>\n",
       "    <tr>\n",
       "      <th>4</th>\n",
       "      <td>5</td>\n",
       "      <td>2011-01-01</td>\n",
       "      <td>Winter</td>\n",
       "      <td>2011</td>\n",
       "      <td>January</td>\n",
       "      <td>4</td>\n",
       "      <td>No</td>\n",
       "      <td>Sunday</td>\n",
       "      <td>No</td>\n",
       "      <td>Clear</td>\n",
       "      <td>3.28</td>\n",
       "      <td>3.0014</td>\n",
       "      <td>0.75</td>\n",
       "      <td>0.0</td>\n",
       "      <td>0</td>\n",
       "      <td>1</td>\n",
       "      <td>1</td>\n",
       "    </tr>\n",
       "  </tbody>\n",
       "</table>\n",
       "</div>"
      ],
      "text/plain": [
       "   instant       date  season  year    month  hour holiday weekday workingday  \\\n",
       "0        1 2011-01-01  Winter  2011  January     0      No  Sunday         No   \n",
       "1        2 2011-01-01  Winter  2011  January     1      No  Sunday         No   \n",
       "2        3 2011-01-01  Winter  2011  January     2      No  Sunday         No   \n",
       "3        4 2011-01-01  Winter  2011  January     3      No  Sunday         No   \n",
       "4        5 2011-01-01  Winter  2011  January     4      No  Sunday         No   \n",
       "\n",
       "  weather  temp  apparent_temp  humidity  windspeed  casual_user  \\\n",
       "0   Clear  3.28         3.0014      0.81        0.0            3   \n",
       "1   Clear  2.34         1.9982      0.80        0.0            8   \n",
       "2   Clear  2.34         1.9982      0.80        0.0            5   \n",
       "3   Clear  3.28         3.0014      0.75        0.0            3   \n",
       "4   Clear  3.28         3.0014      0.75        0.0            0   \n",
       "\n",
       "   registered_user  count  \n",
       "0               13     16  \n",
       "1               32     40  \n",
       "2               27     32  \n",
       "3               10     13  \n",
       "4                1      1  "
      ]
     },
     "metadata": {},
     "output_type": "display_data"
    }
   ],
   "source": [
    "# rename names and values in columns to make them look human readable\n",
    "# change the values of holiday column to month names\n",
    "bike.loc[bike['holiday'] == 0, 'holiday'] = 'No'\n",
    "bike.loc[bike['holiday'] == 1, 'holiday'] = 'Yes'\n",
    "\n",
    "# change the values of season column to month names\n",
    "\n",
    "bike.loc[bike['season'] == 1, 'season'] = 'Winter'\n",
    "bike.loc[bike['season'] == 2, 'season'] = 'Spring'\n",
    "bike.loc[bike['season'] == 3, 'season'] = 'Summer'\n",
    "bike.loc[bike['season'] == 4, 'season'] = 'Fall'\n",
    "\n",
    "# change the values of workingday column to month names\n",
    "\n",
    "bike.loc[bike['workingday'] == 0, 'workingday'] = 'No'\n",
    "bike.loc[bike['workingday'] == 1, 'workingday'] = 'Yes'\n",
    "\n",
    "# change the values of weather column to month names\n",
    "\n",
    "bike.loc[bike['weather'] == 1, 'weather'] = 'Clear'\n",
    "bike.loc[bike['weather'] == 2, 'weather'] = 'Mist-Cloudy'\n",
    "bike.loc[bike['weather'] == 3, 'weather'] = 'Light-Rain'\n",
    "bike.loc[bike['weather'] == 4, 'weather'] = 'Heavy-Rain'\n",
    "\n",
    "# change the values of weekday column to month names\n",
    "\n",
    "bike.loc[bike['weekday'] == 0, 'weekday'] = 'Monday'\n",
    "bike.loc[bike['weekday'] == 1, 'weekday'] = 'Tuesday'\n",
    "bike.loc[bike['weekday'] == 2, 'weekday'] = 'Wednesday'\n",
    "bike.loc[bike['weekday'] == 3, 'weekday'] = 'Thursday'\n",
    "bike.loc[bike['weekday'] == 4, 'weekday'] = 'Friday'\n",
    "bike.loc[bike['weekday'] == 5, 'weekday'] = 'Saturday'\n",
    "bike.loc[bike['weekday'] == 6, 'weekday'] = 'Sunday'\n",
    "\n",
    "# temp column: normalize temperature in celsius. Formula: (t-t_min)/(t_max-t_min), t_min=-8, t_max=+39 (from dataset description)\n",
    "t_min = -8  # Minimum temperature value in Celsius\n",
    "t_max = 39  # Maximum temperature value in Celsius\n",
    "\n",
    "# Convert normalized temperature values back to Celsius\n",
    "bike['temp'] = bike['temp'].apply(lambda x: (x*(t_max-t_min))+t_min)\n",
    "\n",
    "# display the range of values for temp column\n",
    "display(print('Range of values for temp column: ', bike['temp'].min(), bike['temp'].max()))\n",
    "\n",
    "# atemp column: normalize feeling temperature in celsius. Formula: (t-t_min)/(t_max-t_min), t_min=-16, t_max=+50 (from dataset description)\n",
    "at_min=-16\n",
    "at_max=+50\n",
    "\n",
    "# Convert normalized feeling temperature values back to Celsius\n",
    "bike['apparent_temp'] = bike['apparent_temp'].apply(lambda x: (x*(at_max-at_min))+at_min)\n",
    "\n",
    "# display the range of values for atemp column\n",
    "display(print('Range of values for atemp column: ', bike['apparent_temp'].min(), bike['apparent_temp'].max()))\n",
    "\n",
    "# hum column: normalize humidity. Formula: (hum-hum_min)/(hum_max-hum_min), hum_min=0, hum_max=1 (from dataset description)\n",
    "bike['humidity'] = bike['humidity'].apply(lambda x: x/100)\n",
    "\n",
    "# windspeed column: Normalized wind speed. The values are divided to 67 (max) (from dataset description)\n",
    "windspeed_min=0\n",
    "windspeed_max=0.85\n",
    "\n",
    "# Convert normalized windspeed values back to not normalized values (km/h) The values are divided to 67 (from dataset description)       \n",
    "bike['windspeed'] = bike['windspeed'].apply(lambda x: (x * 67))\n",
    "\n",
    "# display the range of values for windspeed column\n",
    "display(print('Range of values for windspeed column: ', bike['windspeed'].min(), bike['windspeed'].max()))\n",
    "\n",
    "# change the values of humidity column to percentage\n",
    "bike['humidity'] = bike['humidity'].apply(lambda x: x*100)\n",
    "\n",
    "# print the range of values for humidity column\n",
    "display(print('Range of values for humidity column: ', bike['humidity'].min(), bike['humidity'].max()))\n",
    "\n",
    "# change the values of month column to month names\n",
    "\n",
    "bike.loc[bike['month'] == 1, 'month'] = 'January'\n",
    "bike.loc[bike['month'] == 2, 'month'] = 'February'\n",
    "bike.loc[bike['month'] == 3, 'month'] = 'March'\n",
    "bike.loc[bike['month'] == 4, 'month'] = 'April'\n",
    "bike.loc[bike['month'] == 5, 'month'] = 'May'\n",
    "bike.loc[bike['month'] == 6, 'month'] = 'June'\n",
    "bike.loc[bike['month'] == 7, 'month'] = 'July'\n",
    "bike.loc[bike['month'] == 8, 'month'] = 'August'\n",
    "bike.loc[bike['month'] == 9, 'month'] = 'September'\n",
    "bike.loc[bike['month'] == 10, 'month'] = 'October'\n",
    "bike.loc[bike['month'] == 11, 'month'] = 'November'\n",
    "bike.loc[bike['month'] == 12, 'month'] = 'December'\n",
    "\n",
    "bike.loc[bike['year'] == 0, 'year'] = '2011'\n",
    "bike.loc[bike['year'] == 1, 'year'] = '2012'\n",
    "\n",
    "\n",
    "# check the unique values for each column in bike dataset\n",
    "display(print('Unique values for each column in bike dataset: ', bike.nunique()))\n",
    "\n",
    "# print the first 5 rows of the bike dataset to check the changes made to the columns names and values\n",
    "display(bike.head())"
   ]
  },
  {
   "cell_type": "code",
   "execution_count": 104,
   "metadata": {},
   "outputs": [
    {
     "data": {
      "text/html": [
       "<div>\n",
       "<style scoped>\n",
       "    .dataframe tbody tr th:only-of-type {\n",
       "        vertical-align: middle;\n",
       "    }\n",
       "\n",
       "    .dataframe tbody tr th {\n",
       "        vertical-align: top;\n",
       "    }\n",
       "\n",
       "    .dataframe thead th {\n",
       "        text-align: right;\n",
       "    }\n",
       "</style>\n",
       "<table border=\"1\" class=\"dataframe\">\n",
       "  <thead>\n",
       "    <tr style=\"text-align: right;\">\n",
       "      <th></th>\n",
       "      <th>instant</th>\n",
       "      <th>hour</th>\n",
       "      <th>temp</th>\n",
       "      <th>apparent_temp</th>\n",
       "      <th>humidity</th>\n",
       "      <th>windspeed</th>\n",
       "      <th>casual_user</th>\n",
       "      <th>registered_user</th>\n",
       "      <th>count</th>\n",
       "    </tr>\n",
       "  </thead>\n",
       "  <tbody>\n",
       "    <tr>\n",
       "      <th>count</th>\n",
       "      <td>17379.0000</td>\n",
       "      <td>17379.000000</td>\n",
       "      <td>17379.000000</td>\n",
       "      <td>17379.000000</td>\n",
       "      <td>17379.000000</td>\n",
       "      <td>17379.000000</td>\n",
       "      <td>17379.000000</td>\n",
       "      <td>17379.000000</td>\n",
       "      <td>17379.000000</td>\n",
       "    </tr>\n",
       "    <tr>\n",
       "      <th>mean</th>\n",
       "      <td>8690.0000</td>\n",
       "      <td>11.546752</td>\n",
       "      <td>15.358397</td>\n",
       "      <td>15.401157</td>\n",
       "      <td>0.627229</td>\n",
       "      <td>12.736540</td>\n",
       "      <td>35.676218</td>\n",
       "      <td>153.786869</td>\n",
       "      <td>189.463088</td>\n",
       "    </tr>\n",
       "    <tr>\n",
       "      <th>std</th>\n",
       "      <td>5017.0295</td>\n",
       "      <td>6.914405</td>\n",
       "      <td>9.050138</td>\n",
       "      <td>11.342114</td>\n",
       "      <td>0.192930</td>\n",
       "      <td>8.196795</td>\n",
       "      <td>49.305030</td>\n",
       "      <td>151.357286</td>\n",
       "      <td>181.387599</td>\n",
       "    </tr>\n",
       "    <tr>\n",
       "      <th>min</th>\n",
       "      <td>1.0000</td>\n",
       "      <td>0.000000</td>\n",
       "      <td>-7.060000</td>\n",
       "      <td>-16.000000</td>\n",
       "      <td>0.000000</td>\n",
       "      <td>0.000000</td>\n",
       "      <td>0.000000</td>\n",
       "      <td>0.000000</td>\n",
       "      <td>1.000000</td>\n",
       "    </tr>\n",
       "    <tr>\n",
       "      <th>25%</th>\n",
       "      <td>4345.5000</td>\n",
       "      <td>6.000000</td>\n",
       "      <td>7.980000</td>\n",
       "      <td>5.997800</td>\n",
       "      <td>0.480000</td>\n",
       "      <td>7.001500</td>\n",
       "      <td>4.000000</td>\n",
       "      <td>34.000000</td>\n",
       "      <td>40.000000</td>\n",
       "    </tr>\n",
       "    <tr>\n",
       "      <th>50%</th>\n",
       "      <td>8690.0000</td>\n",
       "      <td>12.000000</td>\n",
       "      <td>15.500000</td>\n",
       "      <td>15.996800</td>\n",
       "      <td>0.630000</td>\n",
       "      <td>12.998000</td>\n",
       "      <td>17.000000</td>\n",
       "      <td>115.000000</td>\n",
       "      <td>142.000000</td>\n",
       "    </tr>\n",
       "    <tr>\n",
       "      <th>75%</th>\n",
       "      <td>13034.5000</td>\n",
       "      <td>18.000000</td>\n",
       "      <td>23.020000</td>\n",
       "      <td>24.999200</td>\n",
       "      <td>0.780000</td>\n",
       "      <td>16.997900</td>\n",
       "      <td>48.000000</td>\n",
       "      <td>220.000000</td>\n",
       "      <td>281.000000</td>\n",
       "    </tr>\n",
       "    <tr>\n",
       "      <th>max</th>\n",
       "      <td>17379.0000</td>\n",
       "      <td>23.000000</td>\n",
       "      <td>39.000000</td>\n",
       "      <td>50.000000</td>\n",
       "      <td>1.000000</td>\n",
       "      <td>56.996900</td>\n",
       "      <td>367.000000</td>\n",
       "      <td>886.000000</td>\n",
       "      <td>977.000000</td>\n",
       "    </tr>\n",
       "  </tbody>\n",
       "</table>\n",
       "</div>"
      ],
      "text/plain": [
       "          instant          hour          temp  apparent_temp      humidity  \\\n",
       "count  17379.0000  17379.000000  17379.000000   17379.000000  17379.000000   \n",
       "mean    8690.0000     11.546752     15.358397      15.401157      0.627229   \n",
       "std     5017.0295      6.914405      9.050138      11.342114      0.192930   \n",
       "min        1.0000      0.000000     -7.060000     -16.000000      0.000000   \n",
       "25%     4345.5000      6.000000      7.980000       5.997800      0.480000   \n",
       "50%     8690.0000     12.000000     15.500000      15.996800      0.630000   \n",
       "75%    13034.5000     18.000000     23.020000      24.999200      0.780000   \n",
       "max    17379.0000     23.000000     39.000000      50.000000      1.000000   \n",
       "\n",
       "          windspeed   casual_user  registered_user         count  \n",
       "count  17379.000000  17379.000000     17379.000000  17379.000000  \n",
       "mean      12.736540     35.676218       153.786869    189.463088  \n",
       "std        8.196795     49.305030       151.357286    181.387599  \n",
       "min        0.000000      0.000000         0.000000      1.000000  \n",
       "25%        7.001500      4.000000        34.000000     40.000000  \n",
       "50%       12.998000     17.000000       115.000000    142.000000  \n",
       "75%       16.997900     48.000000       220.000000    281.000000  \n",
       "max       56.996900    367.000000       886.000000    977.000000  "
      ]
     },
     "metadata": {},
     "output_type": "display_data"
    },
    {
     "data": {
      "text/html": [
       "<div>\n",
       "<style scoped>\n",
       "    .dataframe tbody tr th:only-of-type {\n",
       "        vertical-align: middle;\n",
       "    }\n",
       "\n",
       "    .dataframe tbody tr th {\n",
       "        vertical-align: top;\n",
       "    }\n",
       "\n",
       "    .dataframe thead th {\n",
       "        text-align: right;\n",
       "    }\n",
       "</style>\n",
       "<table border=\"1\" class=\"dataframe\">\n",
       "  <thead>\n",
       "    <tr style=\"text-align: right;\">\n",
       "      <th></th>\n",
       "      <th>instant</th>\n",
       "      <th>hour</th>\n",
       "      <th>temp</th>\n",
       "      <th>apparent_temp</th>\n",
       "      <th>humidity</th>\n",
       "      <th>windspeed</th>\n",
       "      <th>casual_user</th>\n",
       "      <th>registered_user</th>\n",
       "      <th>count</th>\n",
       "    </tr>\n",
       "  </thead>\n",
       "  <tbody>\n",
       "    <tr>\n",
       "      <th>count</th>\n",
       "      <td>17379.0000</td>\n",
       "      <td>17379.000000</td>\n",
       "      <td>17379.000000</td>\n",
       "      <td>17379.000000</td>\n",
       "      <td>17379.000000</td>\n",
       "      <td>17379.000000</td>\n",
       "      <td>17379.000000</td>\n",
       "      <td>17379.000000</td>\n",
       "      <td>17379.000000</td>\n",
       "    </tr>\n",
       "    <tr>\n",
       "      <th>mean</th>\n",
       "      <td>8690.0000</td>\n",
       "      <td>11.546752</td>\n",
       "      <td>15.358397</td>\n",
       "      <td>15.401157</td>\n",
       "      <td>0.627229</td>\n",
       "      <td>12.736540</td>\n",
       "      <td>35.676218</td>\n",
       "      <td>153.786869</td>\n",
       "      <td>189.463088</td>\n",
       "    </tr>\n",
       "    <tr>\n",
       "      <th>std</th>\n",
       "      <td>5017.0295</td>\n",
       "      <td>6.914405</td>\n",
       "      <td>9.050138</td>\n",
       "      <td>11.342114</td>\n",
       "      <td>0.192930</td>\n",
       "      <td>8.196795</td>\n",
       "      <td>49.305030</td>\n",
       "      <td>151.357286</td>\n",
       "      <td>181.387599</td>\n",
       "    </tr>\n",
       "    <tr>\n",
       "      <th>min</th>\n",
       "      <td>1.0000</td>\n",
       "      <td>0.000000</td>\n",
       "      <td>-7.060000</td>\n",
       "      <td>-16.000000</td>\n",
       "      <td>0.000000</td>\n",
       "      <td>0.000000</td>\n",
       "      <td>0.000000</td>\n",
       "      <td>0.000000</td>\n",
       "      <td>1.000000</td>\n",
       "    </tr>\n",
       "    <tr>\n",
       "      <th>25%</th>\n",
       "      <td>4345.5000</td>\n",
       "      <td>6.000000</td>\n",
       "      <td>7.980000</td>\n",
       "      <td>5.997800</td>\n",
       "      <td>0.480000</td>\n",
       "      <td>7.001500</td>\n",
       "      <td>4.000000</td>\n",
       "      <td>34.000000</td>\n",
       "      <td>40.000000</td>\n",
       "    </tr>\n",
       "    <tr>\n",
       "      <th>50%</th>\n",
       "      <td>8690.0000</td>\n",
       "      <td>12.000000</td>\n",
       "      <td>15.500000</td>\n",
       "      <td>15.996800</td>\n",
       "      <td>0.630000</td>\n",
       "      <td>12.998000</td>\n",
       "      <td>17.000000</td>\n",
       "      <td>115.000000</td>\n",
       "      <td>142.000000</td>\n",
       "    </tr>\n",
       "    <tr>\n",
       "      <th>75%</th>\n",
       "      <td>13034.5000</td>\n",
       "      <td>18.000000</td>\n",
       "      <td>23.020000</td>\n",
       "      <td>24.999200</td>\n",
       "      <td>0.780000</td>\n",
       "      <td>16.997900</td>\n",
       "      <td>48.000000</td>\n",
       "      <td>220.000000</td>\n",
       "      <td>281.000000</td>\n",
       "    </tr>\n",
       "    <tr>\n",
       "      <th>max</th>\n",
       "      <td>17379.0000</td>\n",
       "      <td>23.000000</td>\n",
       "      <td>39.000000</td>\n",
       "      <td>50.000000</td>\n",
       "      <td>1.000000</td>\n",
       "      <td>56.996900</td>\n",
       "      <td>367.000000</td>\n",
       "      <td>886.000000</td>\n",
       "      <td>977.000000</td>\n",
       "    </tr>\n",
       "  </tbody>\n",
       "</table>\n",
       "</div>"
      ],
      "text/plain": [
       "          instant          hour          temp  apparent_temp      humidity  \\\n",
       "count  17379.0000  17379.000000  17379.000000   17379.000000  17379.000000   \n",
       "mean    8690.0000     11.546752     15.358397      15.401157      0.627229   \n",
       "std     5017.0295      6.914405      9.050138      11.342114      0.192930   \n",
       "min        1.0000      0.000000     -7.060000     -16.000000      0.000000   \n",
       "25%     4345.5000      6.000000      7.980000       5.997800      0.480000   \n",
       "50%     8690.0000     12.000000     15.500000      15.996800      0.630000   \n",
       "75%    13034.5000     18.000000     23.020000      24.999200      0.780000   \n",
       "max    17379.0000     23.000000     39.000000      50.000000      1.000000   \n",
       "\n",
       "          windspeed   casual_user  registered_user         count  \n",
       "count  17379.000000  17379.000000     17379.000000  17379.000000  \n",
       "mean      12.736540     35.676218       153.786869    189.463088  \n",
       "std        8.196795     49.305030       151.357286    181.387599  \n",
       "min        0.000000      0.000000         0.000000      1.000000  \n",
       "25%        7.001500      4.000000        34.000000     40.000000  \n",
       "50%       12.998000     17.000000       115.000000    142.000000  \n",
       "75%       16.997900     48.000000       220.000000    281.000000  \n",
       "max       56.996900    367.000000       886.000000    977.000000  "
      ]
     },
     "metadata": {},
     "output_type": "display_data"
    }
   ],
   "source": [
    "# check the descriptive statistics for the bike and hours dataset\n",
    "display(bike.describe())\n",
    "display(hour.describe())"
   ]
  },
  {
   "cell_type": "code",
   "execution_count": 105,
   "metadata": {},
   "outputs": [],
   "source": [
    "# transform the data type for the columns in the bike dataset into category in order to make them usable for the future analysis\n",
    "bike['year'] = bike['year'].astype('datetime64[ns]')\n",
    "bike['month'] = bike['month'].astype('category')\n",
    "bike['weekday'] = bike['weekday'].astype('category')\n",
    "bike['season'] = bike['season'].astype('category')\n",
    "bike['weather'] = bike['weather'].astype('category')\n",
    "bike['holiday'] = bike['holiday'].astype('category')\n",
    "bike['workingday'] = bike['workingday'].astype('category')"
   ]
  },
  {
   "cell_type": "code",
   "execution_count": 106,
   "metadata": {},
   "outputs": [],
   "source": [
    "# create a new column name called day_period to classify the hour in the dataset‚\n",
    "# create a function to classify the hour\n",
    "def day_period(hour):\n",
    "    if hour >= 0 and hour <= 6:\n",
    "        return 'Dawn'\n",
    "    elif hour > 6 and hour <= 12:\n",
    "        return 'Morning'\n",
    "    elif hour > 12 and hour <= 18:\n",
    "        return 'Afternoon'\n",
    "    else:\n",
    "        return 'Night'\n",
    "\n",
    "# apply the function to the column hour\n",
    "bike['day_period'] = bike['hour'].apply(day_period)"
   ]
  },
  {
   "cell_type": "code",
   "execution_count": 107,
   "metadata": {},
   "outputs": [
    {
     "name": "stdout",
     "output_type": "stream",
     "text": [
      "Values of the column warmness:  ['Cold' 'Warm' 'Hot' 'Very Hot']\n"
     ]
    }
   ],
   "source": [
    "# Create a new column name called warmness to classify the apparent_temperature in the dataset\n",
    "# create a function to classify the apparent_temperature\n",
    "def warmness(apparent_temp):\n",
    "    if apparent_temp <= 12:\n",
    "        return 'Cold'\n",
    "    elif apparent_temp > 12 and apparent_temp <= 20:\n",
    "        return 'Warm'\n",
    "    elif apparent_temp > 20 and apparent_temp <= 30:\n",
    "        return 'Hot'\n",
    "    else:\n",
    "        return 'Very Hot'\n",
    "    \n",
    "# apply the function to the column apparent_temp\n",
    "bike['warmness'] = bike['apparent_temp'].apply(warmness)\n",
    "\n",
    "# check the values of the column warmness\n",
    "print('Values of the column warmness: ', bike['warmness'].unique())"
   ]
  },
  {
   "cell_type": "code",
   "execution_count": 108,
   "metadata": {},
   "outputs": [
    {
     "name": "stdout",
     "output_type": "stream",
     "text": [
      "Values of the column humidity_level:  ['High' 'Medium' 'Low']\n"
     ]
    }
   ],
   "source": [
    "# Create a new column name called humidity_level to classify the humidity in the dataset\n",
    "# create a function to classify the humidity\n",
    "def humidity_level(humidity):\n",
    "    if humidity <= 0.40:\n",
    "        return 'Low'\n",
    "    elif humidity > 0.40 and humidity <= 0.70:\n",
    "        return 'Medium'\n",
    "    else:\n",
    "        return 'High'\n",
    "    \n",
    "# apply the function to the column humidity\n",
    "bike['humidity_level'] = bike['humidity'].apply(humidity_level)\n",
    "\n",
    "# check the values of the column humidity_level\n",
    "print('Values of the column humidity_level: ', bike['humidity_level'].unique())"
   ]
  },
  {
   "cell_type": "code",
   "execution_count": 109,
   "metadata": {},
   "outputs": [
    {
     "name": "stdout",
     "output_type": "stream",
     "text": [
      "Values of the column windspeed_level:  ['Low' 'Medium' 'High']\n"
     ]
    }
   ],
   "source": [
    "# create a function to classify the windspeed\n",
    "def windspeed_level(windspeed):\n",
    "    if windspeed <= 10:\n",
    "        return 'Low'\n",
    "    elif windspeed > 10 and windspeed <= 20:\n",
    "        return 'Medium'\n",
    "    else:\n",
    "        return 'High'\n",
    "\n",
    "# apply the function to the column windspeed\n",
    "bike['windspeed_level'] = bike['windspeed'].apply(windspeed_level)\n",
    "\n",
    "# check the values of the column windspeed_level\n",
    "print('Values of the column windspeed_level: ', bike['windspeed_level'].unique())"
   ]
  },
  {
   "cell_type": "code",
   "execution_count": 110,
   "metadata": {},
   "outputs": [],
   "source": [
    "# export the bike dataset to a csv file to the datasets folder\n",
    "bike.to_csv('/Users/maximilianolopezsalgado/data_projects/capital_bike_sharing/datasets/bike_clean.csv', index=False)"
   ]
  },
  {
   "cell_type": "code",
   "execution_count": 111,
   "metadata": {},
   "outputs": [],
   "source": [
    "### Enrich the original dataset with the other datasets"
   ]
  },
  {
   "cell_type": "code",
   "execution_count": 112,
   "metadata": {},
   "outputs": [
    {
     "data": {
      "text/html": [
       "<div>\n",
       "<style scoped>\n",
       "    .dataframe tbody tr th:only-of-type {\n",
       "        vertical-align: middle;\n",
       "    }\n",
       "\n",
       "    .dataframe tbody tr th {\n",
       "        vertical-align: top;\n",
       "    }\n",
       "\n",
       "    .dataframe thead th {\n",
       "        text-align: right;\n",
       "    }\n",
       "</style>\n",
       "<table border=\"1\" class=\"dataframe\">\n",
       "  <thead>\n",
       "    <tr style=\"text-align: right;\">\n",
       "      <th></th>\n",
       "      <th>Duration</th>\n",
       "      <th>Start date</th>\n",
       "      <th>End date</th>\n",
       "      <th>Start station number</th>\n",
       "      <th>Start station</th>\n",
       "      <th>End station number</th>\n",
       "      <th>End station</th>\n",
       "      <th>Bike number</th>\n",
       "      <th>Member type</th>\n",
       "    </tr>\n",
       "  </thead>\n",
       "  <tbody>\n",
       "    <tr>\n",
       "      <th>0</th>\n",
       "      <td>3548</td>\n",
       "      <td>2011-01-01 00:01:29</td>\n",
       "      <td>2011-01-01 01:00:37</td>\n",
       "      <td>31620</td>\n",
       "      <td>5th &amp; F St NW</td>\n",
       "      <td>31620</td>\n",
       "      <td>5th &amp; F St NW</td>\n",
       "      <td>W00247</td>\n",
       "      <td>Member</td>\n",
       "    </tr>\n",
       "    <tr>\n",
       "      <th>1</th>\n",
       "      <td>346</td>\n",
       "      <td>2011-01-01 00:02:46</td>\n",
       "      <td>2011-01-01 00:08:32</td>\n",
       "      <td>31105</td>\n",
       "      <td>14th &amp; Harvard St NW</td>\n",
       "      <td>31101</td>\n",
       "      <td>14th &amp; V St NW</td>\n",
       "      <td>W00675</td>\n",
       "      <td>Casual</td>\n",
       "    </tr>\n",
       "    <tr>\n",
       "      <th>2</th>\n",
       "      <td>562</td>\n",
       "      <td>2011-01-01 00:06:13</td>\n",
       "      <td>2011-01-01 00:15:36</td>\n",
       "      <td>31400</td>\n",
       "      <td>Georgia &amp; New Hampshire Ave NW</td>\n",
       "      <td>31104</td>\n",
       "      <td>Adams Mill &amp; Columbia Rd NW</td>\n",
       "      <td>W00357</td>\n",
       "      <td>Member</td>\n",
       "    </tr>\n",
       "    <tr>\n",
       "      <th>3</th>\n",
       "      <td>434</td>\n",
       "      <td>2011-01-01 00:09:21</td>\n",
       "      <td>2011-01-01 00:16:36</td>\n",
       "      <td>31111</td>\n",
       "      <td>10th &amp; U St NW</td>\n",
       "      <td>31503</td>\n",
       "      <td>Florida Ave &amp; R St NW</td>\n",
       "      <td>W00970</td>\n",
       "      <td>Member</td>\n",
       "    </tr>\n",
       "    <tr>\n",
       "      <th>4</th>\n",
       "      <td>233</td>\n",
       "      <td>2011-01-01 00:28:26</td>\n",
       "      <td>2011-01-01 00:32:19</td>\n",
       "      <td>31104</td>\n",
       "      <td>Adams Mill &amp; Columbia Rd NW</td>\n",
       "      <td>31106</td>\n",
       "      <td>Calvert &amp; Biltmore St NW</td>\n",
       "      <td>W00346</td>\n",
       "      <td>Casual</td>\n",
       "    </tr>\n",
       "  </tbody>\n",
       "</table>\n",
       "</div>"
      ],
      "text/plain": [
       "   Duration           Start date             End date  Start station number  \\\n",
       "0      3548  2011-01-01 00:01:29  2011-01-01 01:00:37                 31620   \n",
       "1       346  2011-01-01 00:02:46  2011-01-01 00:08:32                 31105   \n",
       "2       562  2011-01-01 00:06:13  2011-01-01 00:15:36                 31400   \n",
       "3       434  2011-01-01 00:09:21  2011-01-01 00:16:36                 31111   \n",
       "4       233  2011-01-01 00:28:26  2011-01-01 00:32:19                 31104   \n",
       "\n",
       "                    Start station  End station number  \\\n",
       "0                   5th & F St NW               31620   \n",
       "1            14th & Harvard St NW               31101   \n",
       "2  Georgia & New Hampshire Ave NW               31104   \n",
       "3                  10th & U St NW               31503   \n",
       "4     Adams Mill & Columbia Rd NW               31106   \n",
       "\n",
       "                   End station Bike number Member type  \n",
       "0                5th & F St NW      W00247      Member  \n",
       "1               14th & V St NW      W00675      Casual  \n",
       "2  Adams Mill & Columbia Rd NW      W00357      Member  \n",
       "3        Florida Ave & R St NW      W00970      Member  \n",
       "4     Calvert & Biltmore St NW      W00346      Casual  "
      ]
     },
     "metadata": {},
     "output_type": "display_data"
    },
    {
     "data": {
      "text/html": [
       "<div>\n",
       "<style scoped>\n",
       "    .dataframe tbody tr th:only-of-type {\n",
       "        vertical-align: middle;\n",
       "    }\n",
       "\n",
       "    .dataframe tbody tr th {\n",
       "        vertical-align: top;\n",
       "    }\n",
       "\n",
       "    .dataframe thead th {\n",
       "        text-align: right;\n",
       "    }\n",
       "</style>\n",
       "<table border=\"1\" class=\"dataframe\">\n",
       "  <thead>\n",
       "    <tr style=\"text-align: right;\">\n",
       "      <th></th>\n",
       "      <th>Duration</th>\n",
       "      <th>Start date</th>\n",
       "      <th>End date</th>\n",
       "      <th>Start station number</th>\n",
       "      <th>Start station</th>\n",
       "      <th>End station number</th>\n",
       "      <th>End station</th>\n",
       "      <th>Bike number</th>\n",
       "      <th>Member type</th>\n",
       "    </tr>\n",
       "  </thead>\n",
       "  <tbody>\n",
       "    <tr>\n",
       "      <th>0</th>\n",
       "      <td>475</td>\n",
       "      <td>2012-01-01 00:04:00</td>\n",
       "      <td>2012-01-01 00:11:56</td>\n",
       "      <td>31245</td>\n",
       "      <td>7th &amp; R St NW / Shaw Library</td>\n",
       "      <td>31109</td>\n",
       "      <td>7th &amp; T St NW</td>\n",
       "      <td>W01412</td>\n",
       "      <td>Member</td>\n",
       "    </tr>\n",
       "    <tr>\n",
       "      <th>1</th>\n",
       "      <td>1162</td>\n",
       "      <td>2012-01-01 00:10:05</td>\n",
       "      <td>2012-01-01 00:29:28</td>\n",
       "      <td>31400</td>\n",
       "      <td>Georgia &amp; New Hampshire Ave NW</td>\n",
       "      <td>31103</td>\n",
       "      <td>16th &amp; Harvard St NW</td>\n",
       "      <td>W00524</td>\n",
       "      <td>Casual</td>\n",
       "    </tr>\n",
       "    <tr>\n",
       "      <th>2</th>\n",
       "      <td>1145</td>\n",
       "      <td>2012-01-01 00:10:23</td>\n",
       "      <td>2012-01-01 00:29:28</td>\n",
       "      <td>31400</td>\n",
       "      <td>Georgia &amp; New Hampshire Ave NW</td>\n",
       "      <td>31103</td>\n",
       "      <td>16th &amp; Harvard St NW</td>\n",
       "      <td>W00235</td>\n",
       "      <td>Member</td>\n",
       "    </tr>\n",
       "    <tr>\n",
       "      <th>3</th>\n",
       "      <td>485</td>\n",
       "      <td>2012-01-01 00:15:41</td>\n",
       "      <td>2012-01-01 00:23:46</td>\n",
       "      <td>31101</td>\n",
       "      <td>14th &amp; V St NW</td>\n",
       "      <td>31602</td>\n",
       "      <td>Park Rd &amp; Holmead Pl NW</td>\n",
       "      <td>W00864</td>\n",
       "      <td>Member</td>\n",
       "    </tr>\n",
       "    <tr>\n",
       "      <th>4</th>\n",
       "      <td>471</td>\n",
       "      <td>2012-01-01 00:15:42</td>\n",
       "      <td>2012-01-01 00:23:34</td>\n",
       "      <td>31102</td>\n",
       "      <td>11th &amp; Kenyon St NW</td>\n",
       "      <td>31109</td>\n",
       "      <td>7th &amp; T St NW</td>\n",
       "      <td>W00995</td>\n",
       "      <td>Member</td>\n",
       "    </tr>\n",
       "  </tbody>\n",
       "</table>\n",
       "</div>"
      ],
      "text/plain": [
       "   Duration           Start date             End date  Start station number  \\\n",
       "0       475  2012-01-01 00:04:00  2012-01-01 00:11:56                 31245   \n",
       "1      1162  2012-01-01 00:10:05  2012-01-01 00:29:28                 31400   \n",
       "2      1145  2012-01-01 00:10:23  2012-01-01 00:29:28                 31400   \n",
       "3       485  2012-01-01 00:15:41  2012-01-01 00:23:46                 31101   \n",
       "4       471  2012-01-01 00:15:42  2012-01-01 00:23:34                 31102   \n",
       "\n",
       "                    Start station  End station number  \\\n",
       "0    7th & R St NW / Shaw Library               31109   \n",
       "1  Georgia & New Hampshire Ave NW               31103   \n",
       "2  Georgia & New Hampshire Ave NW               31103   \n",
       "3                  14th & V St NW               31602   \n",
       "4             11th & Kenyon St NW               31109   \n",
       "\n",
       "               End station Bike number Member type  \n",
       "0            7th & T St NW      W01412      Member  \n",
       "1     16th & Harvard St NW      W00524      Casual  \n",
       "2     16th & Harvard St NW      W00235      Member  \n",
       "3  Park Rd & Holmead Pl NW      W00864      Member  \n",
       "4            7th & T St NW      W00995      Member  "
      ]
     },
     "metadata": {},
     "output_type": "display_data"
    },
    {
     "data": {
      "text/html": [
       "<div>\n",
       "<style scoped>\n",
       "    .dataframe tbody tr th:only-of-type {\n",
       "        vertical-align: middle;\n",
       "    }\n",
       "\n",
       "    .dataframe tbody tr th {\n",
       "        vertical-align: top;\n",
       "    }\n",
       "\n",
       "    .dataframe thead th {\n",
       "        text-align: right;\n",
       "    }\n",
       "</style>\n",
       "<table border=\"1\" class=\"dataframe\">\n",
       "  <thead>\n",
       "    <tr style=\"text-align: right;\">\n",
       "      <th></th>\n",
       "      <th>Duration</th>\n",
       "      <th>Start date</th>\n",
       "      <th>End date</th>\n",
       "      <th>Start station number</th>\n",
       "      <th>Start station</th>\n",
       "      <th>End station number</th>\n",
       "      <th>End station</th>\n",
       "      <th>Bike number</th>\n",
       "      <th>Member type</th>\n",
       "    </tr>\n",
       "  </thead>\n",
       "  <tbody>\n",
       "    <tr>\n",
       "      <th>0</th>\n",
       "      <td>192</td>\n",
       "      <td>2012-04-01 00:01:13</td>\n",
       "      <td>2012-04-01 00:04:26</td>\n",
       "      <td>31237</td>\n",
       "      <td>25th St &amp; Pennsylvania Ave NW</td>\n",
       "      <td>31212</td>\n",
       "      <td>21st &amp; M St NW</td>\n",
       "      <td>W00663</td>\n",
       "      <td>Member</td>\n",
       "    </tr>\n",
       "    <tr>\n",
       "      <th>1</th>\n",
       "      <td>978</td>\n",
       "      <td>2012-04-01 00:01:49</td>\n",
       "      <td>2012-04-01 00:18:08</td>\n",
       "      <td>31225</td>\n",
       "      <td>C &amp; O Canal &amp; Wisconsin Ave NW</td>\n",
       "      <td>31228</td>\n",
       "      <td>8th &amp; H St NW</td>\n",
       "      <td>W00574</td>\n",
       "      <td>Member</td>\n",
       "    </tr>\n",
       "    <tr>\n",
       "      <th>2</th>\n",
       "      <td>843</td>\n",
       "      <td>2012-04-01 00:03:25</td>\n",
       "      <td>2012-04-01 00:17:28</td>\n",
       "      <td>31230</td>\n",
       "      <td>Metro Center / 12th &amp; G St NW</td>\n",
       "      <td>31201</td>\n",
       "      <td>15th &amp; P St NW</td>\n",
       "      <td>W00201</td>\n",
       "      <td>Member</td>\n",
       "    </tr>\n",
       "    <tr>\n",
       "      <th>3</th>\n",
       "      <td>408</td>\n",
       "      <td>2012-04-01 00:03:37</td>\n",
       "      <td>2012-04-01 00:10:26</td>\n",
       "      <td>31110</td>\n",
       "      <td>20th St &amp; Florida Ave NW</td>\n",
       "      <td>31239</td>\n",
       "      <td>Rhode Island &amp; Connecticut Ave NW</td>\n",
       "      <td>W01060</td>\n",
       "      <td>Casual</td>\n",
       "    </tr>\n",
       "    <tr>\n",
       "      <th>4</th>\n",
       "      <td>163</td>\n",
       "      <td>2012-04-01 00:04:13</td>\n",
       "      <td>2012-04-01 00:06:57</td>\n",
       "      <td>31104</td>\n",
       "      <td>Adams Mill &amp; Columbia Rd NW</td>\n",
       "      <td>31112</td>\n",
       "      <td>Harvard St &amp; Adams Mill Rd NW</td>\n",
       "      <td>W01071</td>\n",
       "      <td>Casual</td>\n",
       "    </tr>\n",
       "  </tbody>\n",
       "</table>\n",
       "</div>"
      ],
      "text/plain": [
       "   Duration           Start date             End date  Start station number  \\\n",
       "0       192  2012-04-01 00:01:13  2012-04-01 00:04:26                 31237   \n",
       "1       978  2012-04-01 00:01:49  2012-04-01 00:18:08                 31225   \n",
       "2       843  2012-04-01 00:03:25  2012-04-01 00:17:28                 31230   \n",
       "3       408  2012-04-01 00:03:37  2012-04-01 00:10:26                 31110   \n",
       "4       163  2012-04-01 00:04:13  2012-04-01 00:06:57                 31104   \n",
       "\n",
       "                    Start station  End station number  \\\n",
       "0   25th St & Pennsylvania Ave NW               31212   \n",
       "1  C & O Canal & Wisconsin Ave NW               31228   \n",
       "2   Metro Center / 12th & G St NW               31201   \n",
       "3        20th St & Florida Ave NW               31239   \n",
       "4     Adams Mill & Columbia Rd NW               31112   \n",
       "\n",
       "                         End station Bike number Member type  \n",
       "0                     21st & M St NW      W00663      Member  \n",
       "1                      8th & H St NW      W00574      Member  \n",
       "2                     15th & P St NW      W00201      Member  \n",
       "3  Rhode Island & Connecticut Ave NW      W01060      Casual  \n",
       "4      Harvard St & Adams Mill Rd NW      W01071      Casual  "
      ]
     },
     "metadata": {},
     "output_type": "display_data"
    },
    {
     "data": {
      "text/html": [
       "<div>\n",
       "<style scoped>\n",
       "    .dataframe tbody tr th:only-of-type {\n",
       "        vertical-align: middle;\n",
       "    }\n",
       "\n",
       "    .dataframe tbody tr th {\n",
       "        vertical-align: top;\n",
       "    }\n",
       "\n",
       "    .dataframe thead th {\n",
       "        text-align: right;\n",
       "    }\n",
       "</style>\n",
       "<table border=\"1\" class=\"dataframe\">\n",
       "  <thead>\n",
       "    <tr style=\"text-align: right;\">\n",
       "      <th></th>\n",
       "      <th>Duration</th>\n",
       "      <th>Start date</th>\n",
       "      <th>End date</th>\n",
       "      <th>Start station number</th>\n",
       "      <th>Start station</th>\n",
       "      <th>End station number</th>\n",
       "      <th>End station</th>\n",
       "      <th>Bike number</th>\n",
       "      <th>Member type</th>\n",
       "    </tr>\n",
       "  </thead>\n",
       "  <tbody>\n",
       "    <tr>\n",
       "      <th>0</th>\n",
       "      <td>420</td>\n",
       "      <td>2012-07-01 00:00:08</td>\n",
       "      <td>2012-07-01 00:07:09</td>\n",
       "      <td>31104</td>\n",
       "      <td>Adams Mill &amp; Columbia Rd NW</td>\n",
       "      <td>31200</td>\n",
       "      <td>Massachusetts Ave &amp; Dupont Circle NW</td>\n",
       "      <td>W01155</td>\n",
       "      <td>Member</td>\n",
       "    </tr>\n",
       "    <tr>\n",
       "      <th>1</th>\n",
       "      <td>268</td>\n",
       "      <td>2012-07-01 00:00:31</td>\n",
       "      <td>2012-07-01 00:05:00</td>\n",
       "      <td>31616</td>\n",
       "      <td>3rd &amp; H St NE</td>\n",
       "      <td>31615</td>\n",
       "      <td>6th &amp; H St NE</td>\n",
       "      <td>W00405</td>\n",
       "      <td>Member</td>\n",
       "    </tr>\n",
       "    <tr>\n",
       "      <th>2</th>\n",
       "      <td>494</td>\n",
       "      <td>2012-07-01 00:00:32</td>\n",
       "      <td>2012-07-01 00:08:46</td>\n",
       "      <td>31307</td>\n",
       "      <td>3000 Connecticut Ave NW / National Zoo</td>\n",
       "      <td>31113</td>\n",
       "      <td>Columbia Rd &amp; Belmont St NW</td>\n",
       "      <td>W00942</td>\n",
       "      <td>Member</td>\n",
       "    </tr>\n",
       "    <tr>\n",
       "      <th>3</th>\n",
       "      <td>655</td>\n",
       "      <td>2012-07-01 00:01:34</td>\n",
       "      <td>2012-07-01 00:12:29</td>\n",
       "      <td>31007</td>\n",
       "      <td>Crystal City Metro / 18th &amp; Bell St</td>\n",
       "      <td>31002</td>\n",
       "      <td>20th &amp; Crystal Dr</td>\n",
       "      <td>W01121</td>\n",
       "      <td>Member</td>\n",
       "    </tr>\n",
       "    <tr>\n",
       "      <th>4</th>\n",
       "      <td>1681</td>\n",
       "      <td>2012-07-01 00:02:06</td>\n",
       "      <td>2012-07-01 00:30:08</td>\n",
       "      <td>31235</td>\n",
       "      <td>19th St &amp; Constitution Ave NW</td>\n",
       "      <td>31222</td>\n",
       "      <td>New York Ave &amp; 15th St NW</td>\n",
       "      <td>W01039</td>\n",
       "      <td>Casual</td>\n",
       "    </tr>\n",
       "  </tbody>\n",
       "</table>\n",
       "</div>"
      ],
      "text/plain": [
       "   Duration           Start date             End date  Start station number  \\\n",
       "0       420  2012-07-01 00:00:08  2012-07-01 00:07:09                 31104   \n",
       "1       268  2012-07-01 00:00:31  2012-07-01 00:05:00                 31616   \n",
       "2       494  2012-07-01 00:00:32  2012-07-01 00:08:46                 31307   \n",
       "3       655  2012-07-01 00:01:34  2012-07-01 00:12:29                 31007   \n",
       "4      1681  2012-07-01 00:02:06  2012-07-01 00:30:08                 31235   \n",
       "\n",
       "                            Start station  End station number  \\\n",
       "0             Adams Mill & Columbia Rd NW               31200   \n",
       "1                           3rd & H St NE               31615   \n",
       "2  3000 Connecticut Ave NW / National Zoo               31113   \n",
       "3     Crystal City Metro / 18th & Bell St               31002   \n",
       "4           19th St & Constitution Ave NW               31222   \n",
       "\n",
       "                            End station Bike number Member type  \n",
       "0  Massachusetts Ave & Dupont Circle NW      W01155      Member  \n",
       "1                         6th & H St NE      W00405      Member  \n",
       "2           Columbia Rd & Belmont St NW      W00942      Member  \n",
       "3                     20th & Crystal Dr      W01121      Member  \n",
       "4             New York Ave & 15th St NW      W01039      Casual  "
      ]
     },
     "metadata": {},
     "output_type": "display_data"
    },
    {
     "data": {
      "text/html": [
       "<div>\n",
       "<style scoped>\n",
       "    .dataframe tbody tr th:only-of-type {\n",
       "        vertical-align: middle;\n",
       "    }\n",
       "\n",
       "    .dataframe tbody tr th {\n",
       "        vertical-align: top;\n",
       "    }\n",
       "\n",
       "    .dataframe thead th {\n",
       "        text-align: right;\n",
       "    }\n",
       "</style>\n",
       "<table border=\"1\" class=\"dataframe\">\n",
       "  <thead>\n",
       "    <tr style=\"text-align: right;\">\n",
       "      <th></th>\n",
       "      <th>Duration</th>\n",
       "      <th>Start date</th>\n",
       "      <th>End date</th>\n",
       "      <th>Start station number</th>\n",
       "      <th>Start station</th>\n",
       "      <th>End station number</th>\n",
       "      <th>End station</th>\n",
       "      <th>Bike number</th>\n",
       "      <th>Member type</th>\n",
       "    </tr>\n",
       "  </thead>\n",
       "  <tbody>\n",
       "    <tr>\n",
       "      <th>0</th>\n",
       "      <td>611</td>\n",
       "      <td>2012-10-01 00:02:06</td>\n",
       "      <td>2012-10-01 00:12:17</td>\n",
       "      <td>31230</td>\n",
       "      <td>Metro Center / 12th &amp; G St NW</td>\n",
       "      <td>31212</td>\n",
       "      <td>21st &amp; M St NW</td>\n",
       "      <td>W00311</td>\n",
       "      <td>Member</td>\n",
       "    </tr>\n",
       "    <tr>\n",
       "      <th>1</th>\n",
       "      <td>612</td>\n",
       "      <td>2012-10-01 00:02:52</td>\n",
       "      <td>2012-10-01 00:13:05</td>\n",
       "      <td>31624</td>\n",
       "      <td>North Capitol St &amp; F St NW</td>\n",
       "      <td>31251</td>\n",
       "      <td>12th &amp; L St NW</td>\n",
       "      <td>W00137</td>\n",
       "      <td>Member</td>\n",
       "    </tr>\n",
       "    <tr>\n",
       "      <th>2</th>\n",
       "      <td>734</td>\n",
       "      <td>2012-10-01 00:06:34</td>\n",
       "      <td>2012-10-01 00:18:48</td>\n",
       "      <td>31234</td>\n",
       "      <td>20th &amp; O St NW / Dupont South</td>\n",
       "      <td>31223</td>\n",
       "      <td>Convention Center / 7th &amp; M St NW</td>\n",
       "      <td>W20125</td>\n",
       "      <td>Member</td>\n",
       "    </tr>\n",
       "    <tr>\n",
       "      <th>3</th>\n",
       "      <td>219</td>\n",
       "      <td>2012-10-01 00:07:27</td>\n",
       "      <td>2012-10-01 00:11:06</td>\n",
       "      <td>31106</td>\n",
       "      <td>Calvert &amp; Biltmore St NW</td>\n",
       "      <td>31104</td>\n",
       "      <td>Adams Mill &amp; Columbia Rd NW</td>\n",
       "      <td>W01451</td>\n",
       "      <td>Member</td>\n",
       "    </tr>\n",
       "    <tr>\n",
       "      <th>4</th>\n",
       "      <td>924</td>\n",
       "      <td>2012-10-01 00:07:28</td>\n",
       "      <td>2012-10-01 00:22:53</td>\n",
       "      <td>31109</td>\n",
       "      <td>7th &amp; T St NW</td>\n",
       "      <td>31615</td>\n",
       "      <td>6th &amp; H St NE</td>\n",
       "      <td>W00441</td>\n",
       "      <td>Member</td>\n",
       "    </tr>\n",
       "  </tbody>\n",
       "</table>\n",
       "</div>"
      ],
      "text/plain": [
       "   Duration           Start date             End date  Start station number  \\\n",
       "0       611  2012-10-01 00:02:06  2012-10-01 00:12:17                 31230   \n",
       "1       612  2012-10-01 00:02:52  2012-10-01 00:13:05                 31624   \n",
       "2       734  2012-10-01 00:06:34  2012-10-01 00:18:48                 31234   \n",
       "3       219  2012-10-01 00:07:27  2012-10-01 00:11:06                 31106   \n",
       "4       924  2012-10-01 00:07:28  2012-10-01 00:22:53                 31109   \n",
       "\n",
       "                   Start station  End station number  \\\n",
       "0  Metro Center / 12th & G St NW               31212   \n",
       "1     North Capitol St & F St NW               31251   \n",
       "2  20th & O St NW / Dupont South               31223   \n",
       "3       Calvert & Biltmore St NW               31104   \n",
       "4                  7th & T St NW               31615   \n",
       "\n",
       "                         End station Bike number Member type  \n",
       "0                     21st & M St NW      W00311      Member  \n",
       "1                     12th & L St NW      W00137      Member  \n",
       "2  Convention Center / 7th & M St NW      W20125      Member  \n",
       "3        Adams Mill & Columbia Rd NW      W01451      Member  \n",
       "4                      6th & H St NE      W00441      Member  "
      ]
     },
     "metadata": {},
     "output_type": "display_data"
    }
   ],
   "source": [
    "# import the other bike datasets with the trip history data\n",
    "bike_2011 = pd.read_csv('/Users/maximilianolopezsalgado/data_projects/bike_sharing/datasets/2011-capitalbikeshare-tripdata.csv')\n",
    "bike_2012_q1 = pd.read_csv('/Users/maximilianolopezsalgado/data_projects/bike_sharing/datasets/2012Q1-capitalbikeshare-tripdata.csv')\n",
    "bike_2012_q2 = pd.read_csv('/Users/maximilianolopezsalgado/data_projects/bike_sharing/datasets/2012Q2-capitalbikeshare-tripdata.csv')\n",
    "bike_2012_q3 = pd.read_csv('/Users/maximilianolopezsalgado/data_projects/bike_sharing/datasets/2012Q3-capitalbikeshare-tripdata.csv')\n",
    "bike_2012_q4 = pd.read_csv('/Users/maximilianolopezsalgado/data_projects/bike_sharing/datasets/2012Q4-capitalbikeshare-tripdata.csv')\n",
    "# explore the first 5 rows of the bike_2011 dataset\n",
    "display(bike_2011.head())\n",
    "\n",
    "# explore the first 5 rows of the bike_2012_q1 dataset\n",
    "display(bike_2012_q1.head())\n",
    "\n",
    "# explore the first 5 rows of the bike_2012_q2 dataset\n",
    "display(bike_2012_q2.head())\n",
    "\n",
    "# explore the first 5 rows of the bike_2012_q3 dataset\n",
    "display(bike_2012_q3.head())\n",
    "\n",
    "# explore the first 5 rows of the bike_2012_q4 dataset\n",
    "display(bike_2012_q4.head())"
   ]
  },
  {
   "cell_type": "code",
   "execution_count": 113,
   "metadata": {},
   "outputs": [
    {
     "name": "stdout",
     "output_type": "stream",
     "text": [
      "Shape of the bike_2011 dataset:  (1226767, 9)\n"
     ]
    },
    {
     "data": {
      "text/plain": [
       "None"
      ]
     },
     "metadata": {},
     "output_type": "display_data"
    },
    {
     "name": "stdout",
     "output_type": "stream",
     "text": [
      "Shape of the bike_2012_q1 dataset:  (361317, 9)\n"
     ]
    },
    {
     "data": {
      "text/plain": [
       "None"
      ]
     },
     "metadata": {},
     "output_type": "display_data"
    },
    {
     "name": "stdout",
     "output_type": "stream",
     "text": [
      "Shape of the bike_2012_q2 dataset:  (566832, 9)\n"
     ]
    },
    {
     "data": {
      "text/plain": [
       "None"
      ]
     },
     "metadata": {},
     "output_type": "display_data"
    },
    {
     "name": "stdout",
     "output_type": "stream",
     "text": [
      "Shape of the bike_2012_q3 dataset:  (629917, 9)\n"
     ]
    },
    {
     "data": {
      "text/plain": [
       "None"
      ]
     },
     "metadata": {},
     "output_type": "display_data"
    },
    {
     "name": "stdout",
     "output_type": "stream",
     "text": [
      "Shape of the bike_2012_q4 dataset:  (470845, 9)\n"
     ]
    },
    {
     "data": {
      "text/plain": [
       "None"
      ]
     },
     "metadata": {},
     "output_type": "display_data"
    }
   ],
   "source": [
    "# check the shape of the bike_2011 dataset\n",
    "display(print('Shape of the bike_2011 dataset: ', bike_2011.shape))\n",
    "\n",
    "# check the shape of the bike_2012_q1 dataset\n",
    "display(print('Shape of the bike_2012_q1 dataset: ', bike_2012_q1.shape))\n",
    "\n",
    "# check the shape of the bike_2012_q2 dataset\n",
    "display(print('Shape of the bike_2012_q2 dataset: ', bike_2012_q2.shape))\n",
    "\n",
    "# check the shape of the bike_2012_q3 dataset\n",
    "display(print('Shape of the bike_2012_q3 dataset: ', bike_2012_q3.shape))\n",
    "\n",
    "# check the shape of the bike_2012_q4 dataset\n",
    "display(print('Shape of the bike_2012_q4 dataset: ', bike_2012_q4.shape))"
   ]
  },
  {
   "cell_type": "code",
   "execution_count": 114,
   "metadata": {},
   "outputs": [
    {
     "name": "stdout",
     "output_type": "stream",
     "text": [
      "Columns of the bike_2011 dataset:  Index(['Duration', 'Start date', 'End date', 'Start station number',\n",
      "       'Start station', 'End station number', 'End station', 'Bike number',\n",
      "       'Member type'],\n",
      "      dtype='object')\n"
     ]
    },
    {
     "data": {
      "text/plain": [
       "None"
      ]
     },
     "metadata": {},
     "output_type": "display_data"
    },
    {
     "name": "stdout",
     "output_type": "stream",
     "text": [
      "Columns of the bike_2012_q1 dataset:  Index(['Duration', 'Start date', 'End date', 'Start station number',\n",
      "       'Start station', 'End station number', 'End station', 'Bike number',\n",
      "       'Member type'],\n",
      "      dtype='object')\n"
     ]
    },
    {
     "data": {
      "text/plain": [
       "None"
      ]
     },
     "metadata": {},
     "output_type": "display_data"
    },
    {
     "name": "stdout",
     "output_type": "stream",
     "text": [
      "Columns of the bike_2012_q2 dataset:  Index(['Duration', 'Start date', 'End date', 'Start station number',\n",
      "       'Start station', 'End station number', 'End station', 'Bike number',\n",
      "       'Member type'],\n",
      "      dtype='object')\n"
     ]
    },
    {
     "data": {
      "text/plain": [
       "None"
      ]
     },
     "metadata": {},
     "output_type": "display_data"
    },
    {
     "name": "stdout",
     "output_type": "stream",
     "text": [
      "Columns of the bike_2012_q3 dataset:  Index(['Duration', 'Start date', 'End date', 'Start station number',\n",
      "       'Start station', 'End station number', 'End station', 'Bike number',\n",
      "       'Member type'],\n",
      "      dtype='object')\n"
     ]
    },
    {
     "data": {
      "text/plain": [
       "None"
      ]
     },
     "metadata": {},
     "output_type": "display_data"
    },
    {
     "name": "stdout",
     "output_type": "stream",
     "text": [
      "Columns of the bike_2012_q4 dataset:  Index(['Duration', 'Start date', 'End date', 'Start station number',\n",
      "       'Start station', 'End station number', 'End station', 'Bike number',\n",
      "       'Member type'],\n",
      "      dtype='object')\n"
     ]
    },
    {
     "data": {
      "text/plain": [
       "None"
      ]
     },
     "metadata": {},
     "output_type": "display_data"
    }
   ],
   "source": [
    "# check the columns of the bike_2011 dataset\n",
    "display(print('Columns of the bike_2011 dataset: ', bike_2011.columns))\n",
    "\n",
    "# check the columns of the bike_2012_q1 dataset\n",
    "display(print('Columns of the bike_2012_q1 dataset: ', bike_2012_q1.columns))\n",
    "\n",
    "# check the columns of the bike_2012_q2 dataset\n",
    "display(print('Columns of the bike_2012_q2 dataset: ', bike_2012_q2.columns))\n",
    "\n",
    "# check the columns of the bike_2012_q3 dataset\n",
    "display(print('Columns of the bike_2012_q3 dataset: ', bike_2012_q3.columns))\n",
    "\n",
    "# check the columns of the bike_2012_q4 dataset\n",
    "display(print('Columns of the bike_2012_q4 dataset: ', bike_2012_q4.columns))"
   ]
  },
  {
   "cell_type": "code",
   "execution_count": 115,
   "metadata": {},
   "outputs": [
    {
     "name": "stdout",
     "output_type": "stream",
     "text": [
      "Data types of the bike_2011 dataset:  Duration                 int64\n",
      "Start date              object\n",
      "End date                object\n",
      "Start station number     int64\n",
      "Start station           object\n",
      "End station number       int64\n",
      "End station             object\n",
      "Bike number             object\n",
      "Member type             object\n",
      "dtype: object\n"
     ]
    },
    {
     "data": {
      "text/plain": [
       "None"
      ]
     },
     "metadata": {},
     "output_type": "display_data"
    },
    {
     "name": "stdout",
     "output_type": "stream",
     "text": [
      "Data types of the bike_2012_q1 dataset:  Duration                 int64\n",
      "Start date              object\n",
      "End date                object\n",
      "Start station number     int64\n",
      "Start station           object\n",
      "End station number       int64\n",
      "End station             object\n",
      "Bike number             object\n",
      "Member type             object\n",
      "dtype: object\n"
     ]
    },
    {
     "data": {
      "text/plain": [
       "None"
      ]
     },
     "metadata": {},
     "output_type": "display_data"
    },
    {
     "name": "stdout",
     "output_type": "stream",
     "text": [
      "Data types of the bike_2012_q2 dataset:  Duration                 int64\n",
      "Start date              object\n",
      "End date                object\n",
      "Start station number     int64\n",
      "Start station           object\n",
      "End station number       int64\n",
      "End station             object\n",
      "Bike number             object\n",
      "Member type             object\n",
      "dtype: object\n"
     ]
    },
    {
     "data": {
      "text/plain": [
       "None"
      ]
     },
     "metadata": {},
     "output_type": "display_data"
    },
    {
     "name": "stdout",
     "output_type": "stream",
     "text": [
      "Data types of the bike_2012_q3 dataset:  Duration                 int64\n",
      "Start date              object\n",
      "End date                object\n",
      "Start station number     int64\n",
      "Start station           object\n",
      "End station number       int64\n",
      "End station             object\n",
      "Bike number             object\n",
      "Member type             object\n",
      "dtype: object\n"
     ]
    },
    {
     "data": {
      "text/plain": [
       "None"
      ]
     },
     "metadata": {},
     "output_type": "display_data"
    },
    {
     "name": "stdout",
     "output_type": "stream",
     "text": [
      "Data types of the bike_2012_q4 dataset:  Duration                 int64\n",
      "Start date              object\n",
      "End date                object\n",
      "Start station number     int64\n",
      "Start station           object\n",
      "End station number       int64\n",
      "End station             object\n",
      "Bike number             object\n",
      "Member type             object\n",
      "dtype: object\n"
     ]
    },
    {
     "data": {
      "text/plain": [
       "None"
      ]
     },
     "metadata": {},
     "output_type": "display_data"
    }
   ],
   "source": [
    "# check the data types of the bike_2011 dataset\n",
    "display(print('Data types of the bike_2011 dataset: ', bike_2011.dtypes))\n",
    "\n",
    "# check the data types of the bike_2012_q1 dataset\n",
    "display(print('Data types of the bike_2012_q1 dataset: ', bike_2012_q1.dtypes))\n",
    "\n",
    "# check the data types of the bike_2012_q2 dataset\n",
    "display(print('Data types of the bike_2012_q2 dataset: ', bike_2012_q2.dtypes))\n",
    "\n",
    "# check the data types of the bike_2012_q3 dataset\n",
    "display(print('Data types of the bike_2012_q3 dataset: ', bike_2012_q3.dtypes))\n",
    "\n",
    "# check the data types of the bike_2012_q4 dataset\n",
    "display(print('Data types of the bike_2012_q4 dataset: ', bike_2012_q4.dtypes))"
   ]
  },
  {
   "cell_type": "code",
   "execution_count": 116,
   "metadata": {},
   "outputs": [
    {
     "name": "stdout",
     "output_type": "stream",
     "text": [
      "Shape of the trip_history dataset:  (3255678, 9)\n"
     ]
    },
    {
     "data": {
      "text/plain": [
       "None"
      ]
     },
     "metadata": {},
     "output_type": "display_data"
    },
    {
     "name": "stdout",
     "output_type": "stream",
     "text": [
      "Columns of the trip_history dataset:  Index(['Duration', 'Start date', 'End date', 'Start station number',\n",
      "       'Start station', 'End station number', 'End station', 'Bike number',\n",
      "       'Member type'],\n",
      "      dtype='object')\n"
     ]
    },
    {
     "data": {
      "text/plain": [
       "None"
      ]
     },
     "metadata": {},
     "output_type": "display_data"
    },
    {
     "name": "stdout",
     "output_type": "stream",
     "text": [
      "Data types of the trip_history dataset:  Duration                 int64\n",
      "Start date              object\n",
      "End date                object\n",
      "Start station number     int64\n",
      "Start station           object\n",
      "End station number       int64\n",
      "End station             object\n",
      "Bike number             object\n",
      "Member type             object\n",
      "dtype: object\n"
     ]
    },
    {
     "data": {
      "text/plain": [
       "None"
      ]
     },
     "metadata": {},
     "output_type": "display_data"
    },
    {
     "data": {
      "text/html": [
       "<div>\n",
       "<style scoped>\n",
       "    .dataframe tbody tr th:only-of-type {\n",
       "        vertical-align: middle;\n",
       "    }\n",
       "\n",
       "    .dataframe tbody tr th {\n",
       "        vertical-align: top;\n",
       "    }\n",
       "\n",
       "    .dataframe thead th {\n",
       "        text-align: right;\n",
       "    }\n",
       "</style>\n",
       "<table border=\"1\" class=\"dataframe\">\n",
       "  <thead>\n",
       "    <tr style=\"text-align: right;\">\n",
       "      <th></th>\n",
       "      <th>Duration</th>\n",
       "      <th>Start date</th>\n",
       "      <th>End date</th>\n",
       "      <th>Start station number</th>\n",
       "      <th>Start station</th>\n",
       "      <th>End station number</th>\n",
       "      <th>End station</th>\n",
       "      <th>Bike number</th>\n",
       "      <th>Member type</th>\n",
       "    </tr>\n",
       "  </thead>\n",
       "  <tbody>\n",
       "    <tr>\n",
       "      <th>0</th>\n",
       "      <td>3548</td>\n",
       "      <td>2011-01-01 00:01:29</td>\n",
       "      <td>2011-01-01 01:00:37</td>\n",
       "      <td>31620</td>\n",
       "      <td>5th &amp; F St NW</td>\n",
       "      <td>31620</td>\n",
       "      <td>5th &amp; F St NW</td>\n",
       "      <td>W00247</td>\n",
       "      <td>Member</td>\n",
       "    </tr>\n",
       "    <tr>\n",
       "      <th>1</th>\n",
       "      <td>346</td>\n",
       "      <td>2011-01-01 00:02:46</td>\n",
       "      <td>2011-01-01 00:08:32</td>\n",
       "      <td>31105</td>\n",
       "      <td>14th &amp; Harvard St NW</td>\n",
       "      <td>31101</td>\n",
       "      <td>14th &amp; V St NW</td>\n",
       "      <td>W00675</td>\n",
       "      <td>Casual</td>\n",
       "    </tr>\n",
       "    <tr>\n",
       "      <th>2</th>\n",
       "      <td>562</td>\n",
       "      <td>2011-01-01 00:06:13</td>\n",
       "      <td>2011-01-01 00:15:36</td>\n",
       "      <td>31400</td>\n",
       "      <td>Georgia &amp; New Hampshire Ave NW</td>\n",
       "      <td>31104</td>\n",
       "      <td>Adams Mill &amp; Columbia Rd NW</td>\n",
       "      <td>W00357</td>\n",
       "      <td>Member</td>\n",
       "    </tr>\n",
       "    <tr>\n",
       "      <th>3</th>\n",
       "      <td>434</td>\n",
       "      <td>2011-01-01 00:09:21</td>\n",
       "      <td>2011-01-01 00:16:36</td>\n",
       "      <td>31111</td>\n",
       "      <td>10th &amp; U St NW</td>\n",
       "      <td>31503</td>\n",
       "      <td>Florida Ave &amp; R St NW</td>\n",
       "      <td>W00970</td>\n",
       "      <td>Member</td>\n",
       "    </tr>\n",
       "    <tr>\n",
       "      <th>4</th>\n",
       "      <td>233</td>\n",
       "      <td>2011-01-01 00:28:26</td>\n",
       "      <td>2011-01-01 00:32:19</td>\n",
       "      <td>31104</td>\n",
       "      <td>Adams Mill &amp; Columbia Rd NW</td>\n",
       "      <td>31106</td>\n",
       "      <td>Calvert &amp; Biltmore St NW</td>\n",
       "      <td>W00346</td>\n",
       "      <td>Casual</td>\n",
       "    </tr>\n",
       "  </tbody>\n",
       "</table>\n",
       "</div>"
      ],
      "text/plain": [
       "   Duration           Start date             End date  Start station number  \\\n",
       "0      3548  2011-01-01 00:01:29  2011-01-01 01:00:37                 31620   \n",
       "1       346  2011-01-01 00:02:46  2011-01-01 00:08:32                 31105   \n",
       "2       562  2011-01-01 00:06:13  2011-01-01 00:15:36                 31400   \n",
       "3       434  2011-01-01 00:09:21  2011-01-01 00:16:36                 31111   \n",
       "4       233  2011-01-01 00:28:26  2011-01-01 00:32:19                 31104   \n",
       "\n",
       "                    Start station  End station number  \\\n",
       "0                   5th & F St NW               31620   \n",
       "1            14th & Harvard St NW               31101   \n",
       "2  Georgia & New Hampshire Ave NW               31104   \n",
       "3                  10th & U St NW               31503   \n",
       "4     Adams Mill & Columbia Rd NW               31106   \n",
       "\n",
       "                   End station Bike number Member type  \n",
       "0                5th & F St NW      W00247      Member  \n",
       "1               14th & V St NW      W00675      Casual  \n",
       "2  Adams Mill & Columbia Rd NW      W00357      Member  \n",
       "3        Florida Ave & R St NW      W00970      Member  \n",
       "4     Calvert & Biltmore St NW      W00346      Casual  "
      ]
     },
     "metadata": {},
     "output_type": "display_data"
    }
   ],
   "source": [
    "# concatenate the bike_2011 and bike_2012_q1, bike_2012_q2, bike_2012_q3, bike_2012_q4 datasets\n",
    "trip_history = pd.concat([bike_2011, bike_2012_q1, bike_2012_q2, bike_2012_q3, bike_2012_q4], axis=0)\n",
    "\n",
    "# check the shape of the trip_history dataset\n",
    "display(print('Shape of the trip_history dataset: ', trip_history.shape))\n",
    "\n",
    "# check the columns of the trip_history dataset\n",
    "display(print('Columns of the trip_history dataset: ', trip_history.columns))\n",
    "\n",
    "# check the data types of the trip_history dataset\n",
    "display(print('Data types of the trip_history dataset: ', trip_history.dtypes))\n",
    "\n",
    "# check the first 5 rows of the trip_history dataset\n",
    "display(trip_history.head())"
   ]
  },
  {
   "cell_type": "code",
   "execution_count": 117,
   "metadata": {},
   "outputs": [
    {
     "data": {
      "text/plain": [
       "Duration                0\n",
       "Start date              0\n",
       "End date                0\n",
       "Start station number    0\n",
       "Start station           0\n",
       "End station number      0\n",
       "End station             0\n",
       "Bike number             0\n",
       "Member type             0\n",
       "dtype: int64"
      ]
     },
     "metadata": {},
     "output_type": "display_data"
    }
   ],
   "source": [
    "# check the missing values of the trip_history dataset\n",
    "display(trip_history.isnull().sum())"
   ]
  },
  {
   "cell_type": "code",
   "execution_count": 118,
   "metadata": {},
   "outputs": [
    {
     "data": {
      "text/plain": [
       "194"
      ]
     },
     "metadata": {},
     "output_type": "display_data"
    },
    {
     "data": {
      "text/plain": [
       "194"
      ]
     },
     "metadata": {},
     "output_type": "display_data"
    }
   ],
   "source": [
    "# count unique values of column start station and end station\n",
    "display(trip_history['Start station'].nunique())\n",
    "display(trip_history['End station'].nunique())"
   ]
  },
  {
   "cell_type": "code",
   "execution_count": 119,
   "metadata": {},
   "outputs": [
    {
     "data": {
      "text/plain": [
       "Massachusetts Ave & Dupont Circle NW         107162\n",
       "Columbus Circle / Union Station               77750\n",
       "15th & P St NW                                73707\n",
       "17th & Corcoran St NW                         63502\n",
       "Adams Mill & Columbia Rd NW                   62378\n",
       "                                              ...  \n",
       "Potomac Ave & 35th St S                         130\n",
       "21st St & Constitution Ave NW                    87\n",
       "11th & F St NW                                   38\n",
       "11th & M St NW                                    1\n",
       "Nannie Helen Burroughs & Minnesota Ave NE         1\n",
       "Name: Start station, Length: 194, dtype: int64"
      ]
     },
     "metadata": {},
     "output_type": "display_data"
    },
    {
     "data": {
      "text/plain": [
       "Massachusetts Ave & Dupont Circle NW         118707\n",
       "15th & P St NW                                83457\n",
       "Columbus Circle / Union Station               79681\n",
       "17th & Corcoran St NW                         67382\n",
       "14th & V St NW                                59658\n",
       "                                              ...  \n",
       "Branch & Pennsylvania Ave SE                    160\n",
       "Fairfax Village                                 121\n",
       "21st St & Constitution Ave NW                    88\n",
       "11th & M St NW                                   87\n",
       "Nannie Helen Burroughs & Minnesota Ave NE         3\n",
       "Name: End station, Length: 194, dtype: int64"
      ]
     },
     "metadata": {},
     "output_type": "display_data"
    }
   ],
   "source": [
    "# count the unique values of the columns start station and end station\n",
    "start_station_count_2011_2012 = trip_history['Start station'].value_counts()\n",
    "end_station_count_2011_2012 = trip_history['End station'].value_counts()\n",
    "display(start_station_count_2011_2012)\n",
    "display(end_station_count_2011_2012)"
   ]
  },
  {
   "cell_type": "code",
   "execution_count": 120,
   "metadata": {},
   "outputs": [],
   "source": [
    "# create a list with the unique values of the columns start station\n",
    "start_station = trip_history['Start station'].unique().tolist()\n",
    "\n",
    "# export the list to a csv file to the datasets folder\n",
    "pd.DataFrame(start_station).to_csv('/Users/maximilianolopezsalgado/data_projects/capital_bike_sharing/datasets/stations_list.csv', index=False)"
   ]
  },
  {
   "attachments": {},
   "cell_type": "markdown",
   "metadata": {},
   "source": [
    "#### Transform the duration column to minutes"
   ]
  },
  {
   "cell_type": "code",
   "execution_count": 121,
   "metadata": {},
   "outputs": [
    {
     "data": {
      "text/plain": [
       "0    59.133333\n",
       "1     5.766667\n",
       "2     9.366667\n",
       "3     7.233333\n",
       "4     3.883333\n",
       "Name: Duration, dtype: float64"
      ]
     },
     "metadata": {},
     "output_type": "display_data"
    }
   ],
   "source": [
    "# calculate the duration of the trips in minutes\n",
    "trip_history['Duration'] = trip_history['Duration']/60\n",
    "\n",
    "# print the first 5 rows of the duration column\n",
    "display(trip_history['Duration'].head())"
   ]
  },
  {
   "attachments": {},
   "cell_type": "markdown",
   "metadata": {},
   "source": [
    "#### clean the dataset trip_history to get the most important information "
   ]
  },
  {
   "cell_type": "code",
   "execution_count": 122,
   "metadata": {},
   "outputs": [
    {
     "data": {
      "text/html": [
       "<div>\n",
       "<style scoped>\n",
       "    .dataframe tbody tr th:only-of-type {\n",
       "        vertical-align: middle;\n",
       "    }\n",
       "\n",
       "    .dataframe tbody tr th {\n",
       "        vertical-align: top;\n",
       "    }\n",
       "\n",
       "    .dataframe thead th {\n",
       "        text-align: right;\n",
       "    }\n",
       "</style>\n",
       "<table border=\"1\" class=\"dataframe\">\n",
       "  <thead>\n",
       "    <tr style=\"text-align: right;\">\n",
       "      <th></th>\n",
       "      <th>Duration</th>\n",
       "      <th>Start station</th>\n",
       "      <th>End station</th>\n",
       "    </tr>\n",
       "  </thead>\n",
       "  <tbody>\n",
       "    <tr>\n",
       "      <th>0</th>\n",
       "      <td>59.133333</td>\n",
       "      <td>5th &amp; F St NW</td>\n",
       "      <td>5th &amp; F St NW</td>\n",
       "    </tr>\n",
       "    <tr>\n",
       "      <th>1</th>\n",
       "      <td>5.766667</td>\n",
       "      <td>14th &amp; Harvard St NW</td>\n",
       "      <td>14th &amp; V St NW</td>\n",
       "    </tr>\n",
       "    <tr>\n",
       "      <th>2</th>\n",
       "      <td>9.366667</td>\n",
       "      <td>Georgia &amp; New Hampshire Ave NW</td>\n",
       "      <td>Adams Mill &amp; Columbia Rd NW</td>\n",
       "    </tr>\n",
       "    <tr>\n",
       "      <th>3</th>\n",
       "      <td>7.233333</td>\n",
       "      <td>10th &amp; U St NW</td>\n",
       "      <td>Florida Ave &amp; R St NW</td>\n",
       "    </tr>\n",
       "    <tr>\n",
       "      <th>4</th>\n",
       "      <td>3.883333</td>\n",
       "      <td>Adams Mill &amp; Columbia Rd NW</td>\n",
       "      <td>Calvert &amp; Biltmore St NW</td>\n",
       "    </tr>\n",
       "  </tbody>\n",
       "</table>\n",
       "</div>"
      ],
      "text/plain": [
       "    Duration                   Start station                  End station\n",
       "0  59.133333                   5th & F St NW                5th & F St NW\n",
       "1   5.766667            14th & Harvard St NW               14th & V St NW\n",
       "2   9.366667  Georgia & New Hampshire Ave NW  Adams Mill & Columbia Rd NW\n",
       "3   7.233333                  10th & U St NW        Florida Ave & R St NW\n",
       "4   3.883333     Adams Mill & Columbia Rd NW     Calvert & Biltmore St NW"
      ]
     },
     "metadata": {},
     "output_type": "display_data"
    }
   ],
   "source": [
    "# drop unnecessary columns\n",
    "trip_history_cleaned = trip_history.drop(['Start date', 'Member type', 'End date', 'Start station number', 'End station number', 'Bike number'], axis=1, inplace=True)\n",
    "\n",
    "# check the first 5 rows of the trip_history dataset\n",
    "display(trip_history.head())"
   ]
  },
  {
   "cell_type": "code",
   "execution_count": 123,
   "metadata": {},
   "outputs": [
    {
     "ename": "TypeError",
     "evalue": "'NoneType' object is not subscriptable",
     "output_type": "error",
     "traceback": [
      "\u001b[0;31m---------------------------------------------------------------------------\u001b[0m",
      "\u001b[0;31mTypeError\u001b[0m                                 Traceback (most recent call last)",
      "Cell \u001b[0;32mIn[123], line 2\u001b[0m\n\u001b[1;32m      1\u001b[0m \u001b[39m# change the data type of the column start station and end station to string\u001b[39;00m\n\u001b[0;32m----> 2\u001b[0m trip_history_cleaned[\u001b[39m'\u001b[39m\u001b[39mStart station\u001b[39m\u001b[39m'\u001b[39m] \u001b[39m=\u001b[39m trip_history_cleaned[\u001b[39m'\u001b[39;49m\u001b[39mStart station\u001b[39;49m\u001b[39m'\u001b[39;49m]\u001b[39m.\u001b[39mastype(\u001b[39mstr\u001b[39m)\n\u001b[1;32m      3\u001b[0m trip_history_cleaned[\u001b[39m'\u001b[39m\u001b[39mEnd station\u001b[39m\u001b[39m'\u001b[39m] \u001b[39m=\u001b[39m trip_history_cleaned[\u001b[39m'\u001b[39m\u001b[39mEnd station\u001b[39m\u001b[39m'\u001b[39m]\u001b[39m.\u001b[39mastype(\u001b[39mstr\u001b[39m)\n",
      "\u001b[0;31mTypeError\u001b[0m: 'NoneType' object is not subscriptable"
     ]
    }
   ],
   "source": [
    "# change the data type of the column start station and end station to string\n",
    "trip_history_cleaned['Start station'] = trip_history_cleaned['Start station'].astype(str)\n",
    "trip_history_cleaned['End station'] = trip_history_cleaned['End station'].astype(str)\n"
   ]
  },
  {
   "cell_type": "code",
   "execution_count": null,
   "metadata": {},
   "outputs": [],
   "source": [
    "# export the trip_history dataset to a csv file\n",
    "trip_history_cleaned.to_csv('/Users/maximilianolopezsalgado/data_projects/capital_bike_sharing/datasets/trip_history.csv', index=False)"
   ]
  },
  {
   "cell_type": "code",
   "execution_count": null,
   "metadata": {},
   "outputs": [
    {
     "data": {
      "text/html": [
       "<div>\n",
       "<style scoped>\n",
       "    .dataframe tbody tr th:only-of-type {\n",
       "        vertical-align: middle;\n",
       "    }\n",
       "\n",
       "    .dataframe tbody tr th {\n",
       "        vertical-align: top;\n",
       "    }\n",
       "\n",
       "    .dataframe thead th {\n",
       "        text-align: right;\n",
       "    }\n",
       "</style>\n",
       "<table border=\"1\" class=\"dataframe\">\n",
       "  <thead>\n",
       "    <tr style=\"text-align: right;\">\n",
       "      <th></th>\n",
       "      <th>station_name</th>\n",
       "      <th>station_latitude</th>\n",
       "      <th>station_longitude</th>\n",
       "    </tr>\n",
       "  </thead>\n",
       "  <tbody>\n",
       "    <tr>\n",
       "      <th>0</th>\n",
       "      <td>Marymount University / Yorktown Blvd &amp; 26th St N</td>\n",
       "      <td>38.904252</td>\n",
       "      <td>-77.127776</td>\n",
       "    </tr>\n",
       "    <tr>\n",
       "      <th>1</th>\n",
       "      <td>East Falls Church Metro / Sycamore St &amp; 19th St N</td>\n",
       "      <td>38.885321</td>\n",
       "      <td>-77.156427</td>\n",
       "    </tr>\n",
       "    <tr>\n",
       "      <th>2</th>\n",
       "      <td>E Fairfax St &amp; S Washington St</td>\n",
       "      <td>38.880612</td>\n",
       "      <td>-77.171891</td>\n",
       "    </tr>\n",
       "    <tr>\n",
       "      <th>3</th>\n",
       "      <td>Inlet Ct &amp; Wiehle Dr</td>\n",
       "      <td>38.965979</td>\n",
       "      <td>-77.334359</td>\n",
       "    </tr>\n",
       "    <tr>\n",
       "      <th>4</th>\n",
       "      <td>Reservoir Rd &amp; 38th St NW</td>\n",
       "      <td>38.912614</td>\n",
       "      <td>-77.074323</td>\n",
       "    </tr>\n",
       "  </tbody>\n",
       "</table>\n",
       "</div>"
      ],
      "text/plain": [
       "                                        station_name  station_latitude  \\\n",
       "0   Marymount University / Yorktown Blvd & 26th St N         38.904252   \n",
       "1  East Falls Church Metro / Sycamore St & 19th St N         38.885321   \n",
       "2                     E Fairfax St & S Washington St         38.880612   \n",
       "3                               Inlet Ct & Wiehle Dr         38.965979   \n",
       "4                          Reservoir Rd & 38th St NW         38.912614   \n",
       "\n",
       "   station_longitude  \n",
       "0         -77.127776  \n",
       "1         -77.156427  \n",
       "2         -77.171891  \n",
       "3         -77.334359  \n",
       "4         -77.074323  "
      ]
     },
     "metadata": {},
     "output_type": "display_data"
    }
   ],
   "source": [
    "# import the station_coordinates_cleaned dataset\n",
    "station_coordinates_cleaned = pd.read_csv('/Users/maximilianolopezsalgado/data_projects/capital_bike_sharing/datasets/station_coordinates_cleaned.csv')\n",
    "\n",
    "# check the first 5 rows of the station_coordinates_cleaned dataset\n",
    "display(station_coordinates_cleaned.head())"
   ]
  },
  {
   "attachments": {},
   "cell_type": "markdown",
   "metadata": {},
   "source": [
    "### Merge the trip_history_cleaned and station_coordinates_cleaned datasets"
   ]
  },
  {
   "cell_type": "code",
   "execution_count": null,
   "metadata": {},
   "outputs": [
    {
     "data": {
      "text/plain": [
       "151"
      ]
     },
     "metadata": {},
     "output_type": "display_data"
    },
    {
     "data": {
      "text/plain": [
       "151"
      ]
     },
     "metadata": {},
     "output_type": "display_data"
    }
   ],
   "source": [
    "# create a for that creates a list that adds the values that exist in the start_station_count_2011_2012 and in the station_coordinates_cleaned dataset\n",
    "start_station_count_2011_2012_list = []\n",
    "for i in start_station_count_2011_2012.index:\n",
    "    if i in station_coordinates_cleaned['station_name'].values:\n",
    "        start_station_count_2011_2012_list.append(i)\n",
    "\n",
    "# count the values on this list\n",
    "display(len(start_station_count_2011_2012_list))\n",
    "\n",
    "# create a for that creates a list that adds the values that exist in the end_station_count_2011_2012 and in the station_coordinates_cleaned dataset\n",
    "end_station_count_2011_2012_list = []\n",
    "for i in end_station_count_2011_2012.index:\n",
    "    if i in station_coordinates_cleaned['station_name'].values:\n",
    "        end_station_count_2011_2012_list.append(i)\n",
    "\n",
    "# count the values on this list\n",
    "display(len(end_station_count_2011_2012_list))\n"
   ]
  },
  {
   "cell_type": "code",
   "execution_count": null,
   "metadata": {},
   "outputs": [
    {
     "data": {
      "text/plain": [
       "43"
      ]
     },
     "metadata": {},
     "output_type": "display_data"
    },
    {
     "data": {
      "text/plain": [
       "['Eastern Market Metro / Pennsylvania Ave & 7th St SE',\n",
       " '14th & Rhode Island Ave NW',\n",
       " '21st & M St NW',\n",
       " 'USDA / 12th & Independence Ave SW',\n",
       " '19th & L St NW',\n",
       " '7th & T St NW',\n",
       " 'Crystal City Metro / 18th & Bell St',\n",
       " 'Lynn & 19th St North',\n",
       " 'Connecticut Ave & Newark St NW / Cleveland Park',\n",
       " '1st & K St SE',\n",
       " '11th & H St NE',\n",
       " 'Georgia Ave and Fairmont St NW',\n",
       " 'Rosslyn Metro / Wilson Blvd & Ft Myer Dr',\n",
       " '27th & Crystal Dr',\n",
       " 'S Glebe & Potomac Ave',\n",
       " '23rd & Crystal Dr',\n",
       " '20th & Crystal Dr',\n",
       " '18th & Eads St.',\n",
       " '1st & N St  SE',\n",
       " 'S Joyce & Army Navy Dr',\n",
       " '15th & Crystal Dr',\n",
       " 'N Rhodes & 16th St N',\n",
       " '12th & Army Navy Dr',\n",
       " '19th & K St NW',\n",
       " 'Eads & 22nd St S',\n",
       " '26th & S Clark St',\n",
       " 'Virginia Square Metro / N Monroe St & 9th St N',\n",
       " 'Ballston Metro / N Stuart & 9th St N',\n",
       " 'Wilson Blvd & Franklin Rd',\n",
       " 'Lee Hwy & N Adams St',\n",
       " 'Pentagon City Metro / 12th & S Hayes St',\n",
       " 'Aurora Hills Community Ctr/18th & Hayes St',\n",
       " '15th & N Scott St',\n",
       " 'Central Library / N Quincy St & 10th St N',\n",
       " 'N Veitch  & 20th St N',\n",
       " 'N Randolph St & Fairfax Dr',\n",
       " 'N Veitch & Key Blvd',\n",
       " 'Key Blvd & N Quinn St',\n",
       " 'Braddock Rd Metro',\n",
       " 'Fairfax Dr & Kenmore St',\n",
       " 'Saint Asaph St & Pendleton  St',\n",
       " 'Utah St & 11th St N ',\n",
       " '21st St & Constitution Ave NW']"
      ]
     },
     "metadata": {},
     "output_type": "display_data"
    }
   ],
   "source": [
    "# create a list with the values that exist in start_station_count_2011_2012 but not in station_coordinates_cleaned\n",
    "start_missing_stations = []\n",
    "for i in start_station_count_2011_2012.index:\n",
    "    if i not in station_coordinates_cleaned['station_name'].values:\n",
    "        start_missing_stations.append(i)\n",
    "\n",
    "# count the values on this list\n",
    "display(len(start_missing_stations))\n",
    "# display the whole list\n",
    "display(start_missing_stations)\n"
   ]
  },
  {
   "cell_type": "code",
   "execution_count": null,
   "metadata": {},
   "outputs": [
    {
     "data": {
      "text/plain": [
       "43"
      ]
     },
     "metadata": {},
     "output_type": "display_data"
    },
    {
     "data": {
      "text/plain": [
       "['Eastern Market Metro / Pennsylvania Ave & 7th St SE',\n",
       " '14th & Rhode Island Ave NW',\n",
       " '21st & M St NW',\n",
       " 'USDA / 12th & Independence Ave SW',\n",
       " '19th & L St NW',\n",
       " '7th & T St NW',\n",
       " 'Lynn & 19th St North',\n",
       " 'Crystal City Metro / 18th & Bell St',\n",
       " 'Connecticut Ave & Newark St NW / Cleveland Park',\n",
       " '11th & H St NE',\n",
       " '1st & K St SE',\n",
       " 'Rosslyn Metro / Wilson Blvd & Ft Myer Dr',\n",
       " '27th & Crystal Dr',\n",
       " '23rd & Crystal Dr',\n",
       " 'S Glebe & Potomac Ave',\n",
       " '20th & Crystal Dr',\n",
       " '1st & N St  SE',\n",
       " 'Georgia Ave and Fairmont St NW',\n",
       " '18th & Eads St.',\n",
       " '15th & Crystal Dr',\n",
       " 'S Joyce & Army Navy Dr',\n",
       " '12th & Army Navy Dr',\n",
       " 'Eads & 22nd St S',\n",
       " '19th & K St NW',\n",
       " '26th & S Clark St',\n",
       " 'Virginia Square Metro / N Monroe St & 9th St N',\n",
       " 'N Rhodes & 16th St N',\n",
       " 'Pentagon City Metro / 12th & S Hayes St',\n",
       " 'Ballston Metro / N Stuart & 9th St N',\n",
       " 'Aurora Hills Community Ctr/18th & Hayes St',\n",
       " 'Wilson Blvd & Franklin Rd',\n",
       " 'Lee Hwy & N Adams St',\n",
       " 'Central Library / N Quincy St & 10th St N',\n",
       " 'N Randolph St & Fairfax Dr',\n",
       " '15th & N Scott St',\n",
       " 'N Veitch  & 20th St N',\n",
       " 'Key Blvd & N Quinn St',\n",
       " 'N Veitch & Key Blvd',\n",
       " 'Saint Asaph St & Pendleton  St',\n",
       " 'Fairfax Dr & Kenmore St',\n",
       " 'Braddock Rd Metro',\n",
       " 'Utah St & 11th St N ',\n",
       " '21st St & Constitution Ave NW']"
      ]
     },
     "metadata": {},
     "output_type": "display_data"
    }
   ],
   "source": [
    "# create a loop that find the station names that are in the end_station_count_2011_2012 dataset and in the station_coordinates_cleaned \n",
    "end_missing_stations = []\n",
    "for i in end_station_count_2011_2012.index:\n",
    "    if i not in station_coordinates_cleaned['station_name'].values:\n",
    "        end_missing_stations.append(i)\n",
    "\n",
    "# count the values on this list\n",
    "display(len(end_missing_stations))\n",
    "display(end_missing_stations)"
   ]
  },
  {
   "cell_type": "code",
   "execution_count": 135,
   "metadata": {},
   "outputs": [
    {
     "data": {
      "text/plain": [
       "False"
      ]
     },
     "metadata": {},
     "output_type": "display_data"
    },
    {
     "data": {
      "text/plain": [
       "0"
      ]
     },
     "metadata": {},
     "output_type": "display_data"
    }
   ],
   "source": [
    "# corroborate that the values in the start_missing_stations and end_missing_stations are the same\n",
    "display(start_missing_stations == end_missing_stations)\n",
    "\n",
    "# create a list with the values that exist in start_station_count_2011_2012 but not in station_coordinates_cleaned\n",
    "start_vs_end_station = []\n",
    "for i in start_missing_stations:\n",
    "    if i not in end_missing_stations:\n",
    "        start_vs_end_station.append(i)\n",
    "\n",
    "# count the values on this list\n",
    "display(len(start_vs_end_station))"
   ]
  },
  {
   "cell_type": "code",
   "execution_count": 136,
   "metadata": {},
   "outputs": [
    {
     "data": {
      "text/html": [
       "<div>\n",
       "<style scoped>\n",
       "    .dataframe tbody tr th:only-of-type {\n",
       "        vertical-align: middle;\n",
       "    }\n",
       "\n",
       "    .dataframe tbody tr th {\n",
       "        vertical-align: top;\n",
       "    }\n",
       "\n",
       "    .dataframe thead th {\n",
       "        text-align: right;\n",
       "    }\n",
       "</style>\n",
       "<table border=\"1\" class=\"dataframe\">\n",
       "  <thead>\n",
       "    <tr style=\"text-align: right;\">\n",
       "      <th></th>\n",
       "      <th>station_name</th>\n",
       "    </tr>\n",
       "  </thead>\n",
       "  <tbody>\n",
       "    <tr>\n",
       "      <th>0</th>\n",
       "      <td>Eastern Market Metro / Pennsylvania Ave &amp; 7th ...</td>\n",
       "    </tr>\n",
       "    <tr>\n",
       "      <th>1</th>\n",
       "      <td>14th &amp; Rhode Island Ave NW</td>\n",
       "    </tr>\n",
       "    <tr>\n",
       "      <th>2</th>\n",
       "      <td>21st &amp; M St NW</td>\n",
       "    </tr>\n",
       "    <tr>\n",
       "      <th>3</th>\n",
       "      <td>USDA / 12th &amp; Independence Ave SW</td>\n",
       "    </tr>\n",
       "    <tr>\n",
       "      <th>4</th>\n",
       "      <td>19th &amp; L St NW</td>\n",
       "    </tr>\n",
       "  </tbody>\n",
       "</table>\n",
       "</div>"
      ],
      "text/plain": [
       "                                        station_name\n",
       "0  Eastern Market Metro / Pennsylvania Ave & 7th ...\n",
       "1                         14th & Rhode Island Ave NW\n",
       "2                                     21st & M St NW\n",
       "3                  USDA / 12th & Independence Ave SW\n",
       "4                                     19th & L St NW"
      ]
     },
     "metadata": {},
     "output_type": "display_data"
    }
   ],
   "source": [
    "# create a dataframe with the missing stations in the future we will add the coordinates manually\n",
    "missing_stations_df = pd.DataFrame({'station_name': end_missing_stations})\n",
    "\n",
    "# print the first 5 rows of the missing_stations_df\n",
    "display(missing_stations_df.head())\n"
   ]
  },
  {
   "cell_type": "code",
   "execution_count": 137,
   "metadata": {},
   "outputs": [
    {
     "data": {
      "text/html": [
       "<div>\n",
       "<style scoped>\n",
       "    .dataframe tbody tr th:only-of-type {\n",
       "        vertical-align: middle;\n",
       "    }\n",
       "\n",
       "    .dataframe tbody tr th {\n",
       "        vertical-align: top;\n",
       "    }\n",
       "\n",
       "    .dataframe thead th {\n",
       "        text-align: right;\n",
       "    }\n",
       "</style>\n",
       "<table border=\"1\" class=\"dataframe\">\n",
       "  <thead>\n",
       "    <tr style=\"text-align: right;\">\n",
       "      <th></th>\n",
       "      <th>station_name</th>\n",
       "      <th>station_latitude</th>\n",
       "      <th>station_longitude</th>\n",
       "    </tr>\n",
       "  </thead>\n",
       "  <tbody>\n",
       "    <tr>\n",
       "      <th>0</th>\n",
       "      <td>Eastern Market Metro / Pennsylvania Ave &amp; 7th ...</td>\n",
       "      <td></td>\n",
       "      <td></td>\n",
       "    </tr>\n",
       "    <tr>\n",
       "      <th>1</th>\n",
       "      <td>14th &amp; Rhode Island Ave NW</td>\n",
       "      <td></td>\n",
       "      <td></td>\n",
       "    </tr>\n",
       "    <tr>\n",
       "      <th>2</th>\n",
       "      <td>21st &amp; M St NW</td>\n",
       "      <td></td>\n",
       "      <td></td>\n",
       "    </tr>\n",
       "    <tr>\n",
       "      <th>3</th>\n",
       "      <td>USDA / 12th &amp; Independence Ave SW</td>\n",
       "      <td></td>\n",
       "      <td></td>\n",
       "    </tr>\n",
       "    <tr>\n",
       "      <th>4</th>\n",
       "      <td>19th &amp; L St NW</td>\n",
       "      <td></td>\n",
       "      <td></td>\n",
       "    </tr>\n",
       "  </tbody>\n",
       "</table>\n",
       "</div>"
      ],
      "text/plain": [
       "                                        station_name station_latitude  \\\n",
       "0  Eastern Market Metro / Pennsylvania Ave & 7th ...                    \n",
       "1                         14th & Rhode Island Ave NW                    \n",
       "2                                     21st & M St NW                    \n",
       "3                  USDA / 12th & Independence Ave SW                    \n",
       "4                                     19th & L St NW                    \n",
       "\n",
       "  station_longitude  \n",
       "0                    \n",
       "1                    \n",
       "2                    \n",
       "3                    \n",
       "4                    "
      ]
     },
     "metadata": {},
     "output_type": "display_data"
    }
   ],
   "source": [
    "# add station_latitude and station_longitude columns to the missing_stations_df\n",
    "missing_stations_df['station_latitude'] = ''\n",
    "missing_stations_df['station_longitude'] = ''\n",
    "\n",
    "# print the first 5 rows of the missing_stations_df\n",
    "display(missing_stations_df.head())"
   ]
  },
  {
   "cell_type": "code",
   "execution_count": 139,
   "metadata": {},
   "outputs": [],
   "source": [
    "# export the missing_stations_df to a csv file to the datasets folder in order to add the coordinates manually\n",
    "missing_stations_df.to_csv('/Users/maximilianolopezsalgado/data_projects/capital_bike_sharing/datasets/missing_stations_df.csv', index=False)"
   ]
  },
  {
   "cell_type": "code",
   "execution_count": null,
   "metadata": {},
   "outputs": [],
   "source": []
  }
 ],
 "metadata": {
  "kernelspec": {
   "display_name": "ML",
   "language": "python",
   "name": "python3"
  },
  "language_info": {
   "codemirror_mode": {
    "name": "ipython",
    "version": 3
   },
   "file_extension": ".py",
   "mimetype": "text/x-python",
   "name": "python",
   "nbconvert_exporter": "python",
   "pygments_lexer": "ipython3",
   "version": "3.9.7"
  },
  "orig_nbformat": 4
 },
 "nbformat": 4,
 "nbformat_minor": 2
}
