{
 "cells": [
  {
   "cell_type": "code",
   "execution_count": null,
   "metadata": {},
   "outputs": [],
   "source": [
    "#### Author : Maximiliano Lopez Salgado\n",
    "#### First commit: 2023-05-05\n",
    "#### Last commit: 2023-05-05\n",
    "#### Description: This notebook is used to explore the bike data set"
   ]
  },
  {
   "cell_type": "code",
   "execution_count": null,
   "metadata": {},
   "outputs": [],
   "source": [
    "<center><h1>Data Wrangling</center></h1>"
   ]
  },
  {
   "cell_type": "code",
   "execution_count": null,
   "metadata": {},
   "outputs": [],
   "source": [
    "# import ML libraries\n",
    "import pandas as pd\n",
    "import numpy as np\n",
    "import matplotlib.pyplot as plt\n",
    "import seaborn as sns\n",
    "import datetime as dt\n",
    "import math"
   ]
  },
  {
   "cell_type": "code",
   "execution_count": null,
   "metadata": {},
   "outputs": [],
   "source": [
    "# import day dataset from csv file and store it in a dataframe named day\n",
    "day = pd.read_csv('/Users/maximilianolopezsalgado/data_projects/capital_bike_sharing/datasets/day.csv')\n",
    "\n",
    "# import hour dataset from csv file and store it in a dataframe named hour\n",
    "hour = pd.read_csv('/Users/maximilianolopezsalgado/data_projects/capital_bike_sharing/datasets/hour.csv')\n",
    "\n",
    "# print the first 5 rows of the day dataset\n",
    "display(day.head())\n",
    "\n",
    "# print the first 5 rows of the hour dataset\n",
    "display(hour.head())"
   ]
  },
  {
   "cell_type": "code",
   "execution_count": null,
   "metadata": {},
   "outputs": [],
   "source": [
    "# Check the shape of datasets and column names for day and hour datasets \n",
    "print('Shape of day dataset: ', day.shape)\n",
    "print('Shape of hour dataset: ', hour.shape)"
   ]
  },
  {
   "cell_type": "code",
   "execution_count": null,
   "metadata": {},
   "outputs": [],
   "source": [
    "# look out for missing values in day dataset\n",
    "print('Missing values in day dataset: ', day.isnull().sum())\n",
    "\n",
    "# look out for missing values in hour dataset\n",
    "print('Missing values in hour dataset: ', hour.isnull().sum())"
   ]
  },
  {
   "cell_type": "code",
   "execution_count": null,
   "metadata": {},
   "outputs": [],
   "source": [
    "# check the data types for day dataset\n",
    "print('Data types for day dataset: ', day.dtypes)\n",
    "\n",
    "# check the data types for hour dataset\n",
    "print('Data types for hour dataset: ', hour.dtypes)"
   ]
  },
  {
   "cell_type": "code",
   "execution_count": null,
   "metadata": {},
   "outputs": [],
   "source": [
    "# check the unique values for each column in day dataset\n",
    "print('Unique values for each column in day dataset: ', day.nunique())\n",
    "\n",
    "# check the unique values for each column in hour dataset\n",
    "print('Unique values for each column in hour dataset: ', hour.nunique())"
   ]
  },
  {
   "cell_type": "code",
   "execution_count": null,
   "metadata": {},
   "outputs": [],
   "source": [
    "# check the descriptive statistics for day dataset\n",
    "print('Descriptive statistics for day dataset: ', day.describe())\n",
    "\n",
    "# check the descriptive statistics for hour dataset\n",
    "print('Descriptive statistics for hour dataset: ', hour.describe())"
   ]
  },
  {
   "cell_type": "code",
   "execution_count": null,
   "metadata": {},
   "outputs": [],
   "source": [
    "# rename the hour dataset to bike\n",
    "bike = hour"
   ]
  },
  {
   "cell_type": "code",
   "execution_count": null,
   "metadata": {},
   "outputs": [],
   "source": []
  },
  {
   "cell_type": "code",
   "execution_count": null,
   "metadata": {},
   "outputs": [],
   "source": []
  },
  {
   "cell_type": "code",
   "execution_count": null,
   "metadata": {},
   "outputs": [],
   "source": []
  },
  {
   "cell_type": "code",
   "execution_count": null,
   "metadata": {},
   "outputs": [],
   "source": []
  },
  {
   "cell_type": "code",
   "execution_count": null,
   "metadata": {},
   "outputs": [],
   "source": []
  },
  {
   "cell_type": "code",
   "execution_count": null,
   "metadata": {},
   "outputs": [],
   "source": []
  },
  {
   "cell_type": "code",
   "execution_count": null,
   "metadata": {},
   "outputs": [],
   "source": []
  },
  {
   "cell_type": "code",
   "execution_count": null,
   "metadata": {},
   "outputs": [],
   "source": []
  },
  {
   "cell_type": "code",
   "execution_count": null,
   "metadata": {},
   "outputs": [],
   "source": []
  },
  {
   "cell_type": "code",
   "execution_count": null,
   "metadata": {},
   "outputs": [],
   "source": []
  },
  {
   "cell_type": "code",
   "execution_count": null,
   "metadata": {},
   "outputs": [],
   "source": []
  },
  {
   "cell_type": "code",
   "execution_count": null,
   "metadata": {},
   "outputs": [],
   "source": []
  }
 ],
 "metadata": {
  "kernelspec": {
   "display_name": "ML",
   "language": "python",
   "name": "python3"
  },
  "language_info": {
   "name": "python",
   "version": "3.9.16"
  },
  "orig_nbformat": 4
 },
 "nbformat": 4,
 "nbformat_minor": 2
}
