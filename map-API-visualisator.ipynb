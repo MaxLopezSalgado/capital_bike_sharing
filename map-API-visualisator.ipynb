{
 "cells": [
  {
   "attachments": {},
   "cell_type": "markdown",
   "metadata": {},
   "source": [
    "#### Author : Maximiliano Lopez Salgado\n",
    "#### First commit: 2023-05-11\n",
    "#### Last commit: 2023-05-11\n",
    "#### Description: This notebook is used to perform EDA on the bike data set"
   ]
  },
  {
   "cell_type": "code",
   "execution_count": 32,
   "metadata": {},
   "outputs": [],
   "source": [
    "# import ML libraries\n",
    "import pandas as pd\n",
    "import numpy as np\n",
    "import matplotlib.pyplot as plt\n",
    "import seaborn as sns\n",
    "import os\n",
    "import googlemaps # pip install googlemaps\n",
    "import gmaps # pip install gmaps"
   ]
  },
  {
   "cell_type": "code",
   "execution_count": 33,
   "metadata": {},
   "outputs": [],
   "source": [
    "# import station_coordinates data\n",
    "station_coordinates = pd.read_csv('/Users/maximilianolopezsalgado/data_projects/capital_bike_sharing/datasets/station_coordinates.csv', header=None)\n",
    "\n",
    "# import trip_history data\n",
    "trip_story = pd.read_csv('/Users/maximilianolopezsalgado/data_projects/capital_bike_sharing/datasets/trip_history.csv')"
   ]
  },
  {
   "cell_type": "code",
   "execution_count": 36,
   "metadata": {},
   "outputs": [
    {
     "data": {
      "text/html": [
       "<div>\n",
       "<style scoped>\n",
       "    .dataframe tbody tr th:only-of-type {\n",
       "        vertical-align: middle;\n",
       "    }\n",
       "\n",
       "    .dataframe tbody tr th {\n",
       "        vertical-align: top;\n",
       "    }\n",
       "\n",
       "    .dataframe thead th {\n",
       "        text-align: right;\n",
       "    }\n",
       "</style>\n",
       "<table border=\"1\" class=\"dataframe\">\n",
       "  <thead>\n",
       "    <tr style=\"text-align: right;\">\n",
       "      <th></th>\n",
       "      <th>station_name</th>\n",
       "      <th>station_latitude</th>\n",
       "      <th>station_longitude</th>\n",
       "    </tr>\n",
       "  </thead>\n",
       "  <tbody>\n",
       "    <tr>\n",
       "      <th>0</th>\n",
       "      <td>Marymount University / Yorktown Blvd &amp; 26th St N</td>\n",
       "      <td>38.904252</td>\n",
       "      <td>-77.127776</td>\n",
       "    </tr>\n",
       "    <tr>\n",
       "      <th>1</th>\n",
       "      <td>East Falls Church Metro / Sycamore St &amp; 19th St N</td>\n",
       "      <td>38.88532071975074</td>\n",
       "      <td>-77.15642720460892</td>\n",
       "    </tr>\n",
       "    <tr>\n",
       "      <th>2</th>\n",
       "      <td>E Fairfax St &amp; S Washington St</td>\n",
       "      <td>38.880612</td>\n",
       "      <td>-77.171891</td>\n",
       "    </tr>\n",
       "    <tr>\n",
       "      <th>3</th>\n",
       "      <td>Inlet Ct &amp; Wiehle Dr</td>\n",
       "      <td>38.965979</td>\n",
       "      <td>-77.334359</td>\n",
       "    </tr>\n",
       "    <tr>\n",
       "      <th>4</th>\n",
       "      <td>Reservoir Rd &amp; 38th St NW</td>\n",
       "      <td>38.91261359469192</td>\n",
       "      <td>-77.07432264076488</td>\n",
       "    </tr>\n",
       "    <tr>\n",
       "      <th>...</th>\n",
       "      <td>...</td>\n",
       "      <td>...</td>\n",
       "      <td>...</td>\n",
       "    </tr>\n",
       "    <tr>\n",
       "      <th>721</th>\n",
       "      <td>Vienna Metro South</td>\n",
       "      <td>38.877415</td>\n",
       "      <td>-77.270731</td>\n",
       "    </tr>\n",
       "    <tr>\n",
       "      <th>722</th>\n",
       "      <td>Vaden Dr &amp; Royal Victoria Dr/Providence Commun...</td>\n",
       "      <td>38.873261</td>\n",
       "      <td>-77.272999</td>\n",
       "    </tr>\n",
       "    <tr>\n",
       "      <th>723</th>\n",
       "      <td>District Ave &amp; Strawberry Ln/Mosaic Market Garage</td>\n",
       "      <td>38.872642</td>\n",
       "      <td>-77.230632</td>\n",
       "    </tr>\n",
       "    <tr>\n",
       "      <th>724</th>\n",
       "      <td>13th &amp; O St NW/ Logan Circle</td>\n",
       "      <td>38.908735</td>\n",
       "      <td>-77.029779</td>\n",
       "    </tr>\n",
       "    <tr>\n",
       "      <th>725</th>\n",
       "      <td>Arlington National Cemetery</td>\n",
       "      <td>38.884533</td>\n",
       "      <td>-77.065803</td>\n",
       "    </tr>\n",
       "  </tbody>\n",
       "</table>\n",
       "<p>726 rows × 3 columns</p>\n",
       "</div>"
      ],
      "text/plain": [
       "                                          station_name   station_latitude  \\\n",
       "0     Marymount University / Yorktown Blvd & 26th St N          38.904252   \n",
       "1    East Falls Church Metro / Sycamore St & 19th St N  38.88532071975074   \n",
       "2                       E Fairfax St & S Washington St          38.880612   \n",
       "3                                 Inlet Ct & Wiehle Dr          38.965979   \n",
       "4                            Reservoir Rd & 38th St NW  38.91261359469192   \n",
       "..                                                 ...                ...   \n",
       "721                                 Vienna Metro South          38.877415   \n",
       "722  Vaden Dr & Royal Victoria Dr/Providence Commun...          38.873261   \n",
       "723  District Ave & Strawberry Ln/Mosaic Market Garage          38.872642   \n",
       "724                       13th & O St NW/ Logan Circle          38.908735   \n",
       "725                        Arlington National Cemetery          38.884533   \n",
       "\n",
       "      station_longitude  \n",
       "0            -77.127776  \n",
       "1    -77.15642720460892  \n",
       "2            -77.171891  \n",
       "3            -77.334359  \n",
       "4    -77.07432264076488  \n",
       "..                  ...  \n",
       "721          -77.270731  \n",
       "722          -77.272999  \n",
       "723          -77.230632  \n",
       "724          -77.029779  \n",
       "725          -77.065803  \n",
       "\n",
       "[726 rows x 3 columns]"
      ]
     },
     "metadata": {},
     "output_type": "display_data"
    }
   ],
   "source": [
    "# Separate the station_coordinates with commas and rename the columns like this: 'station_name', 'station_latitude', 'station_longitude']\n",
    "station_coordinates = station_coordinates[0].str.split(',', expand=True)\n",
    "station_coordinates.columns = ['station_name', 'station_latitude', 'station_longitude']\n",
    "\n",
    "# Check station_coordinates data\n",
    "display(station_coordinates)"
   ]
  },
  {
   "cell_type": "code",
   "execution_count": 37,
   "metadata": {},
   "outputs": [
    {
     "name": "stdout",
     "output_type": "stream",
     "text": [
      "station_name         0\n",
      "station_latitude     0\n",
      "station_longitude    0\n",
      "dtype: int64\n"
     ]
    }
   ],
   "source": [
    "# search for null values\n",
    "print(station_coordinates.isnull().sum())"
   ]
  },
  {
   "cell_type": "code",
   "execution_count": null,
   "metadata": {},
   "outputs": [],
   "source": [
    "# use the googlemaps API to get the coordinates of Washington DC\n",
    "# save the key in a variable\n",
    "API_KEY = ''\n",
    "\n",
    "# create a client\n",
    "map_client = googlemaps.Client(key=API_KEY)\n",
    "\n",
    "# get the coordinates of Washington DC\n",
    "dc_coordinates = map_client.geocode('Washington DC')\n",
    "dc_coordinates = dc_coordinates[0]['geometry']['location']\n",
    "print(dc_coordinates)\n",
    "\n",
    "# create a map centered in Washington DC\n",
    "dc_map = gmaps.figure(center=dc_coordinates, zoom_level=12)\n",
    "\n",
    "# create a list of tuples with the coordinates of the stations\n",
    "#station_coordinates_tuples = [(station['station_latitude'], station['station_longitude']) for station in station_coordinates.to_dict('records')]"
   ]
  }
 ],
 "metadata": {
  "kernelspec": {
   "display_name": "ML",
   "language": "python",
   "name": "python3"
  },
  "language_info": {
   "codemirror_mode": {
    "name": "ipython",
    "version": 3
   },
   "file_extension": ".py",
   "mimetype": "text/x-python",
   "name": "python",
   "nbconvert_exporter": "python",
   "pygments_lexer": "ipython3",
   "version": "3.9.7"
  },
  "orig_nbformat": 4
 },
 "nbformat": 4,
 "nbformat_minor": 2
}
