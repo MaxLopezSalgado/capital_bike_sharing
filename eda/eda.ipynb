{
 "cells": [
  {
   "attachments": {},
   "cell_type": "markdown",
   "metadata": {},
   "source": [
    "#### Author : Maximiliano Lopez Salgado\n",
    "#### First commit: 2023-05-10\n",
    "#### Last commit: 2023-05-10\n",
    "#### Description: This notebook is used to perform EDA on the bike data set"
   ]
  },
  {
   "cell_type": "code",
   "execution_count": 78,
   "metadata": {},
   "outputs": [],
   "source": [
    "# import ML libraries\n",
    "import pandas as pd\n",
    "import numpy as np\n",
    "import matplotlib.pyplot as plt\n",
    "import seaborn as sns\n",
    "import os\n",
    "import folium\n",
    "from folium.plugins import HeatMap"
   ]
  },
  {
   "attachments": {},
   "cell_type": "markdown",
   "metadata": {},
   "source": [
    "<center><h1>Exploratory Data Analysis</center></h1>"
   ]
  },
  {
   "attachments": {},
   "cell_type": "markdown",
   "metadata": {},
   "source": [
    "#### Formulate some hypothesis and plot the data to check if the hypothesis are true. \n",
    "#### I.E: Hourly trend: most of the businesses have rush hours and weak hours. It should not be an exception for bike rentals as well. \n",
    "#### Daily Trend: weekdays vs weekends and registered users vs casual users.. \n",
    "#### Rain: the demand for bikes might be changed on a rainy day as compared to a sunny day. Similarly, people prefer to go out on less humid days..\n",
    "#### Temperature: in warm countries, temperature generally keeps people inside. You have to check Washington DC's temperature for making any guess.. \n",
    "#### Business model: businesses often rely on registered customers more than casual users. There might be some interesting insights that can strengthen this assumption."
   ]
  },
  {
   "cell_type": "code",
   "execution_count": 79,
   "metadata": {},
   "outputs": [
    {
     "data": {
      "text/html": [
       "<div>\n",
       "<style scoped>\n",
       "    .dataframe tbody tr th:only-of-type {\n",
       "        vertical-align: middle;\n",
       "    }\n",
       "\n",
       "    .dataframe tbody tr th {\n",
       "        vertical-align: top;\n",
       "    }\n",
       "\n",
       "    .dataframe thead th {\n",
       "        text-align: right;\n",
       "    }\n",
       "</style>\n",
       "<table border=\"1\" class=\"dataframe\">\n",
       "  <thead>\n",
       "    <tr style=\"text-align: right;\">\n",
       "      <th></th>\n",
       "      <th>instant</th>\n",
       "      <th>date</th>\n",
       "      <th>season</th>\n",
       "      <th>year</th>\n",
       "      <th>month</th>\n",
       "      <th>hour</th>\n",
       "      <th>holiday</th>\n",
       "      <th>weekday</th>\n",
       "      <th>workingday</th>\n",
       "      <th>weather</th>\n",
       "      <th>...</th>\n",
       "      <th>apparent_temp</th>\n",
       "      <th>humidity</th>\n",
       "      <th>windspeed</th>\n",
       "      <th>casual_user</th>\n",
       "      <th>registered_user</th>\n",
       "      <th>count</th>\n",
       "      <th>day_period</th>\n",
       "      <th>warmness</th>\n",
       "      <th>humidity_level</th>\n",
       "      <th>windspeed_level</th>\n",
       "    </tr>\n",
       "  </thead>\n",
       "  <tbody>\n",
       "    <tr>\n",
       "      <th>0</th>\n",
       "      <td>1</td>\n",
       "      <td>2011-01-01</td>\n",
       "      <td>Winter</td>\n",
       "      <td>2011</td>\n",
       "      <td>January</td>\n",
       "      <td>0</td>\n",
       "      <td>No</td>\n",
       "      <td>Sunday</td>\n",
       "      <td>No</td>\n",
       "      <td>Clear</td>\n",
       "      <td>...</td>\n",
       "      <td>3.0014</td>\n",
       "      <td>0.81</td>\n",
       "      <td>0.0</td>\n",
       "      <td>3</td>\n",
       "      <td>13</td>\n",
       "      <td>16</td>\n",
       "      <td>Dawn</td>\n",
       "      <td>Cold</td>\n",
       "      <td>High</td>\n",
       "      <td>Low</td>\n",
       "    </tr>\n",
       "    <tr>\n",
       "      <th>1</th>\n",
       "      <td>2</td>\n",
       "      <td>2011-01-01</td>\n",
       "      <td>Winter</td>\n",
       "      <td>2011</td>\n",
       "      <td>January</td>\n",
       "      <td>1</td>\n",
       "      <td>No</td>\n",
       "      <td>Sunday</td>\n",
       "      <td>No</td>\n",
       "      <td>Clear</td>\n",
       "      <td>...</td>\n",
       "      <td>1.9982</td>\n",
       "      <td>0.80</td>\n",
       "      <td>0.0</td>\n",
       "      <td>8</td>\n",
       "      <td>32</td>\n",
       "      <td>40</td>\n",
       "      <td>Dawn</td>\n",
       "      <td>Cold</td>\n",
       "      <td>High</td>\n",
       "      <td>Low</td>\n",
       "    </tr>\n",
       "    <tr>\n",
       "      <th>2</th>\n",
       "      <td>3</td>\n",
       "      <td>2011-01-01</td>\n",
       "      <td>Winter</td>\n",
       "      <td>2011</td>\n",
       "      <td>January</td>\n",
       "      <td>2</td>\n",
       "      <td>No</td>\n",
       "      <td>Sunday</td>\n",
       "      <td>No</td>\n",
       "      <td>Clear</td>\n",
       "      <td>...</td>\n",
       "      <td>1.9982</td>\n",
       "      <td>0.80</td>\n",
       "      <td>0.0</td>\n",
       "      <td>5</td>\n",
       "      <td>27</td>\n",
       "      <td>32</td>\n",
       "      <td>Dawn</td>\n",
       "      <td>Cold</td>\n",
       "      <td>High</td>\n",
       "      <td>Low</td>\n",
       "    </tr>\n",
       "    <tr>\n",
       "      <th>3</th>\n",
       "      <td>4</td>\n",
       "      <td>2011-01-01</td>\n",
       "      <td>Winter</td>\n",
       "      <td>2011</td>\n",
       "      <td>January</td>\n",
       "      <td>3</td>\n",
       "      <td>No</td>\n",
       "      <td>Sunday</td>\n",
       "      <td>No</td>\n",
       "      <td>Clear</td>\n",
       "      <td>...</td>\n",
       "      <td>3.0014</td>\n",
       "      <td>0.75</td>\n",
       "      <td>0.0</td>\n",
       "      <td>3</td>\n",
       "      <td>10</td>\n",
       "      <td>13</td>\n",
       "      <td>Dawn</td>\n",
       "      <td>Cold</td>\n",
       "      <td>High</td>\n",
       "      <td>Low</td>\n",
       "    </tr>\n",
       "    <tr>\n",
       "      <th>4</th>\n",
       "      <td>5</td>\n",
       "      <td>2011-01-01</td>\n",
       "      <td>Winter</td>\n",
       "      <td>2011</td>\n",
       "      <td>January</td>\n",
       "      <td>4</td>\n",
       "      <td>No</td>\n",
       "      <td>Sunday</td>\n",
       "      <td>No</td>\n",
       "      <td>Clear</td>\n",
       "      <td>...</td>\n",
       "      <td>3.0014</td>\n",
       "      <td>0.75</td>\n",
       "      <td>0.0</td>\n",
       "      <td>0</td>\n",
       "      <td>1</td>\n",
       "      <td>1</td>\n",
       "      <td>Dawn</td>\n",
       "      <td>Cold</td>\n",
       "      <td>High</td>\n",
       "      <td>Low</td>\n",
       "    </tr>\n",
       "  </tbody>\n",
       "</table>\n",
       "<p>5 rows × 21 columns</p>\n",
       "</div>"
      ],
      "text/plain": [
       "   instant        date  season  year    month  hour holiday weekday  \\\n",
       "0        1  2011-01-01  Winter  2011  January     0      No  Sunday   \n",
       "1        2  2011-01-01  Winter  2011  January     1      No  Sunday   \n",
       "2        3  2011-01-01  Winter  2011  January     2      No  Sunday   \n",
       "3        4  2011-01-01  Winter  2011  January     3      No  Sunday   \n",
       "4        5  2011-01-01  Winter  2011  January     4      No  Sunday   \n",
       "\n",
       "  workingday weather  ...  apparent_temp  humidity  windspeed  casual_user  \\\n",
       "0         No   Clear  ...         3.0014      0.81        0.0            3   \n",
       "1         No   Clear  ...         1.9982      0.80        0.0            8   \n",
       "2         No   Clear  ...         1.9982      0.80        0.0            5   \n",
       "3         No   Clear  ...         3.0014      0.75        0.0            3   \n",
       "4         No   Clear  ...         3.0014      0.75        0.0            0   \n",
       "\n",
       "   registered_user  count  day_period warmness humidity_level windspeed_level  \n",
       "0               13     16        Dawn     Cold           High             Low  \n",
       "1               32     40        Dawn     Cold           High             Low  \n",
       "2               27     32        Dawn     Cold           High             Low  \n",
       "3               10     13        Dawn     Cold           High             Low  \n",
       "4                1      1        Dawn     Cold           High             Low  \n",
       "\n",
       "[5 rows x 21 columns]"
      ]
     },
     "execution_count": 79,
     "metadata": {},
     "output_type": "execute_result"
    }
   ],
   "source": [
    "# import bike data\n",
    "rentals_time_weather = pd.read_csv('/Users/maximilianolopezsalgado/data_projects/capital_bike_sharing/datasets/rentals_time_weather.csv')\n",
    "\n",
    "# print first 5 rows\n",
    "rentals_time_weather.head()"
   ]
  },
  {
   "attachments": {},
   "cell_type": "markdown",
   "metadata": {},
   "source": [
    "### Hypothesis 1"
   ]
  },
  {
   "attachments": {},
   "cell_type": "markdown",
   "metadata": {},
   "source": [
    "### If the value of the the season column is equal to summer, then the number of bike rentals will be higher than the other seasons."
   ]
  },
  {
   "cell_type": "code",
   "execution_count": 80,
   "metadata": {},
   "outputs": [
    {
     "data": {
      "text/html": [
       "<div>\n",
       "<style scoped>\n",
       "    .dataframe tbody tr th:only-of-type {\n",
       "        vertical-align: middle;\n",
       "    }\n",
       "\n",
       "    .dataframe tbody tr th {\n",
       "        vertical-align: top;\n",
       "    }\n",
       "\n",
       "    .dataframe thead th {\n",
       "        text-align: right;\n",
       "    }\n",
       "</style>\n",
       "<table border=\"1\" class=\"dataframe\">\n",
       "  <thead>\n",
       "    <tr style=\"text-align: right;\">\n",
       "      <th></th>\n",
       "      <th>count</th>\n",
       "    </tr>\n",
       "    <tr>\n",
       "      <th>season</th>\n",
       "      <th></th>\n",
       "    </tr>\n",
       "  </thead>\n",
       "  <tbody>\n",
       "    <tr>\n",
       "      <th>Summer</th>\n",
       "      <td>1061129</td>\n",
       "    </tr>\n",
       "    <tr>\n",
       "      <th>Spring</th>\n",
       "      <td>918589</td>\n",
       "    </tr>\n",
       "    <tr>\n",
       "      <th>Fall</th>\n",
       "      <td>841613</td>\n",
       "    </tr>\n",
       "    <tr>\n",
       "      <th>Winter</th>\n",
       "      <td>471348</td>\n",
       "    </tr>\n",
       "  </tbody>\n",
       "</table>\n",
       "</div>"
      ],
      "text/plain": [
       "          count\n",
       "season         \n",
       "Summer  1061129\n",
       "Spring   918589\n",
       "Fall     841613\n",
       "Winter   471348"
      ]
     },
     "execution_count": 80,
     "metadata": {},
     "output_type": "execute_result"
    }
   ],
   "source": [
    "# create a pivot table to check the number of bike rentals in each season and order it in descending order\n",
    "rentals_per_season = rentals_time_weather.pivot_table(index='season', values='count', aggfunc='sum').sort_values(by='count', ascending=False)\n",
    "rentals_per_season"
   ]
  },
  {
   "cell_type": "code",
   "execution_count": 92,
   "metadata": {},
   "outputs": [
    {
     "name": "stderr",
     "output_type": "stream",
     "text": [
      "/var/folders/zh/sct9634x6kvcb6_5gkff84nh0000gn/T/ipykernel_65271/828509864.py:2: FutureWarning: The default value of numeric_only in DataFrameGroupBy.sum is deprecated. In a future version, numeric_only will default to False. Either specify numeric_only or select only columns which should be valid for the function.\n",
      "  rentals_per_season_df = rentals_time_weather.groupby('season').sum().sort_values(by='count', ascending=False)\n"
     ]
    },
    {
     "data": {
      "text/html": [
       "<div>\n",
       "<style scoped>\n",
       "    .dataframe tbody tr th:only-of-type {\n",
       "        vertical-align: middle;\n",
       "    }\n",
       "\n",
       "    .dataframe tbody tr th {\n",
       "        vertical-align: top;\n",
       "    }\n",
       "\n",
       "    .dataframe thead th {\n",
       "        text-align: right;\n",
       "    }\n",
       "</style>\n",
       "<table border=\"1\" class=\"dataframe\">\n",
       "  <thead>\n",
       "    <tr style=\"text-align: right;\">\n",
       "      <th></th>\n",
       "      <th>instant</th>\n",
       "      <th>year</th>\n",
       "      <th>hour</th>\n",
       "      <th>temp</th>\n",
       "      <th>apparent_temp</th>\n",
       "      <th>humidity</th>\n",
       "      <th>windspeed</th>\n",
       "      <th>casual_user</th>\n",
       "      <th>registered_user</th>\n",
       "      <th>count</th>\n",
       "    </tr>\n",
       "    <tr>\n",
       "      <th>season</th>\n",
       "      <th></th>\n",
       "      <th></th>\n",
       "      <th></th>\n",
       "      <th></th>\n",
       "      <th></th>\n",
       "      <th></th>\n",
       "      <th></th>\n",
       "      <th></th>\n",
       "      <th></th>\n",
       "      <th></th>\n",
       "    </tr>\n",
       "  </thead>\n",
       "  <tbody>\n",
       "    <tr>\n",
       "      <th>Summer</th>\n",
       "      <td>42831544</td>\n",
       "      <td>9043712</td>\n",
       "      <td>51738</td>\n",
       "      <td>113304.94</td>\n",
       "      <td>122723.8588</td>\n",
       "      <td>2846.72</td>\n",
       "      <td>51689.2270</td>\n",
       "      <td>226091</td>\n",
       "      <td>835038</td>\n",
       "      <td>1061129</td>\n",
       "    </tr>\n",
       "    <tr>\n",
       "      <th>Spring</th>\n",
       "      <td>32131590</td>\n",
       "      <td>8868705</td>\n",
       "      <td>50757</td>\n",
       "      <td>77594.74</td>\n",
       "      <td>80932.0390</td>\n",
       "      <td>2764.54</td>\n",
       "      <td>60088.0053</td>\n",
       "      <td>203522</td>\n",
       "      <td>715067</td>\n",
       "      <td>918589</td>\n",
       "    </tr>\n",
       "    <tr>\n",
       "      <th>Fall</th>\n",
       "      <td>49327258</td>\n",
       "      <td>8512650</td>\n",
       "      <td>48763</td>\n",
       "      <td>50307.84</td>\n",
       "      <td>48408.5386</td>\n",
       "      <td>2823.27</td>\n",
       "      <td>48434.5948</td>\n",
       "      <td>129782</td>\n",
       "      <td>711831</td>\n",
       "      <td>841613</td>\n",
       "    </tr>\n",
       "    <tr>\n",
       "      <th>Winter</th>\n",
       "      <td>26733118</td>\n",
       "      <td>8532836</td>\n",
       "      <td>49413</td>\n",
       "      <td>25706.06</td>\n",
       "      <td>15592.2666</td>\n",
       "      <td>2466.08</td>\n",
       "      <td>61136.4950</td>\n",
       "      <td>60622</td>\n",
       "      <td>410726</td>\n",
       "      <td>471348</td>\n",
       "    </tr>\n",
       "  </tbody>\n",
       "</table>\n",
       "</div>"
      ],
      "text/plain": [
       "         instant     year   hour       temp  apparent_temp  humidity  \\\n",
       "season                                                                 \n",
       "Summer  42831544  9043712  51738  113304.94    122723.8588   2846.72   \n",
       "Spring  32131590  8868705  50757   77594.74     80932.0390   2764.54   \n",
       "Fall    49327258  8512650  48763   50307.84     48408.5386   2823.27   \n",
       "Winter  26733118  8532836  49413   25706.06     15592.2666   2466.08   \n",
       "\n",
       "         windspeed  casual_user  registered_user    count  \n",
       "season                                                     \n",
       "Summer  51689.2270       226091           835038  1061129  \n",
       "Spring  60088.0053       203522           715067   918589  \n",
       "Fall    48434.5948       129782           711831   841613  \n",
       "Winter  61136.4950        60622           410726   471348  "
      ]
     },
     "execution_count": 92,
     "metadata": {},
     "output_type": "execute_result"
    }
   ],
   "source": [
    "# create a new df for rental_per_person pivot table to check the number of bike rentals in each season using groupby function\n",
    "rentals_per_season_df = rentals_time_weather.groupby('season').sum().sort_values(by='count', ascending=False)\n",
    "rentals_per_season_df"
   ]
  },
  {
   "cell_type": "code",
   "execution_count": 108,
   "metadata": {},
   "outputs": [
    {
     "data": {
      "image/png": "[encoded data removed]",
      "text/plain": [
       "<Figure size 1000x600 with 1 Axes>"
      ]
     },
     "metadata": {},
     "output_type": "display_data"
    }
   ],
   "source": [
    "# create a bar plot that shows the number of bike rentals per season and the type of user\n",
    "plt.figure(figsize=(10, 6))\n",
    "sns.barplot(x=rentals_per_season_df.index, y=rentals_per_season_df['registered_user'], color='blue', label='Registered', alpha=0.7)   # we need to call this first to get the casual users on top of the registered users in the graph\n",
    "sns.barplot(x=rentals_per_season_df.index, y=rentals_per_season_df['casual_user'], color='red', label='Casual')\n",
    "plt.title('Number of Bike Rentals per Season')\n",
    "plt.xlabel('Season')\n",
    "plt.ylabel('Number of Bike Rentals')\n",
    "plt.legend()\n",
    "\n",
    "# Adjust the y-axis tick labels to display the actual numbers without scientific notation\n",
    "plt.ticklabel_format(style='plain', axis='y')\n",
    "\n",
    "plt.show()"
   ]
  },
  {
   "attachments": {},
   "cell_type": "markdown",
   "metadata": {},
   "source": [
    "#### Hypothesis 1 is true, the number of bike rentals is higher during the summer season"
   ]
  },
  {
   "attachments": {},
   "cell_type": "markdown",
   "metadata": {},
   "source": [
    "### Hypothesis 2"
   ]
  },
  {
   "attachments": {},
   "cell_type": "markdown",
   "metadata": {},
   "source": [
    "### If the value of the the weather column is equal to clean, then the number of bike rentals will be higher than the other seasons\n"
   ]
  },
  {
   "cell_type": "code",
   "execution_count": 81,
   "metadata": {},
   "outputs": [
    {
     "data": {
      "text/html": [
       "<div>\n",
       "<style scoped>\n",
       "    .dataframe tbody tr th:only-of-type {\n",
       "        vertical-align: middle;\n",
       "    }\n",
       "\n",
       "    .dataframe tbody tr th {\n",
       "        vertical-align: top;\n",
       "    }\n",
       "\n",
       "    .dataframe thead th {\n",
       "        text-align: right;\n",
       "    }\n",
       "</style>\n",
       "<table border=\"1\" class=\"dataframe\">\n",
       "  <thead>\n",
       "    <tr style=\"text-align: right;\">\n",
       "      <th></th>\n",
       "      <th>count</th>\n",
       "    </tr>\n",
       "    <tr>\n",
       "      <th>weather</th>\n",
       "      <th></th>\n",
       "    </tr>\n",
       "  </thead>\n",
       "  <tbody>\n",
       "    <tr>\n",
       "      <th>Clear</th>\n",
       "      <td>2338173</td>\n",
       "    </tr>\n",
       "    <tr>\n",
       "      <th>Mist-Cloudy</th>\n",
       "      <td>795952</td>\n",
       "    </tr>\n",
       "    <tr>\n",
       "      <th>Light-Rain</th>\n",
       "      <td>158331</td>\n",
       "    </tr>\n",
       "    <tr>\n",
       "      <th>Heavy-Rain</th>\n",
       "      <td>223</td>\n",
       "    </tr>\n",
       "  </tbody>\n",
       "</table>\n",
       "</div>"
      ],
      "text/plain": [
       "               count\n",
       "weather             \n",
       "Clear        2338173\n",
       "Mist-Cloudy   795952\n",
       "Light-Rain    158331\n",
       "Heavy-Rain       223"
      ]
     },
     "execution_count": 81,
     "metadata": {},
     "output_type": "execute_result"
    }
   ],
   "source": [
    "# Create a pivot table to check the number of bike rentals in each weather and order it in descending order\n",
    "rentals_per_weather = pd.pivot_table(rentals_time_weather, index='weather', values='count', aggfunc='sum').sort_values(by='count', ascending=False)\n",
    "rentals_per_weather"
   ]
  },
  {
   "cell_type": "code",
   "execution_count": 97,
   "metadata": {},
   "outputs": [
    {
     "name": "stderr",
     "output_type": "stream",
     "text": [
      "/var/folders/zh/sct9634x6kvcb6_5gkff84nh0000gn/T/ipykernel_65271/3794157298.py:2: FutureWarning: The default value of numeric_only in DataFrameGroupBy.sum is deprecated. In a future version, numeric_only will default to False. Either specify numeric_only or select only columns which should be valid for the function.\n",
      "  rentals_per_weather_df = rentals_time_weather.groupby('weather').sum().sort_values(by='count', ascending=False)\n"
     ]
    },
    {
     "data": {
      "text/html": [
       "<div>\n",
       "<style scoped>\n",
       "    .dataframe tbody tr th:only-of-type {\n",
       "        vertical-align: middle;\n",
       "    }\n",
       "\n",
       "    .dataframe tbody tr th {\n",
       "        vertical-align: top;\n",
       "    }\n",
       "\n",
       "    .dataframe thead th {\n",
       "        text-align: right;\n",
       "    }\n",
       "</style>\n",
       "<table border=\"1\" class=\"dataframe\">\n",
       "  <thead>\n",
       "    <tr style=\"text-align: right;\">\n",
       "      <th></th>\n",
       "      <th>instant</th>\n",
       "      <th>year</th>\n",
       "      <th>hour</th>\n",
       "      <th>temp</th>\n",
       "      <th>apparent_temp</th>\n",
       "      <th>humidity</th>\n",
       "      <th>windspeed</th>\n",
       "      <th>casual_user</th>\n",
       "      <th>registered_user</th>\n",
       "      <th>count</th>\n",
       "    </tr>\n",
       "    <tr>\n",
       "      <th>weather</th>\n",
       "      <th></th>\n",
       "      <th></th>\n",
       "      <th></th>\n",
       "      <th></th>\n",
       "      <th></th>\n",
       "      <th></th>\n",
       "      <th></th>\n",
       "      <th></th>\n",
       "      <th></th>\n",
       "      <th></th>\n",
       "    </tr>\n",
       "  </thead>\n",
       "  <tbody>\n",
       "    <tr>\n",
       "      <th>Clear</th>\n",
       "      <td>99256016</td>\n",
       "      <td>22957311</td>\n",
       "      <td>133894</td>\n",
       "      <td>182831.02</td>\n",
       "      <td>185273.0564</td>\n",
       "      <td>6548.17</td>\n",
       "      <td>145710.4476</td>\n",
       "      <td>462745</td>\n",
       "      <td>1875428</td>\n",
       "      <td>2338173</td>\n",
       "    </tr>\n",
       "    <tr>\n",
       "      <th>Mist-Cloudy</th>\n",
       "      <td>40117179</td>\n",
       "      <td>9140310</td>\n",
       "      <td>49799</td>\n",
       "      <td>64974.36</td>\n",
       "      <td>64229.3416</td>\n",
       "      <td>3175.38</td>\n",
       "      <td>54792.5531</td>\n",
       "      <td>134481</td>\n",
       "      <td>661471</td>\n",
       "      <td>795952</td>\n",
       "    </tr>\n",
       "    <tr>\n",
       "      <th>Light-Rain</th>\n",
       "      <td>11631750</td>\n",
       "      <td>2854247</td>\n",
       "      <td>16943</td>\n",
       "      <td>19105.88</td>\n",
       "      <td>18165.2988</td>\n",
       "      <td>1174.41</td>\n",
       "      <td>20804.3174</td>\n",
       "      <td>22783</td>\n",
       "      <td>135548</td>\n",
       "      <td>158331</td>\n",
       "    </tr>\n",
       "    <tr>\n",
       "      <th>Heavy-Rain</th>\n",
       "      <td>18565</td>\n",
       "      <td>6035</td>\n",
       "      <td>35</td>\n",
       "      <td>2.32</td>\n",
       "      <td>-10.9938</td>\n",
       "      <td>2.65</td>\n",
       "      <td>41.0040</td>\n",
       "      <td>8</td>\n",
       "      <td>215</td>\n",
       "      <td>223</td>\n",
       "    </tr>\n",
       "  </tbody>\n",
       "</table>\n",
       "</div>"
      ],
      "text/plain": [
       "              instant      year    hour       temp  apparent_temp  humidity  \\\n",
       "weather                                                                       \n",
       "Clear        99256016  22957311  133894  182831.02    185273.0564   6548.17   \n",
       "Mist-Cloudy  40117179   9140310   49799   64974.36     64229.3416   3175.38   \n",
       "Light-Rain   11631750   2854247   16943   19105.88     18165.2988   1174.41   \n",
       "Heavy-Rain      18565      6035      35       2.32       -10.9938      2.65   \n",
       "\n",
       "               windspeed  casual_user  registered_user    count  \n",
       "weather                                                          \n",
       "Clear        145710.4476       462745          1875428  2338173  \n",
       "Mist-Cloudy   54792.5531       134481           661471   795952  \n",
       "Light-Rain    20804.3174        22783           135548   158331  \n",
       "Heavy-Rain       41.0040            8              215      223  "
      ]
     },
     "execution_count": 97,
     "metadata": {},
     "output_type": "execute_result"
    }
   ],
   "source": [
    "# create a new df for rental_per_weather pivot table to check the number of bike rentals in each weather using groupby function\n",
    "rentals_per_weather_df = rentals_time_weather.groupby('weather').sum().sort_values(by='count', ascending=False)\n",
    "rentals_per_weather_df"
   ]
  },
  {
   "cell_type": "code",
   "execution_count": 109,
   "metadata": {},
   "outputs": [
    {
     "data": {
      "image/png": "[encoded data removed]",
      "text/plain": [
       "<Figure size 1000x600 with 1 Axes>"
      ]
     },
     "metadata": {},
     "output_type": "display_data"
    }
   ],
   "source": [
    "# create a bar plot that shows the number of bike rentals per weather and the type of user\n",
    "plt.figure(figsize=(10, 6))\n",
    "sns.barplot(x=rentals_per_weather_df.index, y=rentals_per_weather_df['registered_user'], color='blue', label='Registered', alpha=0.7)   # we need to call this first to get the casual users on top of the registered users in the graph\n",
    "sns.barplot(x=rentals_per_weather_df.index, y=rentals_per_weather_df['casual_user'], color='red', label='Casual')\n",
    "plt.title('Number of Bike Rentals per weather')\n",
    "plt.xlabel('Weather')\n",
    "plt.ylabel('Number of Bike Rentals')\n",
    "plt.legend()\n",
    "\n",
    "# Adjust the y-axis tick labels to display the actual numbers without scientific notation\n",
    "plt.ticklabel_format(style='plain', axis='y')\n",
    "\n",
    "plt.show()"
   ]
  },
  {
   "attachments": {},
   "cell_type": "markdown",
   "metadata": {},
   "source": [
    "#### Hypothesis 2 is true, the number of bike rentals is higher when the weather is clear"
   ]
  },
  {
   "attachments": {},
   "cell_type": "markdown",
   "metadata": {},
   "source": [
    "### Hypothesis 3"
   ]
  },
  {
   "attachments": {},
   "cell_type": "markdown",
   "metadata": {},
   "source": [
    "### If the value of the the temperature column is equal to hot, then the number of bike rentals will be higher than the other seasons\n"
   ]
  },
  {
   "cell_type": "code",
   "execution_count": 82,
   "metadata": {},
   "outputs": [
    {
     "data": {
      "text/html": [
       "<div>\n",
       "<style scoped>\n",
       "    .dataframe tbody tr th:only-of-type {\n",
       "        vertical-align: middle;\n",
       "    }\n",
       "\n",
       "    .dataframe tbody tr th {\n",
       "        vertical-align: top;\n",
       "    }\n",
       "\n",
       "    .dataframe thead th {\n",
       "        text-align: right;\n",
       "    }\n",
       "</style>\n",
       "<table border=\"1\" class=\"dataframe\">\n",
       "  <thead>\n",
       "    <tr style=\"text-align: right;\">\n",
       "      <th></th>\n",
       "      <th>count</th>\n",
       "    </tr>\n",
       "    <tr>\n",
       "      <th>warmness</th>\n",
       "      <th></th>\n",
       "    </tr>\n",
       "  </thead>\n",
       "  <tbody>\n",
       "    <tr>\n",
       "      <th>Hot</th>\n",
       "      <td>1224500</td>\n",
       "    </tr>\n",
       "    <tr>\n",
       "      <th>Cold</th>\n",
       "      <td>832128</td>\n",
       "    </tr>\n",
       "    <tr>\n",
       "      <th>Warm</th>\n",
       "      <td>687711</td>\n",
       "    </tr>\n",
       "    <tr>\n",
       "      <th>Very Hot</th>\n",
       "      <td>548340</td>\n",
       "    </tr>\n",
       "  </tbody>\n",
       "</table>\n",
       "</div>"
      ],
      "text/plain": [
       "            count\n",
       "warmness         \n",
       "Hot       1224500\n",
       "Cold       832128\n",
       "Warm       687711\n",
       "Very Hot   548340"
      ]
     },
     "execution_count": 82,
     "metadata": {},
     "output_type": "execute_result"
    }
   ],
   "source": [
    "# Create a pivot table to check the number of bike rentals in each warmness and order it in descending orde\n",
    "rentals_per_warmness = pd.pivot_table(rentals_time_weather, index='warmness', values='count', aggfunc='sum').sort_values(by='count', ascending=False)\n",
    "rentals_per_warmness"
   ]
  },
  {
   "cell_type": "code",
   "execution_count": 111,
   "metadata": {},
   "outputs": [
    {
     "name": "stderr",
     "output_type": "stream",
     "text": [
      "/var/folders/zh/sct9634x6kvcb6_5gkff84nh0000gn/T/ipykernel_65271/2846381097.py:2: FutureWarning: The default value of numeric_only in DataFrameGroupBy.sum is deprecated. In a future version, numeric_only will default to False. Either specify numeric_only or select only columns which should be valid for the function.\n",
      "  rentals_per_warmness_df = rentals_time_weather.groupby('warmness').sum().sort_values(by='count', ascending=False)\n"
     ]
    },
    {
     "data": {
      "text/html": [
       "<div>\n",
       "<style scoped>\n",
       "    .dataframe tbody tr th:only-of-type {\n",
       "        vertical-align: middle;\n",
       "    }\n",
       "\n",
       "    .dataframe tbody tr th {\n",
       "        vertical-align: top;\n",
       "    }\n",
       "\n",
       "    .dataframe thead th {\n",
       "        text-align: right;\n",
       "    }\n",
       "</style>\n",
       "<table border=\"1\" class=\"dataframe\">\n",
       "  <thead>\n",
       "    <tr style=\"text-align: right;\">\n",
       "      <th></th>\n",
       "      <th>instant</th>\n",
       "      <th>year</th>\n",
       "      <th>hour</th>\n",
       "      <th>temp</th>\n",
       "      <th>apparent_temp</th>\n",
       "      <th>humidity</th>\n",
       "      <th>windspeed</th>\n",
       "      <th>casual_user</th>\n",
       "      <th>registered_user</th>\n",
       "      <th>count</th>\n",
       "    </tr>\n",
       "    <tr>\n",
       "      <th>warmness</th>\n",
       "      <th></th>\n",
       "      <th></th>\n",
       "      <th></th>\n",
       "      <th></th>\n",
       "      <th></th>\n",
       "      <th></th>\n",
       "      <th></th>\n",
       "      <th></th>\n",
       "      <th></th>\n",
       "      <th></th>\n",
       "    </tr>\n",
       "  </thead>\n",
       "  <tbody>\n",
       "    <tr>\n",
       "      <th>Hot</th>\n",
       "      <td>45123752</td>\n",
       "      <td>9942930</td>\n",
       "      <td>58623</td>\n",
       "      <td>113698.56</td>\n",
       "      <td>122654.3320</td>\n",
       "      <td>3177.18</td>\n",
       "      <td>58891.4054</td>\n",
       "      <td>264134</td>\n",
       "      <td>960366</td>\n",
       "      <td>1224500</td>\n",
       "    </tr>\n",
       "    <tr>\n",
       "      <th>Cold</th>\n",
       "      <td>56791802</td>\n",
       "      <td>14078406</td>\n",
       "      <td>76540</td>\n",
       "      <td>42849.94</td>\n",
       "      <td>26566.1568</td>\n",
       "      <td>4337.21</td>\n",
       "      <td>91509.4576</td>\n",
       "      <td>93213</td>\n",
       "      <td>738915</td>\n",
       "      <td>832128</td>\n",
       "    </tr>\n",
       "    <tr>\n",
       "      <th>Warm</th>\n",
       "      <td>32865081</td>\n",
       "      <td>7356082</td>\n",
       "      <td>40695</td>\n",
       "      <td>57489.08</td>\n",
       "      <td>59131.7460</td>\n",
       "      <td>2440.11</td>\n",
       "      <td>47628.2029</td>\n",
       "      <td>128175</td>\n",
       "      <td>559536</td>\n",
       "      <td>687711</td>\n",
       "    </tr>\n",
       "    <tr>\n",
       "      <th>Very Hot</th>\n",
       "      <td>16242875</td>\n",
       "      <td>3580485</td>\n",
       "      <td>24813</td>\n",
       "      <td>52876.00</td>\n",
       "      <td>59304.4682</td>\n",
       "      <td>946.11</td>\n",
       "      <td>23319.2562</td>\n",
       "      <td>134495</td>\n",
       "      <td>413845</td>\n",
       "      <td>548340</td>\n",
       "    </tr>\n",
       "  </tbody>\n",
       "</table>\n",
       "</div>"
      ],
      "text/plain": [
       "           instant      year   hour       temp  apparent_temp  humidity  \\\n",
       "warmness                                                                  \n",
       "Hot       45123752   9942930  58623  113698.56    122654.3320   3177.18   \n",
       "Cold      56791802  14078406  76540   42849.94     26566.1568   4337.21   \n",
       "Warm      32865081   7356082  40695   57489.08     59131.7460   2440.11   \n",
       "Very Hot  16242875   3580485  24813   52876.00     59304.4682    946.11   \n",
       "\n",
       "           windspeed  casual_user  registered_user    count  \n",
       "warmness                                                     \n",
       "Hot       58891.4054       264134           960366  1224500  \n",
       "Cold      91509.4576        93213           738915   832128  \n",
       "Warm      47628.2029       128175           559536   687711  \n",
       "Very Hot  23319.2562       134495           413845   548340  "
      ]
     },
     "execution_count": 111,
     "metadata": {},
     "output_type": "execute_result"
    }
   ],
   "source": [
    "# create a new df for rental_per_weather pivot table to check the number of bike rentals in each warmness situation using groupby function\n",
    "rentals_per_warmness_df = rentals_time_weather.groupby('warmness').sum().sort_values(by='count', ascending=False)\n",
    "rentals_per_warmness_df"
   ]
  },
  {
   "cell_type": "code",
   "execution_count": 112,
   "metadata": {},
   "outputs": [
    {
     "data": {
      "image/png": "[encoded data removed]",
      "text/plain": [
       "<Figure size 1000x600 with 1 Axes>"
      ]
     },
     "metadata": {},
     "output_type": "display_data"
    }
   ],
   "source": [
    "# create a bar plot that shows the number of bike rentals per warmness and the type of user\n",
    "plt.figure(figsize=(10, 6))\n",
    "sns.barplot(x=rentals_per_warmness_df.index, y=rentals_per_warmness_df['registered_user'], color='blue', label='Registered', alpha=0.7)   # we need to call this first to get the casual users on top of the registered users in the graph\n",
    "sns.barplot(x=rentals_per_warmness_df.index, y=rentals_per_warmness_df['casual_user'], color='red', label='Casual')\n",
    "plt.title('Number of Bike Rentals per warmness')\n",
    "plt.xlabel('Warmness')\n",
    "plt.ylabel('Number of Bike Rentals')\n",
    "plt.legend()\n",
    "\n",
    "# Adjust the y-axis tick labels to display the actual numbers without scientific notation\n",
    "plt.ticklabel_format(style='plain', axis='y')\n",
    "\n",
    "plt.show()"
   ]
  },
  {
   "attachments": {},
   "cell_type": "markdown",
   "metadata": {},
   "source": [
    "#### Hypothesis 3 is true, the number of bike rentals is higher when the temperature is hot. Surprisingly cold weather is in the position number 2. "
   ]
  },
  {
   "attachments": {},
   "cell_type": "markdown",
   "metadata": {},
   "source": [
    "### Hypothesis 4"
   ]
  },
  {
   "cell_type": "code",
   "execution_count": 83,
   "metadata": {},
   "outputs": [
    {
     "data": {
      "text/html": [
       "<div>\n",
       "<style scoped>\n",
       "    .dataframe tbody tr th:only-of-type {\n",
       "        vertical-align: middle;\n",
       "    }\n",
       "\n",
       "    .dataframe tbody tr th {\n",
       "        vertical-align: top;\n",
       "    }\n",
       "\n",
       "    .dataframe thead th {\n",
       "        text-align: right;\n",
       "    }\n",
       "</style>\n",
       "<table border=\"1\" class=\"dataframe\">\n",
       "  <thead>\n",
       "    <tr style=\"text-align: right;\">\n",
       "      <th></th>\n",
       "      <th>casual_user</th>\n",
       "      <th>registered_user</th>\n",
       "    </tr>\n",
       "    <tr>\n",
       "      <th>workingday</th>\n",
       "      <th></th>\n",
       "      <th></th>\n",
       "    </tr>\n",
       "  </thead>\n",
       "  <tbody>\n",
       "    <tr>\n",
       "      <th>No</th>\n",
       "      <td>316732</td>\n",
       "      <td>683537</td>\n",
       "    </tr>\n",
       "    <tr>\n",
       "      <th>Yes</th>\n",
       "      <td>303285</td>\n",
       "      <td>1989125</td>\n",
       "    </tr>\n",
       "  </tbody>\n",
       "</table>\n",
       "</div>"
      ],
      "text/plain": [
       "            casual_user  registered_user\n",
       "workingday                              \n",
       "No               316732           683537\n",
       "Yes              303285          1989125"
      ]
     },
     "execution_count": 83,
     "metadata": {},
     "output_type": "execute_result"
    }
   ],
   "source": [
    "# Hypothesis 4: if the value of the the working day column is equal to yes, then the number of bike rentals by registered members will be higher than the non registered members and vice versa\n",
    "# use the columns casual and registered to create a pivot table to check the number of bike rentals for each type of customer on workingdays and order it in descending order\n",
    "rentals_per_users = pd.pivot_table(rentals_time_weather, index='workingday', values=['casual_user', 'registered_user'], aggfunc='sum')\n",
    "rentals_per_users"
   ]
  },
  {
   "cell_type": "code",
   "execution_count": null,
   "metadata": {},
   "outputs": [],
   "source": [
    "# create a new df for rental_per_weather pivot table to check the number of bike rentals in each weather using groupby function\n",
    "rentals_per_weather_df = rentals_time_weather.groupby('weather').sum().sort_values(by='count', ascending=False)\n",
    "rentals_per_weather_df\n",
    "\n",
    "# create a bar plot that shows the number of bike rentals per weather and the type of user\n",
    "plt.figure(figsize=(10, 6))\n",
    "sns.barplot(x=rentals_per_weather_df.index, y=rentals_per_weather_df['registered_user'], color='blue', label='Registered', alpha=0.7)   # we need to call this first to get the casual users on top of the registered users in the graph\n",
    "sns.barplot(x=rentals_per_weather_df.index, y=rentals_per_weather_df['casual_user'], color='red', label='Casual')\n",
    "plt.title('Number of Bike Rentals per weather')\n",
    "plt.xlabel('Weather')\n",
    "plt.ylabel('Number of Bike Rentals')\n",
    "plt.legend()\n",
    "\n",
    "# Adjust the y-axis tick labels to display the actual numbers without scientific notation\n",
    "plt.ticklabel_format(style='plain', axis='y')\n",
    "\n",
    "plt.show()"
   ]
  },
  {
   "attachments": {},
   "cell_type": "markdown",
   "metadata": {},
   "source": [
    "#### Hypothesis 4 is true, registered customers rent more bikes than casual customers either in working days or not. Also casual users rent more bikes during weekdays"
   ]
  },
  {
   "attachments": {},
   "cell_type": "markdown",
   "metadata": {},
   "source": [
    "### Hypothesis 5"
   ]
  },
  {
   "cell_type": "code",
   "execution_count": 84,
   "metadata": {},
   "outputs": [
    {
     "data": {
      "text/html": [
       "<div>\n",
       "<style scoped>\n",
       "    .dataframe tbody tr th:only-of-type {\n",
       "        vertical-align: middle;\n",
       "    }\n",
       "\n",
       "    .dataframe tbody tr th {\n",
       "        vertical-align: top;\n",
       "    }\n",
       "\n",
       "    .dataframe thead th {\n",
       "        text-align: right;\n",
       "    }\n",
       "</style>\n",
       "<table border=\"1\" class=\"dataframe\">\n",
       "  <thead>\n",
       "    <tr style=\"text-align: right;\">\n",
       "      <th></th>\n",
       "      <th>count</th>\n",
       "    </tr>\n",
       "    <tr>\n",
       "      <th>day_period</th>\n",
       "      <th></th>\n",
       "    </tr>\n",
       "  </thead>\n",
       "  <tbody>\n",
       "    <tr>\n",
       "      <th>Afternoon</th>\n",
       "      <td>1418100</td>\n",
       "    </tr>\n",
       "    <tr>\n",
       "      <th>Morning</th>\n",
       "      <td>1036601</td>\n",
       "    </tr>\n",
       "    <tr>\n",
       "      <th>Night</th>\n",
       "      <td>676337</td>\n",
       "    </tr>\n",
       "    <tr>\n",
       "      <th>Dawn</th>\n",
       "      <td>161641</td>\n",
       "    </tr>\n",
       "  </tbody>\n",
       "</table>\n",
       "</div>"
      ],
      "text/plain": [
       "              count\n",
       "day_period         \n",
       "Afternoon   1418100\n",
       "Morning     1036601\n",
       "Night        676337\n",
       "Dawn         161641"
      ]
     },
     "execution_count": 84,
     "metadata": {},
     "output_type": "execute_result"
    }
   ],
   "source": [
    "# Hypothesis 5: if the value of the the day period column is equal to night, then the number of bike rentals will be higher than the other periods\n",
    "# Create a pivot table to check the number of bike rentals in each day period\n",
    "rentals_per_dayperiod = pd.pivot_table(rentals_time_weather, index='day_period', values='count', aggfunc='sum').sort_values(by='count', ascending=False)\n",
    "rentals_per_dayperiod"
   ]
  },
  {
   "cell_type": "code",
   "execution_count": null,
   "metadata": {},
   "outputs": [],
   "source": [
    "# create a new df for rental_per_weather pivot table to check the number of bike rentals in each weather using groupby function\n",
    "rentals_per_weather_df = rentals_time_weather.groupby('weather').sum().sort_values(by='count', ascending=False)\n",
    "rentals_per_weather_df\n",
    "\n",
    "# create a bar plot that shows the number of bike rentals per weather and the type of user\n",
    "plt.figure(figsize=(10, 6))\n",
    "sns.barplot(x=rentals_per_weather_df.index, y=rentals_per_weather_df['registered_user'], color='blue', label='Registered', alpha=0.7)   # we need to call this first to get the casual users on top of the registered users in the graph\n",
    "sns.barplot(x=rentals_per_weather_df.index, y=rentals_per_weather_df['casual_user'], color='red', label='Casual')\n",
    "plt.title('Number of Bike Rentals per weather')\n",
    "plt.xlabel('Weather')\n",
    "plt.ylabel('Number of Bike Rentals')\n",
    "plt.legend()\n",
    "\n",
    "# Adjust the y-axis tick labels to display the actual numbers without scientific notation\n",
    "plt.ticklabel_format(style='plain', axis='y')\n",
    "\n",
    "plt.show()"
   ]
  },
  {
   "cell_type": "code",
   "execution_count": null,
   "metadata": {},
   "outputs": [],
   "source": []
  },
  {
   "attachments": {},
   "cell_type": "markdown",
   "metadata": {},
   "source": [
    "#### Hypothesis 5 is false, the number of bike rentals is higher in the afternoon"
   ]
  },
  {
   "attachments": {},
   "cell_type": "markdown",
   "metadata": {},
   "source": [
    "### Hypothesis 6"
   ]
  },
  {
   "cell_type": "code",
   "execution_count": 85,
   "metadata": {},
   "outputs": [
    {
     "data": {
      "text/html": [
       "<div>\n",
       "<style scoped>\n",
       "    .dataframe tbody tr th:only-of-type {\n",
       "        vertical-align: middle;\n",
       "    }\n",
       "\n",
       "    .dataframe tbody tr th {\n",
       "        vertical-align: top;\n",
       "    }\n",
       "\n",
       "    .dataframe thead th {\n",
       "        text-align: right;\n",
       "    }\n",
       "</style>\n",
       "<table border=\"1\" class=\"dataframe\">\n",
       "  <thead>\n",
       "    <tr style=\"text-align: right;\">\n",
       "      <th></th>\n",
       "      <th>count</th>\n",
       "    </tr>\n",
       "    <tr>\n",
       "      <th>weekday</th>\n",
       "      <th></th>\n",
       "    </tr>\n",
       "  </thead>\n",
       "  <tbody>\n",
       "    <tr>\n",
       "      <th>Saturday</th>\n",
       "      <td>487790</td>\n",
       "    </tr>\n",
       "    <tr>\n",
       "      <th>Friday</th>\n",
       "      <td>485395</td>\n",
       "    </tr>\n",
       "    <tr>\n",
       "      <th>Sunday</th>\n",
       "      <td>477807</td>\n",
       "    </tr>\n",
       "    <tr>\n",
       "      <th>Thursday</th>\n",
       "      <td>473048</td>\n",
       "    </tr>\n",
       "    <tr>\n",
       "      <th>Wednesday</th>\n",
       "      <td>469109</td>\n",
       "    </tr>\n",
       "    <tr>\n",
       "      <th>Tuesday</th>\n",
       "      <td>455503</td>\n",
       "    </tr>\n",
       "    <tr>\n",
       "      <th>Monday</th>\n",
       "      <td>444027</td>\n",
       "    </tr>\n",
       "  </tbody>\n",
       "</table>\n",
       "</div>"
      ],
      "text/plain": [
       "            count\n",
       "weekday          \n",
       "Saturday   487790\n",
       "Friday     485395\n",
       "Sunday     477807\n",
       "Thursday   473048\n",
       "Wednesday  469109\n",
       "Tuesday    455503\n",
       "Monday     444027"
      ]
     },
     "execution_count": 85,
     "metadata": {},
     "output_type": "execute_result"
    }
   ],
   "source": [
    "# Hypothesis 6: if the value of the the weekday column is equal to monday, tuesday, wednesday, thursday and/or friday, then the number of bike rentals will be higher than the other days\n",
    "# Create a pivot table to check the number of bike rentals in each weekday\n",
    "rentals_per_weekday = pd.pivot_table(rentals_time_weather, index='weekday', values='count', aggfunc='sum').sort_values(by='count', ascending=False)\n",
    "rentals_per_weekday"
   ]
  },
  {
   "cell_type": "code",
   "execution_count": null,
   "metadata": {},
   "outputs": [],
   "source": [
    "# create a new df for rental_per_weather pivot table to check the number of bike rentals in each weather using groupby function\n",
    "rentals_per_weather_df = rentals_time_weather.groupby('weather').sum().sort_values(by='count', ascending=False)\n",
    "rentals_per_weather_df\n",
    "\n",
    "# create a bar plot that shows the number of bike rentals per weather and the type of user\n",
    "plt.figure(figsize=(10, 6))\n",
    "sns.barplot(x=rentals_per_weather_df.index, y=rentals_per_weather_df['registered_user'], color='blue', label='Registered', alpha=0.7)   # we need to call this first to get the casual users on top of the registered users in the graph\n",
    "sns.barplot(x=rentals_per_weather_df.index, y=rentals_per_weather_df['casual_user'], color='red', label='Casual')\n",
    "plt.title('Number of Bike Rentals per weather')\n",
    "plt.xlabel('Weather')\n",
    "plt.ylabel('Number of Bike Rentals')\n",
    "plt.legend()\n",
    "\n",
    "# Adjust the y-axis tick labels to display the actual numbers without scientific notation\n",
    "plt.ticklabel_format(style='plain', axis='y')\n",
    "\n",
    "plt.show()"
   ]
  },
  {
   "attachments": {},
   "cell_type": "markdown",
   "metadata": {},
   "source": [
    "#### Hypothesis 6 is not true, the number of bike rentals is higher in friday and thursday, but on saturday the number of bike rentals is bigger than the number of bike rentals in wednesday, tuesday and monday"
   ]
  },
  {
   "attachments": {},
   "cell_type": "markdown",
   "metadata": {},
   "source": [
    "### Hypothesis 7"
   ]
  },
  {
   "cell_type": "code",
   "execution_count": 86,
   "metadata": {},
   "outputs": [
    {
     "data": {
      "text/html": [
       "<div>\n",
       "<style scoped>\n",
       "    .dataframe tbody tr th:only-of-type {\n",
       "        vertical-align: middle;\n",
       "    }\n",
       "\n",
       "    .dataframe tbody tr th {\n",
       "        vertical-align: top;\n",
       "    }\n",
       "\n",
       "    .dataframe thead th {\n",
       "        text-align: right;\n",
       "    }\n",
       "</style>\n",
       "<table border=\"1\" class=\"dataframe\">\n",
       "  <thead>\n",
       "    <tr style=\"text-align: right;\">\n",
       "      <th></th>\n",
       "      <th>count</th>\n",
       "    </tr>\n",
       "    <tr>\n",
       "      <th>month</th>\n",
       "      <th></th>\n",
       "    </tr>\n",
       "  </thead>\n",
       "  <tbody>\n",
       "    <tr>\n",
       "      <th>August</th>\n",
       "      <td>351194</td>\n",
       "    </tr>\n",
       "    <tr>\n",
       "      <th>June</th>\n",
       "      <td>346342</td>\n",
       "    </tr>\n",
       "    <tr>\n",
       "      <th>September</th>\n",
       "      <td>345991</td>\n",
       "    </tr>\n",
       "    <tr>\n",
       "      <th>July</th>\n",
       "      <td>344948</td>\n",
       "    </tr>\n",
       "    <tr>\n",
       "      <th>May</th>\n",
       "      <td>331686</td>\n",
       "    </tr>\n",
       "    <tr>\n",
       "      <th>October</th>\n",
       "      <td>322352</td>\n",
       "    </tr>\n",
       "    <tr>\n",
       "      <th>April</th>\n",
       "      <td>269094</td>\n",
       "    </tr>\n",
       "    <tr>\n",
       "      <th>November</th>\n",
       "      <td>254831</td>\n",
       "    </tr>\n",
       "    <tr>\n",
       "      <th>March</th>\n",
       "      <td>228920</td>\n",
       "    </tr>\n",
       "    <tr>\n",
       "      <th>December</th>\n",
       "      <td>211036</td>\n",
       "    </tr>\n",
       "    <tr>\n",
       "      <th>February</th>\n",
       "      <td>151352</td>\n",
       "    </tr>\n",
       "    <tr>\n",
       "      <th>January</th>\n",
       "      <td>134933</td>\n",
       "    </tr>\n",
       "  </tbody>\n",
       "</table>\n",
       "</div>"
      ],
      "text/plain": [
       "            count\n",
       "month            \n",
       "August     351194\n",
       "June       346342\n",
       "September  345991\n",
       "July       344948\n",
       "May        331686\n",
       "October    322352\n",
       "April      269094\n",
       "November   254831\n",
       "March      228920\n",
       "December   211036\n",
       "February   151352\n",
       "January    134933"
      ]
     },
     "execution_count": 86,
     "metadata": {},
     "output_type": "execute_result"
    }
   ],
   "source": [
    "# Hypothesis 7: if the value of the the month column is equal to june, july and/or august, then the number of bike rentals will be higher than the other months\n",
    "# Create a pivot table to check the number of bike rentals in each month\n",
    "rentals_per_month = pd.pivot_table(rentals_time_weather, index='month', values='count', aggfunc='sum').sort_values(by='count', ascending=False)\n",
    "rentals_per_month"
   ]
  },
  {
   "cell_type": "code",
   "execution_count": null,
   "metadata": {},
   "outputs": [],
   "source": [
    "# create a new df for rental_per_weather pivot table to check the number of bike rentals in each weather using groupby function\n",
    "rentals_per_weather_df = rentals_time_weather.groupby('weather').sum().sort_values(by='count', ascending=False)\n",
    "rentals_per_weather_df\n",
    "\n",
    "# create a bar plot that shows the number of bike rentals per weather and the type of user\n",
    "plt.figure(figsize=(10, 6))\n",
    "sns.barplot(x=rentals_per_weather_df.index, y=rentals_per_weather_df['registered_user'], color='blue', label='Registered', alpha=0.7)   # we need to call this first to get the casual users on top of the registered users in the graph\n",
    "sns.barplot(x=rentals_per_weather_df.index, y=rentals_per_weather_df['casual_user'], color='red', label='Casual')\n",
    "plt.title('Number of Bike Rentals per weather')\n",
    "plt.xlabel('Weather')\n",
    "plt.ylabel('Number of Bike Rentals')\n",
    "plt.legend()\n",
    "\n",
    "# Adjust the y-axis tick labels to display the actual numbers without scientific notation\n",
    "plt.ticklabel_format(style='plain', axis='y')\n",
    "\n",
    "plt.show()"
   ]
  },
  {
   "cell_type": "code",
   "execution_count": null,
   "metadata": {},
   "outputs": [],
   "source": []
  },
  {
   "attachments": {},
   "cell_type": "markdown",
   "metadata": {},
   "source": [
    "#### Hypothesis 7 is not true, because despite that the number of bike rentals in august and june are the top 2 on the records, the 3rd month with the highest number of bike rentals is september, which is not a summer month"
   ]
  },
  {
   "attachments": {},
   "cell_type": "markdown",
   "metadata": {},
   "source": [
    "### Hypothesis 8"
   ]
  },
  {
   "cell_type": "code",
   "execution_count": 87,
   "metadata": {},
   "outputs": [
    {
     "data": {
      "text/html": [
       "<div>\n",
       "<style scoped>\n",
       "    .dataframe tbody tr th:only-of-type {\n",
       "        vertical-align: middle;\n",
       "    }\n",
       "\n",
       "    .dataframe tbody tr th {\n",
       "        vertical-align: top;\n",
       "    }\n",
       "\n",
       "    .dataframe thead th {\n",
       "        text-align: right;\n",
       "    }\n",
       "</style>\n",
       "<table border=\"1\" class=\"dataframe\">\n",
       "  <thead>\n",
       "    <tr style=\"text-align: right;\">\n",
       "      <th></th>\n",
       "      <th>count</th>\n",
       "    </tr>\n",
       "    <tr>\n",
       "      <th>hour</th>\n",
       "      <th></th>\n",
       "    </tr>\n",
       "  </thead>\n",
       "  <tbody>\n",
       "    <tr>\n",
       "      <th>17</th>\n",
       "      <td>336860</td>\n",
       "    </tr>\n",
       "    <tr>\n",
       "      <th>18</th>\n",
       "      <td>309772</td>\n",
       "    </tr>\n",
       "    <tr>\n",
       "      <th>8</th>\n",
       "      <td>261001</td>\n",
       "    </tr>\n",
       "    <tr>\n",
       "      <th>16</th>\n",
       "      <td>227748</td>\n",
       "    </tr>\n",
       "    <tr>\n",
       "      <th>19</th>\n",
       "      <td>226789</td>\n",
       "    </tr>\n",
       "    <tr>\n",
       "      <th>13</th>\n",
       "      <td>184919</td>\n",
       "    </tr>\n",
       "    <tr>\n",
       "      <th>12</th>\n",
       "      <td>184414</td>\n",
       "    </tr>\n",
       "    <tr>\n",
       "      <th>15</th>\n",
       "      <td>183149</td>\n",
       "    </tr>\n",
       "    <tr>\n",
       "      <th>14</th>\n",
       "      <td>175652</td>\n",
       "    </tr>\n",
       "    <tr>\n",
       "      <th>20</th>\n",
       "      <td>164550</td>\n",
       "    </tr>\n",
       "    <tr>\n",
       "      <th>9</th>\n",
       "      <td>159438</td>\n",
       "    </tr>\n",
       "    <tr>\n",
       "      <th>7</th>\n",
       "      <td>154171</td>\n",
       "    </tr>\n",
       "    <tr>\n",
       "      <th>11</th>\n",
       "      <td>151320</td>\n",
       "    </tr>\n",
       "    <tr>\n",
       "      <th>10</th>\n",
       "      <td>126257</td>\n",
       "    </tr>\n",
       "    <tr>\n",
       "      <th>21</th>\n",
       "      <td>125445</td>\n",
       "    </tr>\n",
       "    <tr>\n",
       "      <th>22</th>\n",
       "      <td>95612</td>\n",
       "    </tr>\n",
       "    <tr>\n",
       "      <th>23</th>\n",
       "      <td>63941</td>\n",
       "    </tr>\n",
       "    <tr>\n",
       "      <th>6</th>\n",
       "      <td>55132</td>\n",
       "    </tr>\n",
       "    <tr>\n",
       "      <th>0</th>\n",
       "      <td>39130</td>\n",
       "    </tr>\n",
       "    <tr>\n",
       "      <th>1</th>\n",
       "      <td>24164</td>\n",
       "    </tr>\n",
       "    <tr>\n",
       "      <th>2</th>\n",
       "      <td>16352</td>\n",
       "    </tr>\n",
       "    <tr>\n",
       "      <th>5</th>\n",
       "      <td>14261</td>\n",
       "    </tr>\n",
       "    <tr>\n",
       "      <th>3</th>\n",
       "      <td>8174</td>\n",
       "    </tr>\n",
       "    <tr>\n",
       "      <th>4</th>\n",
       "      <td>4428</td>\n",
       "    </tr>\n",
       "  </tbody>\n",
       "</table>\n",
       "</div>"
      ],
      "text/plain": [
       "       count\n",
       "hour        \n",
       "17    336860\n",
       "18    309772\n",
       "8     261001\n",
       "16    227748\n",
       "19    226789\n",
       "13    184919\n",
       "12    184414\n",
       "15    183149\n",
       "14    175652\n",
       "20    164550\n",
       "9     159438\n",
       "7     154171\n",
       "11    151320\n",
       "10    126257\n",
       "21    125445\n",
       "22     95612\n",
       "23     63941\n",
       "6      55132\n",
       "0      39130\n",
       "1      24164\n",
       "2      16352\n",
       "5      14261\n",
       "3       8174\n",
       "4       4428"
      ]
     },
     "execution_count": 87,
     "metadata": {},
     "output_type": "execute_result"
    }
   ],
   "source": [
    "# Hypothesis 8: if the value of the the hour column is equal to 8, 17 and/or 18, then the number of bike rentals will be higher than the other hours\n",
    "# Create a pivot table to check the number of bike rentals in each hour\n",
    "rentals_per_hour = pd.pivot_table(rentals_time_weather, index='hour', values='count', aggfunc='sum').sort_values(by='count', ascending=False)\n",
    "rentals_per_hour"
   ]
  },
  {
   "cell_type": "code",
   "execution_count": null,
   "metadata": {},
   "outputs": [],
   "source": [
    "# create a new df for rental_per_weather pivot table to check the number of bike rentals in each weather using groupby function\n",
    "rentals_per_weather_df = rentals_time_weather.groupby('weather').sum().sort_values(by='count', ascending=False)\n",
    "rentals_per_weather_df\n",
    "\n",
    "# create a bar plot that shows the number of bike rentals per weather and the type of user\n",
    "plt.figure(figsize=(10, 6))\n",
    "sns.barplot(x=rentals_per_weather_df.index, y=rentals_per_weather_df['registered_user'], color='blue', label='Registered', alpha=0.7)   # we need to call this first to get the casual users on top of the registered users in the graph\n",
    "sns.barplot(x=rentals_per_weather_df.index, y=rentals_per_weather_df['casual_user'], color='red', label='Casual')\n",
    "plt.title('Number of Bike Rentals per weather')\n",
    "plt.xlabel('Weather')\n",
    "plt.ylabel('Number of Bike Rentals')\n",
    "plt.legend()\n",
    "\n",
    "# Adjust the y-axis tick labels to display the actual numbers without scientific notation\n",
    "plt.ticklabel_format(style='plain', axis='y')\n",
    "\n",
    "plt.show()"
   ]
  },
  {
   "cell_type": "code",
   "execution_count": null,
   "metadata": {},
   "outputs": [],
   "source": []
  },
  {
   "attachments": {},
   "cell_type": "markdown",
   "metadata": {},
   "source": [
    "#### Hypothesis 8 is not true, because the number of bike rentals is higher in the hour 17 and 18, but not in the hour 8"
   ]
  },
  {
   "attachments": {},
   "cell_type": "markdown",
   "metadata": {},
   "source": [
    "### Hypothesis 9"
   ]
  },
  {
   "cell_type": "code",
   "execution_count": 88,
   "metadata": {},
   "outputs": [
    {
     "data": {
      "text/html": [
       "<div>\n",
       "<style scoped>\n",
       "    .dataframe tbody tr th:only-of-type {\n",
       "        vertical-align: middle;\n",
       "    }\n",
       "\n",
       "    .dataframe tbody tr th {\n",
       "        vertical-align: top;\n",
       "    }\n",
       "\n",
       "    .dataframe thead th {\n",
       "        text-align: right;\n",
       "    }\n",
       "</style>\n",
       "<table border=\"1\" class=\"dataframe\">\n",
       "  <thead>\n",
       "    <tr style=\"text-align: right;\">\n",
       "      <th></th>\n",
       "      <th>count</th>\n",
       "    </tr>\n",
       "    <tr>\n",
       "      <th>warmness</th>\n",
       "      <th></th>\n",
       "    </tr>\n",
       "  </thead>\n",
       "  <tbody>\n",
       "    <tr>\n",
       "      <th>Hot</th>\n",
       "      <td>1224500</td>\n",
       "    </tr>\n",
       "    <tr>\n",
       "      <th>Cold</th>\n",
       "      <td>832128</td>\n",
       "    </tr>\n",
       "    <tr>\n",
       "      <th>Warm</th>\n",
       "      <td>687711</td>\n",
       "    </tr>\n",
       "    <tr>\n",
       "      <th>Very Hot</th>\n",
       "      <td>548340</td>\n",
       "    </tr>\n",
       "  </tbody>\n",
       "</table>\n",
       "</div>"
      ],
      "text/plain": [
       "            count\n",
       "warmness         \n",
       "Hot       1224500\n",
       "Cold       832128\n",
       "Warm       687711\n",
       "Very Hot   548340"
      ]
     },
     "execution_count": 88,
     "metadata": {},
     "output_type": "execute_result"
    }
   ],
   "source": [
    "### Hypothesis 9: if the value of the warmness column is equal to hot, then the number of bike rentals will be higher than the other warmness\n",
    "# create a pivot table to check the number of bike rentals in each weather and warmness\n",
    "rentals_per_weather_warmness = pd.pivot_table(rentals_time_weather, index=['warmness'], values='count', aggfunc='sum').sort_values(by='count', ascending=False)\n",
    "rentals_per_weather_warmness"
   ]
  },
  {
   "cell_type": "code",
   "execution_count": null,
   "metadata": {},
   "outputs": [],
   "source": [
    "# create a new df for rental_per_weather pivot table to check the number of bike rentals in each weather using groupby function\n",
    "rentals_per_weather_df = rentals_time_weather.groupby('weather').sum().sort_values(by='count', ascending=False)\n",
    "rentals_per_weather_df\n",
    "\n",
    "# create a bar plot that shows the number of bike rentals per weather and the type of user\n",
    "plt.figure(figsize=(10, 6))\n",
    "sns.barplot(x=rentals_per_weather_df.index, y=rentals_per_weather_df['registered_user'], color='blue', label='Registered', alpha=0.7)   # we need to call this first to get the casual users on top of the registered users in the graph\n",
    "sns.barplot(x=rentals_per_weather_df.index, y=rentals_per_weather_df['casual_user'], color='red', label='Casual')\n",
    "plt.title('Number of Bike Rentals per weather')\n",
    "plt.xlabel('Weather')\n",
    "plt.ylabel('Number of Bike Rentals')\n",
    "plt.legend()\n",
    "\n",
    "# Adjust the y-axis tick labels to display the actual numbers without scientific notation\n",
    "plt.ticklabel_format(style='plain', axis='y')\n",
    "\n",
    "plt.show()"
   ]
  },
  {
   "cell_type": "code",
   "execution_count": null,
   "metadata": {},
   "outputs": [],
   "source": []
  },
  {
   "attachments": {},
   "cell_type": "markdown",
   "metadata": {},
   "source": [
    "#### Hypothesis 9 is true, because the number of bike rentals is higher in the hot warmness"
   ]
  },
  {
   "attachments": {},
   "cell_type": "markdown",
   "metadata": {},
   "source": [
    "### Hypothesis 10"
   ]
  },
  {
   "cell_type": "code",
   "execution_count": 89,
   "metadata": {},
   "outputs": [
    {
     "data": {
      "text/html": [
       "<div>\n",
       "<style scoped>\n",
       "    .dataframe tbody tr th:only-of-type {\n",
       "        vertical-align: middle;\n",
       "    }\n",
       "\n",
       "    .dataframe tbody tr th {\n",
       "        vertical-align: top;\n",
       "    }\n",
       "\n",
       "    .dataframe thead th {\n",
       "        text-align: right;\n",
       "    }\n",
       "</style>\n",
       "<table border=\"1\" class=\"dataframe\">\n",
       "  <thead>\n",
       "    <tr style=\"text-align: right;\">\n",
       "      <th></th>\n",
       "      <th>count</th>\n",
       "    </tr>\n",
       "    <tr>\n",
       "      <th>year</th>\n",
       "      <th></th>\n",
       "    </tr>\n",
       "  </thead>\n",
       "  <tbody>\n",
       "    <tr>\n",
       "      <th>2012</th>\n",
       "      <td>2049576</td>\n",
       "    </tr>\n",
       "    <tr>\n",
       "      <th>2011</th>\n",
       "      <td>1243103</td>\n",
       "    </tr>\n",
       "  </tbody>\n",
       "</table>\n",
       "</div>"
      ],
      "text/plain": [
       "        count\n",
       "year         \n",
       "2012  2049576\n",
       "2011  1243103"
      ]
     },
     "execution_count": 89,
     "metadata": {},
     "output_type": "execute_result"
    }
   ],
   "source": [
    "# Hypothesis 10: if the values of the year column is equal to 2011, then the number of bike rentals will be higher than the other year# create a pivot table to check the number of bike rentals in each holiday\n",
    "rentals_per_year = pd.pivot_table(rentals_time_weather, index='year', values='count', aggfunc='sum').sort_values(by='count', ascending=False)\n",
    "rentals_per_year"
   ]
  },
  {
   "cell_type": "code",
   "execution_count": null,
   "metadata": {},
   "outputs": [],
   "source": [
    "# create a new df for rental_per_weather pivot table to check the number of bike rentals in each weather using groupby function\n",
    "rentals_per_weather_df = rentals_time_weather.groupby('weather').sum().sort_values(by='count', ascending=False)\n",
    "rentals_per_weather_df\n",
    "\n",
    "# create a bar plot that shows the number of bike rentals per weather and the type of user\n",
    "plt.figure(figsize=(10, 6))\n",
    "sns.barplot(x=rentals_per_weather_df.index, y=rentals_per_weather_df['registered_user'], color='blue', label='Registered', alpha=0.7)   # we need to call this first to get the casual users on top of the registered users in the graph\n",
    "sns.barplot(x=rentals_per_weather_df.index, y=rentals_per_weather_df['casual_user'], color='red', label='Casual')\n",
    "plt.title('Number of Bike Rentals per weather')\n",
    "plt.xlabel('Weather')\n",
    "plt.ylabel('Number of Bike Rentals')\n",
    "plt.legend()\n",
    "\n",
    "# Adjust the y-axis tick labels to display the actual numbers without scientific notation\n",
    "plt.ticklabel_format(style='plain', axis='y')\n",
    "\n",
    "plt.show()"
   ]
  },
  {
   "cell_type": "code",
   "execution_count": null,
   "metadata": {},
   "outputs": [],
   "source": []
  },
  {
   "attachments": {},
   "cell_type": "markdown",
   "metadata": {},
   "source": [
    "#### Hypothesis 10 is not true, the number of bike rentals is higher in 2012"
   ]
  },
  {
   "attachments": {},
   "cell_type": "markdown",
   "metadata": {},
   "source": [
    "### Hypothesis 11 "
   ]
  },
  {
   "cell_type": "code",
   "execution_count": 90,
   "metadata": {},
   "outputs": [
    {
     "data": {
      "text/html": [
       "<div>\n",
       "<style scoped>\n",
       "    .dataframe tbody tr th:only-of-type {\n",
       "        vertical-align: middle;\n",
       "    }\n",
       "\n",
       "    .dataframe tbody tr th {\n",
       "        vertical-align: top;\n",
       "    }\n",
       "\n",
       "    .dataframe thead th {\n",
       "        text-align: right;\n",
       "    }\n",
       "</style>\n",
       "<table border=\"1\" class=\"dataframe\">\n",
       "  <thead>\n",
       "    <tr style=\"text-align: right;\">\n",
       "      <th></th>\n",
       "      <th>count</th>\n",
       "    </tr>\n",
       "    <tr>\n",
       "      <th>windspeed_level</th>\n",
       "      <th></th>\n",
       "    </tr>\n",
       "  </thead>\n",
       "  <tbody>\n",
       "    <tr>\n",
       "      <th>Medium</th>\n",
       "      <td>1662619</td>\n",
       "    </tr>\n",
       "    <tr>\n",
       "      <th>Low</th>\n",
       "      <td>1139251</td>\n",
       "    </tr>\n",
       "    <tr>\n",
       "      <th>High</th>\n",
       "      <td>490809</td>\n",
       "    </tr>\n",
       "  </tbody>\n",
       "</table>\n",
       "</div>"
      ],
      "text/plain": [
       "                   count\n",
       "windspeed_level         \n",
       "Medium           1662619\n",
       "Low              1139251\n",
       "High              490809"
      ]
     },
     "execution_count": 90,
     "metadata": {},
     "output_type": "execute_result"
    }
   ],
   "source": [
    "# Hypothesis 11: if the values of the windspeed_level column is equal to strong, then the number of bike rentals will be lower than the  when the windspeed is low \n",
    "# create a pivot table to check the number of bike rentals in each windspeed level\n",
    "rentals_per_windspeed_level = pd.pivot_table(rentals_time_weather, index='windspeed_level', values='count', aggfunc='sum').sort_values(by='count', ascending=False)\n",
    "rentals_per_windspeed_level\n"
   ]
  },
  {
   "cell_type": "code",
   "execution_count": null,
   "metadata": {},
   "outputs": [],
   "source": [
    "# create a new df for rental_per_weather pivot table to check the number of bike rentals in each weather using groupby function\n",
    "rentals_per_weather_df = rentals_time_weather.groupby('weather').sum().sort_values(by='count', ascending=False)\n",
    "rentals_per_weather_df\n",
    "\n",
    "# create a bar plot that shows the number of bike rentals per weather and the type of user\n",
    "plt.figure(figsize=(10, 6))\n",
    "sns.barplot(x=rentals_per_weather_df.index, y=rentals_per_weather_df['registered_user'], color='blue', label='Registered', alpha=0.7)   # we need to call this first to get the casual users on top of the registered users in the graph\n",
    "sns.barplot(x=rentals_per_weather_df.index, y=rentals_per_weather_df['casual_user'], color='red', label='Casual')\n",
    "plt.title('Number of Bike Rentals per weather')\n",
    "plt.xlabel('Weather')\n",
    "plt.ylabel('Number of Bike Rentals')\n",
    "plt.legend()\n",
    "\n",
    "# Adjust the y-axis tick labels to display the actual numbers without scientific notation\n",
    "plt.ticklabel_format(style='plain', axis='y')\n",
    "\n",
    "plt.show()"
   ]
  },
  {
   "cell_type": "code",
   "execution_count": null,
   "metadata": {},
   "outputs": [],
   "source": []
  },
  {
   "attachments": {},
   "cell_type": "markdown",
   "metadata": {},
   "source": [
    "#### Hypothesis 11 is not true, since the number of bike rentals is higher when the windspeed is medium"
   ]
  },
  {
   "attachments": {},
   "cell_type": "markdown",
   "metadata": {},
   "source": [
    "### Hypothesis 12"
   ]
  },
  {
   "cell_type": "code",
   "execution_count": 91,
   "metadata": {},
   "outputs": [
    {
     "data": {
      "text/html": [
       "<div>\n",
       "<style scoped>\n",
       "    .dataframe tbody tr th:only-of-type {\n",
       "        vertical-align: middle;\n",
       "    }\n",
       "\n",
       "    .dataframe tbody tr th {\n",
       "        vertical-align: top;\n",
       "    }\n",
       "\n",
       "    .dataframe thead th {\n",
       "        text-align: right;\n",
       "    }\n",
       "</style>\n",
       "<table border=\"1\" class=\"dataframe\">\n",
       "  <thead>\n",
       "    <tr style=\"text-align: right;\">\n",
       "      <th></th>\n",
       "      <th>count</th>\n",
       "    </tr>\n",
       "    <tr>\n",
       "      <th>humidity_level</th>\n",
       "      <th></th>\n",
       "    </tr>\n",
       "  </thead>\n",
       "  <tbody>\n",
       "    <tr>\n",
       "      <th>Medium</th>\n",
       "      <td>1766342</td>\n",
       "    </tr>\n",
       "    <tr>\n",
       "      <th>High</th>\n",
       "      <td>818029</td>\n",
       "    </tr>\n",
       "    <tr>\n",
       "      <th>Low</th>\n",
       "      <td>708308</td>\n",
       "    </tr>\n",
       "  </tbody>\n",
       "</table>\n",
       "</div>"
      ],
      "text/plain": [
       "                  count\n",
       "humidity_level         \n",
       "Medium          1766342\n",
       "High             818029\n",
       "Low              708308"
      ]
     },
     "execution_count": 91,
     "metadata": {},
     "output_type": "execute_result"
    }
   ],
   "source": [
    "# Hypothesis 12: if the values of the humidity_level column is equal to high, then the number of bike rentals will be lower than the  when the humidity is low\n",
    "# create a pivot table to check the number of bike rentals in each humidity level\n",
    "rentals_per_humidity_level = pd.pivot_table(rentals_time_weather, index='humidity_level', values='count', aggfunc='sum').sort_values(by='count', ascending=False)\n",
    "rentals_per_humidity_level"
   ]
  },
  {
   "cell_type": "code",
   "execution_count": null,
   "metadata": {},
   "outputs": [],
   "source": [
    "# create a new df for rental_per_weather pivot table to check the number of bike rentals in each weather using groupby function\n",
    "rentals_per_weather_df = rentals_time_weather.groupby('weather').sum().sort_values(by='count', ascending=False)\n",
    "rentals_per_weather_df\n",
    "\n",
    "# create a bar plot that shows the number of bike rentals per weather and the type of user\n",
    "plt.figure(figsize=(10, 6))\n",
    "sns.barplot(x=rentals_per_weather_df.index, y=rentals_per_weather_df['registered_user'], color='blue', label='Registered', alpha=0.7)   # we need to call this first to get the casual users on top of the registered users in the graph\n",
    "sns.barplot(x=rentals_per_weather_df.index, y=rentals_per_weather_df['casual_user'], color='red', label='Casual')\n",
    "plt.title('Number of Bike Rentals per weather')\n",
    "plt.xlabel('Weather')\n",
    "plt.ylabel('Number of Bike Rentals')\n",
    "plt.legend()\n",
    "\n",
    "# Adjust the y-axis tick labels to display the actual numbers without scientific notation\n",
    "plt.ticklabel_format(style='plain', axis='y')\n",
    "\n",
    "plt.show()"
   ]
  },
  {
   "cell_type": "code",
   "execution_count": null,
   "metadata": {},
   "outputs": [],
   "source": []
  },
  {
   "attachments": {},
   "cell_type": "markdown",
   "metadata": {},
   "source": [
    "#### Hypothesis 12 is not true, the number of bike rentals is higher when the humidity is high"
   ]
  },
  {
   "attachments": {},
   "cell_type": "markdown",
   "metadata": {},
   "source": [
    "# Trip History Dataset "
   ]
  },
  {
   "cell_type": "code",
   "execution_count": 71,
   "metadata": {},
   "outputs": [
    {
     "ename": "FileNotFoundError",
     "evalue": "[Errno 2] No such file or directory: '/Users/maximilianolopezsalgado/data_projects/capital_bike_sharing/datasets/start_stations_long_lat.csv'",
     "output_type": "error",
     "traceback": [
      "\u001b[0;31m---------------------------------------------------------------------------\u001b[0m",
      "\u001b[0;31mFileNotFoundError\u001b[0m                         Traceback (most recent call last)",
      "Cell \u001b[0;32mIn[71], line 2\u001b[0m\n\u001b[1;32m      1\u001b[0m \u001b[39m# import start_stations_long_lat.csv\u001b[39;00m\n\u001b[0;32m----> 2\u001b[0m start_stations_long_lat \u001b[39m=\u001b[39m pd\u001b[39m.\u001b[39;49mread_csv(\u001b[39m'\u001b[39;49m\u001b[39m/Users/maximilianolopezsalgado/data_projects/capital_bike_sharing/datasets/start_stations_long_lat.csv\u001b[39;49m\u001b[39m'\u001b[39;49m)\n\u001b[1;32m      4\u001b[0m \u001b[39m# print first 5 rows\u001b[39;00m\n\u001b[1;32m      5\u001b[0m display(start_stations_long_lat\u001b[39m.\u001b[39mhead())\n",
      "File \u001b[0;32m~/opt/anaconda3/lib/python3.9/site-packages/pandas/util/_decorators.py:211\u001b[0m, in \u001b[0;36mdeprecate_kwarg.<locals>._deprecate_kwarg.<locals>.wrapper\u001b[0;34m(*args, **kwargs)\u001b[0m\n\u001b[1;32m    209\u001b[0m     \u001b[39melse\u001b[39;00m:\n\u001b[1;32m    210\u001b[0m         kwargs[new_arg_name] \u001b[39m=\u001b[39m new_arg_value\n\u001b[0;32m--> 211\u001b[0m \u001b[39mreturn\u001b[39;00m func(\u001b[39m*\u001b[39;49margs, \u001b[39m*\u001b[39;49m\u001b[39m*\u001b[39;49mkwargs)\n",
      "File \u001b[0;32m~/opt/anaconda3/lib/python3.9/site-packages/pandas/util/_decorators.py:331\u001b[0m, in \u001b[0;36mdeprecate_nonkeyword_arguments.<locals>.decorate.<locals>.wrapper\u001b[0;34m(*args, **kwargs)\u001b[0m\n\u001b[1;32m    325\u001b[0m \u001b[39mif\u001b[39;00m \u001b[39mlen\u001b[39m(args) \u001b[39m>\u001b[39m num_allow_args:\n\u001b[1;32m    326\u001b[0m     warnings\u001b[39m.\u001b[39mwarn(\n\u001b[1;32m    327\u001b[0m         msg\u001b[39m.\u001b[39mformat(arguments\u001b[39m=\u001b[39m_format_argument_list(allow_args)),\n\u001b[1;32m    328\u001b[0m         \u001b[39mFutureWarning\u001b[39;00m,\n\u001b[1;32m    329\u001b[0m         stacklevel\u001b[39m=\u001b[39mfind_stack_level(),\n\u001b[1;32m    330\u001b[0m     )\n\u001b[0;32m--> 331\u001b[0m \u001b[39mreturn\u001b[39;00m func(\u001b[39m*\u001b[39;49margs, \u001b[39m*\u001b[39;49m\u001b[39m*\u001b[39;49mkwargs)\n",
      "File \u001b[0;32m~/opt/anaconda3/lib/python3.9/site-packages/pandas/io/parsers/readers.py:950\u001b[0m, in \u001b[0;36mread_csv\u001b[0;34m(filepath_or_buffer, sep, delimiter, header, names, index_col, usecols, squeeze, prefix, mangle_dupe_cols, dtype, engine, converters, true_values, false_values, skipinitialspace, skiprows, skipfooter, nrows, na_values, keep_default_na, na_filter, verbose, skip_blank_lines, parse_dates, infer_datetime_format, keep_date_col, date_parser, dayfirst, cache_dates, iterator, chunksize, compression, thousands, decimal, lineterminator, quotechar, quoting, doublequote, escapechar, comment, encoding, encoding_errors, dialect, error_bad_lines, warn_bad_lines, on_bad_lines, delim_whitespace, low_memory, memory_map, float_precision, storage_options)\u001b[0m\n\u001b[1;32m    935\u001b[0m kwds_defaults \u001b[39m=\u001b[39m _refine_defaults_read(\n\u001b[1;32m    936\u001b[0m     dialect,\n\u001b[1;32m    937\u001b[0m     delimiter,\n\u001b[0;32m   (...)\u001b[0m\n\u001b[1;32m    946\u001b[0m     defaults\u001b[39m=\u001b[39m{\u001b[39m\"\u001b[39m\u001b[39mdelimiter\u001b[39m\u001b[39m\"\u001b[39m: \u001b[39m\"\u001b[39m\u001b[39m,\u001b[39m\u001b[39m\"\u001b[39m},\n\u001b[1;32m    947\u001b[0m )\n\u001b[1;32m    948\u001b[0m kwds\u001b[39m.\u001b[39mupdate(kwds_defaults)\n\u001b[0;32m--> 950\u001b[0m \u001b[39mreturn\u001b[39;00m _read(filepath_or_buffer, kwds)\n",
      "File \u001b[0;32m~/opt/anaconda3/lib/python3.9/site-packages/pandas/io/parsers/readers.py:605\u001b[0m, in \u001b[0;36m_read\u001b[0;34m(filepath_or_buffer, kwds)\u001b[0m\n\u001b[1;32m    602\u001b[0m _validate_names(kwds\u001b[39m.\u001b[39mget(\u001b[39m\"\u001b[39m\u001b[39mnames\u001b[39m\u001b[39m\"\u001b[39m, \u001b[39mNone\u001b[39;00m))\n\u001b[1;32m    604\u001b[0m \u001b[39m# Create the parser.\u001b[39;00m\n\u001b[0;32m--> 605\u001b[0m parser \u001b[39m=\u001b[39m TextFileReader(filepath_or_buffer, \u001b[39m*\u001b[39;49m\u001b[39m*\u001b[39;49mkwds)\n\u001b[1;32m    607\u001b[0m \u001b[39mif\u001b[39;00m chunksize \u001b[39mor\u001b[39;00m iterator:\n\u001b[1;32m    608\u001b[0m     \u001b[39mreturn\u001b[39;00m parser\n",
      "File \u001b[0;32m~/opt/anaconda3/lib/python3.9/site-packages/pandas/io/parsers/readers.py:1442\u001b[0m, in \u001b[0;36mTextFileReader.__init__\u001b[0;34m(self, f, engine, **kwds)\u001b[0m\n\u001b[1;32m   1439\u001b[0m     \u001b[39mself\u001b[39m\u001b[39m.\u001b[39moptions[\u001b[39m\"\u001b[39m\u001b[39mhas_index_names\u001b[39m\u001b[39m\"\u001b[39m] \u001b[39m=\u001b[39m kwds[\u001b[39m\"\u001b[39m\u001b[39mhas_index_names\u001b[39m\u001b[39m\"\u001b[39m]\n\u001b[1;32m   1441\u001b[0m \u001b[39mself\u001b[39m\u001b[39m.\u001b[39mhandles: IOHandles \u001b[39m|\u001b[39m \u001b[39mNone\u001b[39;00m \u001b[39m=\u001b[39m \u001b[39mNone\u001b[39;00m\n\u001b[0;32m-> 1442\u001b[0m \u001b[39mself\u001b[39m\u001b[39m.\u001b[39m_engine \u001b[39m=\u001b[39m \u001b[39mself\u001b[39;49m\u001b[39m.\u001b[39;49m_make_engine(f, \u001b[39mself\u001b[39;49m\u001b[39m.\u001b[39;49mengine)\n",
      "File \u001b[0;32m~/opt/anaconda3/lib/python3.9/site-packages/pandas/io/parsers/readers.py:1735\u001b[0m, in \u001b[0;36mTextFileReader._make_engine\u001b[0;34m(self, f, engine)\u001b[0m\n\u001b[1;32m   1733\u001b[0m     \u001b[39mif\u001b[39;00m \u001b[39m\"\u001b[39m\u001b[39mb\u001b[39m\u001b[39m\"\u001b[39m \u001b[39mnot\u001b[39;00m \u001b[39min\u001b[39;00m mode:\n\u001b[1;32m   1734\u001b[0m         mode \u001b[39m+\u001b[39m\u001b[39m=\u001b[39m \u001b[39m\"\u001b[39m\u001b[39mb\u001b[39m\u001b[39m\"\u001b[39m\n\u001b[0;32m-> 1735\u001b[0m \u001b[39mself\u001b[39m\u001b[39m.\u001b[39mhandles \u001b[39m=\u001b[39m get_handle(\n\u001b[1;32m   1736\u001b[0m     f,\n\u001b[1;32m   1737\u001b[0m     mode,\n\u001b[1;32m   1738\u001b[0m     encoding\u001b[39m=\u001b[39;49m\u001b[39mself\u001b[39;49m\u001b[39m.\u001b[39;49moptions\u001b[39m.\u001b[39;49mget(\u001b[39m\"\u001b[39;49m\u001b[39mencoding\u001b[39;49m\u001b[39m\"\u001b[39;49m, \u001b[39mNone\u001b[39;49;00m),\n\u001b[1;32m   1739\u001b[0m     compression\u001b[39m=\u001b[39;49m\u001b[39mself\u001b[39;49m\u001b[39m.\u001b[39;49moptions\u001b[39m.\u001b[39;49mget(\u001b[39m\"\u001b[39;49m\u001b[39mcompression\u001b[39;49m\u001b[39m\"\u001b[39;49m, \u001b[39mNone\u001b[39;49;00m),\n\u001b[1;32m   1740\u001b[0m     memory_map\u001b[39m=\u001b[39;49m\u001b[39mself\u001b[39;49m\u001b[39m.\u001b[39;49moptions\u001b[39m.\u001b[39;49mget(\u001b[39m\"\u001b[39;49m\u001b[39mmemory_map\u001b[39;49m\u001b[39m\"\u001b[39;49m, \u001b[39mFalse\u001b[39;49;00m),\n\u001b[1;32m   1741\u001b[0m     is_text\u001b[39m=\u001b[39;49mis_text,\n\u001b[1;32m   1742\u001b[0m     errors\u001b[39m=\u001b[39;49m\u001b[39mself\u001b[39;49m\u001b[39m.\u001b[39;49moptions\u001b[39m.\u001b[39;49mget(\u001b[39m\"\u001b[39;49m\u001b[39mencoding_errors\u001b[39;49m\u001b[39m\"\u001b[39;49m, \u001b[39m\"\u001b[39;49m\u001b[39mstrict\u001b[39;49m\u001b[39m\"\u001b[39;49m),\n\u001b[1;32m   1743\u001b[0m     storage_options\u001b[39m=\u001b[39;49m\u001b[39mself\u001b[39;49m\u001b[39m.\u001b[39;49moptions\u001b[39m.\u001b[39;49mget(\u001b[39m\"\u001b[39;49m\u001b[39mstorage_options\u001b[39;49m\u001b[39m\"\u001b[39;49m, \u001b[39mNone\u001b[39;49;00m),\n\u001b[1;32m   1744\u001b[0m )\n\u001b[1;32m   1745\u001b[0m \u001b[39massert\u001b[39;00m \u001b[39mself\u001b[39m\u001b[39m.\u001b[39mhandles \u001b[39mis\u001b[39;00m \u001b[39mnot\u001b[39;00m \u001b[39mNone\u001b[39;00m\n\u001b[1;32m   1746\u001b[0m f \u001b[39m=\u001b[39m \u001b[39mself\u001b[39m\u001b[39m.\u001b[39mhandles\u001b[39m.\u001b[39mhandle\n",
      "File \u001b[0;32m~/opt/anaconda3/lib/python3.9/site-packages/pandas/io/common.py:856\u001b[0m, in \u001b[0;36mget_handle\u001b[0;34m(path_or_buf, mode, encoding, compression, memory_map, is_text, errors, storage_options)\u001b[0m\n\u001b[1;32m    851\u001b[0m \u001b[39melif\u001b[39;00m \u001b[39misinstance\u001b[39m(handle, \u001b[39mstr\u001b[39m):\n\u001b[1;32m    852\u001b[0m     \u001b[39m# Check whether the filename is to be opened in binary mode.\u001b[39;00m\n\u001b[1;32m    853\u001b[0m     \u001b[39m# Binary mode does not support 'encoding' and 'newline'.\u001b[39;00m\n\u001b[1;32m    854\u001b[0m     \u001b[39mif\u001b[39;00m ioargs\u001b[39m.\u001b[39mencoding \u001b[39mand\u001b[39;00m \u001b[39m\"\u001b[39m\u001b[39mb\u001b[39m\u001b[39m\"\u001b[39m \u001b[39mnot\u001b[39;00m \u001b[39min\u001b[39;00m ioargs\u001b[39m.\u001b[39mmode:\n\u001b[1;32m    855\u001b[0m         \u001b[39m# Encoding\u001b[39;00m\n\u001b[0;32m--> 856\u001b[0m         handle \u001b[39m=\u001b[39m \u001b[39mopen\u001b[39;49m(\n\u001b[1;32m    857\u001b[0m             handle,\n\u001b[1;32m    858\u001b[0m             ioargs\u001b[39m.\u001b[39;49mmode,\n\u001b[1;32m    859\u001b[0m             encoding\u001b[39m=\u001b[39;49mioargs\u001b[39m.\u001b[39;49mencoding,\n\u001b[1;32m    860\u001b[0m             errors\u001b[39m=\u001b[39;49merrors,\n\u001b[1;32m    861\u001b[0m             newline\u001b[39m=\u001b[39;49m\u001b[39m\"\u001b[39;49m\u001b[39m\"\u001b[39;49m,\n\u001b[1;32m    862\u001b[0m         )\n\u001b[1;32m    863\u001b[0m     \u001b[39melse\u001b[39;00m:\n\u001b[1;32m    864\u001b[0m         \u001b[39m# Binary mode\u001b[39;00m\n\u001b[1;32m    865\u001b[0m         handle \u001b[39m=\u001b[39m \u001b[39mopen\u001b[39m(handle, ioargs\u001b[39m.\u001b[39mmode)\n",
      "\u001b[0;31mFileNotFoundError\u001b[0m: [Errno 2] No such file or directory: '/Users/maximilianolopezsalgado/data_projects/capital_bike_sharing/datasets/start_stations_long_lat.csv'"
     ]
    }
   ],
   "source": [
    "# import start_stations_long_lat.csv\n",
    "start_stations_long_lat = pd.read_csv('/Users/maximilianolopezsalgado/data_projects/capital_bike_sharing/datasets/start_stations_long_lat.csv')\n",
    "\n",
    "# print first 5 rows\n",
    "display(start_stations_long_lat.head())\n",
    "\n",
    "# import end_stations_long_lat.csv\n",
    "end_stations_long_lat = pd.read_csv('/Users/maximilianolopezsalgado/data_projects/capital_bike_sharing/datasets/end_stations_long_lat.csv')\n",
    "\n",
    "# print first 5 rows\n",
    "display(end_stations_long_lat.head())"
   ]
  },
  {
   "cell_type": "code",
   "execution_count": null,
   "metadata": {},
   "outputs": [
    {
     "data": {
      "text/html": [
       "<div>\n",
       "<style scoped>\n",
       "    .dataframe tbody tr th:only-of-type {\n",
       "        vertical-align: middle;\n",
       "    }\n",
       "\n",
       "    .dataframe tbody tr th {\n",
       "        vertical-align: top;\n",
       "    }\n",
       "\n",
       "    .dataframe thead th {\n",
       "        text-align: right;\n",
       "    }\n",
       "</style>\n",
       "<table border=\"1\" class=\"dataframe\">\n",
       "  <thead>\n",
       "    <tr style=\"text-align: right;\">\n",
       "      <th></th>\n",
       "      <th>Duration</th>\n",
       "      <th>Start station</th>\n",
       "      <th>End station</th>\n",
       "    </tr>\n",
       "  </thead>\n",
       "  <tbody>\n",
       "    <tr>\n",
       "      <th>0</th>\n",
       "      <td>59.133333</td>\n",
       "      <td>5th &amp; F St NW</td>\n",
       "      <td>5th &amp; F St NW</td>\n",
       "    </tr>\n",
       "    <tr>\n",
       "      <th>1</th>\n",
       "      <td>5.766667</td>\n",
       "      <td>14th &amp; Harvard St NW</td>\n",
       "      <td>14th &amp; V St NW</td>\n",
       "    </tr>\n",
       "    <tr>\n",
       "      <th>2</th>\n",
       "      <td>9.366667</td>\n",
       "      <td>Georgia &amp; New Hampshire Ave NW</td>\n",
       "      <td>Adams Mill &amp; Columbia Rd NW</td>\n",
       "    </tr>\n",
       "    <tr>\n",
       "      <th>3</th>\n",
       "      <td>7.233333</td>\n",
       "      <td>10th &amp; U St NW</td>\n",
       "      <td>Florida Ave &amp; R St NW</td>\n",
       "    </tr>\n",
       "    <tr>\n",
       "      <th>4</th>\n",
       "      <td>3.883333</td>\n",
       "      <td>Adams Mill &amp; Columbia Rd NW</td>\n",
       "      <td>Calvert &amp; Biltmore St NW</td>\n",
       "    </tr>\n",
       "  </tbody>\n",
       "</table>\n",
       "</div>"
      ],
      "text/plain": [
       "    Duration                   Start station                  End station\n",
       "0  59.133333                   5th & F St NW                5th & F St NW\n",
       "1   5.766667            14th & Harvard St NW               14th & V St NW\n",
       "2   9.366667  Georgia & New Hampshire Ave NW  Adams Mill & Columbia Rd NW\n",
       "3   7.233333                  10th & U St NW        Florida Ave & R St NW\n",
       "4   3.883333     Adams Mill & Columbia Rd NW     Calvert & Biltmore St NW"
      ]
     },
     "execution_count": 16,
     "metadata": {},
     "output_type": "execute_result"
    }
   ],
   "source": [
    "# import trip history dataset  \n",
    "trip = pd.read_csv('../datasets/trip_history.csv')\n",
    "\n",
    "# print first 5 rows\n",
    "trip.head()"
   ]
  },
  {
   "cell_type": "code",
   "execution_count": null,
   "metadata": {},
   "outputs": [
    {
     "data": {
      "text/plain": [
       "Duration         float64\n",
       "Start station     object\n",
       "End station       object\n",
       "dtype: object"
      ]
     },
     "execution_count": 17,
     "metadata": {},
     "output_type": "execute_result"
    }
   ],
   "source": [
    "# check data types\n",
    "trip.dtypes"
   ]
  },
  {
   "attachments": {},
   "cell_type": "markdown",
   "metadata": {},
   "source": [
    " ### TOP 10 START STATIONS WITH THE HIGHEST NUMBER OF TRIPS"
   ]
  },
  {
   "cell_type": "code",
   "execution_count": null,
   "metadata": {},
   "outputs": [
    {
     "data": {
      "text/plain": [
       "Massachusetts Ave & Dupont Circle NW                   107162\n",
       "Columbus Circle / Union Station                         77750\n",
       "15th & P St NW                                          73707\n",
       "17th & Corcoran St NW                                   63502\n",
       "Adams Mill & Columbia Rd NW                             62378\n",
       "14th & V St NW                                          58356\n",
       "Eastern Market Metro / Pennsylvania Ave & 7th St SE     56029\n",
       "New Hampshire Ave & T St NW                             55812\n",
       "14th & Rhode Island Ave NW                              50142\n",
       "20th St & Florida Ave NW                                49812\n",
       "Name: Start station, dtype: int64"
      ]
     },
     "metadata": {},
     "output_type": "display_data"
    }
   ],
   "source": [
    "# create a table with the top 10 stations with the highest number of trips\n",
    "trip_start_top10 = start_stations_long_lat['Start station'].value_counts().head(10).sort_values(ascending=False)\n",
    "\n",
    "display(trip_start_top10)"
   ]
  },
  {
   "cell_type": "code",
   "execution_count": null,
   "metadata": {},
   "outputs": [
    {
     "data": {
      "image/png": "[encoded data removed]",
      "text/plain": [
       "<Figure size 1000x1000 with 1 Axes>"
      ]
     },
     "metadata": {},
     "output_type": "display_data"
    }
   ],
   "source": [
    "# create a a plot to show the number of trips by start station in the map of washington DC limit the graphic to 15. Exchange the x and y axis to show the stations in the y axis. Order the stations by number of trips in descending order\n",
    "trip_start_station = trip['Start station'].value_counts().head(10).sort_values(ascending=False).plot(kind='barh', figsize=(10, 10))\n",
    "trip_start_station.set_xlabel('Number of trips')\n",
    "trip_start_station.set_ylabel('Start station')\n",
    "trip_start_station.set_title('Number of trips by start station')\n",
    "\n",
    "# make the bars vertical\n",
    "trip_start_station.invert_yaxis()\n",
    "\n",
    "# show the plot\n",
    "plt.show()\n"
   ]
  },
  {
   "attachments": {},
   "cell_type": "markdown",
   "metadata": {},
   "source": [
    " ### TOP 10 END STATIONS WITH THE HIGHEST NUMBER OF TRIPS"
   ]
  },
  {
   "cell_type": "code",
   "execution_count": null,
   "metadata": {},
   "outputs": [
    {
     "data": {
      "text/plain": [
       "Massachusetts Ave & Dupont Circle NW                   118707\n",
       "15th & P St NW                                          83457\n",
       "Columbus Circle / Union Station                         79681\n",
       "17th & Corcoran St NW                                   67382\n",
       "14th & V St NW                                          59658\n",
       "New Hampshire Ave & T St NW                             57145\n",
       "8th & H St NW                                           54811\n",
       "21st & I St NW                                          54259\n",
       "Eastern Market Metro / Pennsylvania Ave & 7th St SE     54070\n",
       "Adams Mill & Columbia Rd NW                             52546\n",
       "Name: End station, dtype: int64"
      ]
     },
     "execution_count": 33,
     "metadata": {},
     "output_type": "execute_result"
    }
   ],
   "source": [
    "# get a table with the top 10 start stations\n",
    "trip_end_station_top10 = trip['End station'].value_counts().head(10).sort_values(ascending=False)\n",
    "trip_end_station_top10"
   ]
  },
  {
   "cell_type": "code",
   "execution_count": null,
   "metadata": {},
   "outputs": [
    {
     "data": {
      "image/png": "[encoded data removed]",
      "text/plain": [
       "<Figure size 1000x1000 with 1 Axes>"
      ]
     },
     "metadata": {},
     "output_type": "display_data"
    }
   ],
   "source": [
    "# create a a plot to show the number of trips by End station in the map of washington DC limit the graphic to 15. Exchange the x and y axis to show the stations in the y axis. Order the stations by number of trips in descending order\n",
    "trip_end_station_top10 = trip_end_station_top10.plot(kind='barh', figsize=(10, 10))\n",
    "trip_end_station_top10.set_xlabel('Number of trips')\n",
    "trip_end_station_top10.set_ylabel('End station')\n",
    "trip_end_station_top10.set_title('Number of trips by End station')\n",
    "\n",
    "# make the bars vertical\n",
    "trip_end_station_top10.invert_yaxis()\n",
    "\n",
    "# show the plot\n",
    "plt.show()"
   ]
  },
  {
   "attachments": {},
   "cell_type": "markdown",
   "metadata": {},
   "source": [
    "## GEOGRAPHICAL ANALYSIS"
   ]
  },
  {
   "attachments": {},
   "cell_type": "markdown",
   "metadata": {},
   "source": [
    "### TOP 10 STATIONS WITH MORE TRIPS"
   ]
  },
  {
   "cell_type": "code",
   "execution_count": null,
   "metadata": {},
   "outputs": [
    {
     "data": {
      "text/html": [
       "<div>\n",
       "<style scoped>\n",
       "    .dataframe tbody tr th:only-of-type {\n",
       "        vertical-align: middle;\n",
       "    }\n",
       "\n",
       "    .dataframe tbody tr th {\n",
       "        vertical-align: top;\n",
       "    }\n",
       "\n",
       "    .dataframe thead th {\n",
       "        text-align: right;\n",
       "    }\n",
       "</style>\n",
       "<table border=\"1\" class=\"dataframe\">\n",
       "  <thead>\n",
       "    <tr style=\"text-align: right;\">\n",
       "      <th></th>\n",
       "      <th>Start station</th>\n",
       "      <th>counts</th>\n",
       "      <th>Start station latitude</th>\n",
       "      <th>Start station longitude</th>\n",
       "    </tr>\n",
       "  </thead>\n",
       "  <tbody>\n",
       "    <tr>\n",
       "      <th>0</th>\n",
       "      <td>10th &amp; E St NW</td>\n",
       "      <td>6280</td>\n",
       "      <td>38.896136</td>\n",
       "      <td>-77.022843</td>\n",
       "    </tr>\n",
       "    <tr>\n",
       "      <th>1</th>\n",
       "      <td>10th &amp; Monroe St NE</td>\n",
       "      <td>5423</td>\n",
       "      <td>38.932514</td>\n",
       "      <td>-76.992889</td>\n",
       "    </tr>\n",
       "    <tr>\n",
       "      <th>2</th>\n",
       "      <td>10th &amp; U St NW</td>\n",
       "      <td>38149</td>\n",
       "      <td>38.917007</td>\n",
       "      <td>-77.024112</td>\n",
       "    </tr>\n",
       "    <tr>\n",
       "      <th>3</th>\n",
       "      <td>10th St &amp; Constitution Ave NW</td>\n",
       "      <td>33682</td>\n",
       "      <td>38.891931</td>\n",
       "      <td>-77.025990</td>\n",
       "    </tr>\n",
       "    <tr>\n",
       "      <th>4</th>\n",
       "      <td>11th &amp; F St NW</td>\n",
       "      <td>38</td>\n",
       "      <td>38.897206</td>\n",
       "      <td>-77.022971</td>\n",
       "    </tr>\n",
       "  </tbody>\n",
       "</table>\n",
       "</div>"
      ],
      "text/plain": [
       "                   Start station  counts  Start station latitude  \\\n",
       "0                 10th & E St NW    6280               38.896136   \n",
       "1            10th & Monroe St NE    5423               38.932514   \n",
       "2                 10th & U St NW   38149               38.917007   \n",
       "3  10th St & Constitution Ave NW   33682               38.891931   \n",
       "4                 11th & F St NW      38               38.897206   \n",
       "\n",
       "   Start station longitude  \n",
       "0               -77.022843  \n",
       "1               -76.992889  \n",
       "2               -77.024112  \n",
       "3               -77.025990  \n",
       "4               -77.022971  "
      ]
     },
     "execution_count": 29,
     "metadata": {},
     "output_type": "execute_result"
    }
   ],
   "source": [
    "# import start_station_long_lat dataset with geographical information of the stations\n",
    "start_stations_long_lat = pd.read_csv('/Users/maximilianolopezsalgado/data_projects/capital_bike_sharing/datasets/start_station.csv', sep=';')\n",
    "\n",
    "# print first 5 rows\n",
    "start_stations_long_lat.head()\n",
    "\n",
    "# check data types\n",
    "start_stations_long_lat.dtypes\n",
    "\n",
    "# display the first 5 rows of the dataset\n",
    "start_stations_long_lat.head()"
   ]
  },
  {
   "cell_type": "code",
   "execution_count": null,
   "metadata": {},
   "outputs": [
    {
     "data": {
      "text/html": [
       "<div>\n",
       "<style scoped>\n",
       "    .dataframe tbody tr th:only-of-type {\n",
       "        vertical-align: middle;\n",
       "    }\n",
       "\n",
       "    .dataframe tbody tr th {\n",
       "        vertical-align: top;\n",
       "    }\n",
       "\n",
       "    .dataframe thead th {\n",
       "        text-align: right;\n",
       "    }\n",
       "</style>\n",
       "<table border=\"1\" class=\"dataframe\">\n",
       "  <thead>\n",
       "    <tr style=\"text-align: right;\">\n",
       "      <th></th>\n",
       "      <th>Start station</th>\n",
       "      <th>Counts</th>\n",
       "    </tr>\n",
       "  </thead>\n",
       "  <tbody>\n",
       "    <tr>\n",
       "      <th>0</th>\n",
       "      <td>10th &amp; E St NW</td>\n",
       "      <td>1</td>\n",
       "    </tr>\n",
       "    <tr>\n",
       "      <th>1</th>\n",
       "      <td>Lee Hwy &amp; N Adams St</td>\n",
       "      <td>1</td>\n",
       "    </tr>\n",
       "    <tr>\n",
       "      <th>2</th>\n",
       "      <td>Fairfax Village</td>\n",
       "      <td>1</td>\n",
       "    </tr>\n",
       "    <tr>\n",
       "      <th>3</th>\n",
       "      <td>Florida Ave &amp; R St NW</td>\n",
       "      <td>1</td>\n",
       "    </tr>\n",
       "    <tr>\n",
       "      <th>4</th>\n",
       "      <td>Gallaudet / 8th St &amp; Florida Ave NE</td>\n",
       "      <td>1</td>\n",
       "    </tr>\n",
       "    <tr>\n",
       "      <th>5</th>\n",
       "      <td>George Mason Dr &amp; Wilson Blvd</td>\n",
       "      <td>1</td>\n",
       "    </tr>\n",
       "    <tr>\n",
       "      <th>6</th>\n",
       "      <td>Georgetown Harbor / 30th St NW</td>\n",
       "      <td>1</td>\n",
       "    </tr>\n",
       "    <tr>\n",
       "      <th>7</th>\n",
       "      <td>Georgia &amp; New Hampshire Ave NW</td>\n",
       "      <td>1</td>\n",
       "    </tr>\n",
       "    <tr>\n",
       "      <th>8</th>\n",
       "      <td>Georgia Ave and Fairmont St NW</td>\n",
       "      <td>1</td>\n",
       "    </tr>\n",
       "    <tr>\n",
       "      <th>9</th>\n",
       "      <td>Glebe Rd &amp; 11th St N</td>\n",
       "      <td>1</td>\n",
       "    </tr>\n",
       "  </tbody>\n",
       "</table>\n",
       "</div>"
      ],
      "text/plain": [
       "                         Start station  Counts\n",
       "0                       10th & E St NW       1\n",
       "1                 Lee Hwy & N Adams St       1\n",
       "2                      Fairfax Village       1\n",
       "3                Florida Ave & R St NW       1\n",
       "4  Gallaudet / 8th St & Florida Ave NE       1\n",
       "5        George Mason Dr & Wilson Blvd       1\n",
       "6       Georgetown Harbor / 30th St NW       1\n",
       "7       Georgia & New Hampshire Ave NW       1\n",
       "8       Georgia Ave and Fairmont St NW       1\n",
       "9                 Glebe Rd & 11th St N       1"
      ]
     },
     "execution_count": 50,
     "metadata": {},
     "output_type": "execute_result"
    }
   ],
   "source": [
    "# create a table with the top 10 start stations by counts\n",
    "trip_start_station_top10 = start_stations_long_lat['Start station'].value_counts().head(10).reset_index()\n",
    "trip_start_station_top10.columns = ['Start station', 'Counts']\n",
    "\n",
    "# display the first 5 rows of the dataset\n",
    "trip_start_station_top10.head(10)\n",
    "\n"
   ]
  },
  {
   "cell_type": "code",
   "execution_count": null,
   "metadata": {},
   "outputs": [
    {
     "data": {
      "image/png": "[encoded data removed]",
      "text/plain": [
       "<Figure size 1000x1000 with 1 Axes>"
      ]
     },
     "metadata": {},
     "output_type": "display_data"
    }
   ],
   "source": [
    "# create a a plot to show the number of trips by start station in the map of washington DC limit the graphic to 10. Exchange the x and y axis to show the stations in the y axis. Order the stations by number of trips in descending order\n",
    "trip_start_station = trip['Start station'].value_counts().head(10).sort_values(ascending=False).plot(kind='barh', figsize=(10, 10))\n",
    "trip_start_station.set_xlabel('Number of trips')\n",
    "trip_start_station.set_ylabel('Start station')\n",
    "trip_start_station.set_title('Number of trips by start station')\n",
    "\n",
    "# make the bars vertical\n",
    "trip_start_station.invert_yaxis()\n",
    "\n",
    "# show the plot\n",
    "plt.show()"
   ]
  },
  {
   "attachments": {},
   "cell_type": "markdown",
   "metadata": {},
   "source": [
    "### MAP OF WASHINGTON DC WITH THE TOP 10 END STATIONS"
   ]
  },
  {
   "attachments": {},
   "cell_type": "markdown",
   "metadata": {},
   "source": [
    "### TOP 10 END STATIONS BY NUMBER OF TRIPS"
   ]
  },
  {
   "cell_type": "code",
   "execution_count": null,
   "metadata": {},
   "outputs": [
    {
     "data": {
      "text/html": [
       "<div>\n",
       "<style scoped>\n",
       "    .dataframe tbody tr th:only-of-type {\n",
       "        vertical-align: middle;\n",
       "    }\n",
       "\n",
       "    .dataframe tbody tr th {\n",
       "        vertical-align: top;\n",
       "    }\n",
       "\n",
       "    .dataframe thead th {\n",
       "        text-align: right;\n",
       "    }\n",
       "</style>\n",
       "<table border=\"1\" class=\"dataframe\">\n",
       "  <thead>\n",
       "    <tr style=\"text-align: right;\">\n",
       "      <th></th>\n",
       "      <th>End station</th>\n",
       "      <th>Counts</th>\n",
       "    </tr>\n",
       "  </thead>\n",
       "  <tbody>\n",
       "    <tr>\n",
       "      <th>0</th>\n",
       "      <td>Massachusetts Ave &amp; Dupont Circle NW</td>\n",
       "      <td>118707</td>\n",
       "    </tr>\n",
       "    <tr>\n",
       "      <th>1</th>\n",
       "      <td>15th &amp; P St NW</td>\n",
       "      <td>83457</td>\n",
       "    </tr>\n",
       "    <tr>\n",
       "      <th>2</th>\n",
       "      <td>Columbus Circle / Union Station</td>\n",
       "      <td>79681</td>\n",
       "    </tr>\n",
       "    <tr>\n",
       "      <th>3</th>\n",
       "      <td>17th &amp; Corcoran St NW</td>\n",
       "      <td>67382</td>\n",
       "    </tr>\n",
       "    <tr>\n",
       "      <th>4</th>\n",
       "      <td>14th &amp; V St NW</td>\n",
       "      <td>59658</td>\n",
       "    </tr>\n",
       "    <tr>\n",
       "      <th>5</th>\n",
       "      <td>New Hampshire Ave &amp; T St NW</td>\n",
       "      <td>57145</td>\n",
       "    </tr>\n",
       "    <tr>\n",
       "      <th>6</th>\n",
       "      <td>8th &amp; H St NW</td>\n",
       "      <td>54811</td>\n",
       "    </tr>\n",
       "    <tr>\n",
       "      <th>7</th>\n",
       "      <td>21st &amp; I St NW</td>\n",
       "      <td>54259</td>\n",
       "    </tr>\n",
       "    <tr>\n",
       "      <th>8</th>\n",
       "      <td>Eastern Market Metro / Pennsylvania Ave &amp; 7th ...</td>\n",
       "      <td>54070</td>\n",
       "    </tr>\n",
       "    <tr>\n",
       "      <th>9</th>\n",
       "      <td>Adams Mill &amp; Columbia Rd NW</td>\n",
       "      <td>52546</td>\n",
       "    </tr>\n",
       "  </tbody>\n",
       "</table>\n",
       "</div>"
      ],
      "text/plain": [
       "                                         End station  Counts\n",
       "0               Massachusetts Ave & Dupont Circle NW  118707\n",
       "1                                     15th & P St NW   83457\n",
       "2                    Columbus Circle / Union Station   79681\n",
       "3                              17th & Corcoran St NW   67382\n",
       "4                                     14th & V St NW   59658\n",
       "5                        New Hampshire Ave & T St NW   57145\n",
       "6                                      8th & H St NW   54811\n",
       "7                                     21st & I St NW   54259\n",
       "8  Eastern Market Metro / Pennsylvania Ave & 7th ...   54070\n",
       "9                        Adams Mill & Columbia Rd NW   52546"
      ]
     },
     "execution_count": 46,
     "metadata": {},
     "output_type": "execute_result"
    }
   ],
   "source": [
    "# create a table with the top 10 end stations by counts\n",
    "trip_end_station_top10 = trip['End station'].value_counts().head(10).reset_index()\n",
    "trip_end_station_top10.columns = ['End station', 'Counts']\n",
    "\n",
    "# display the first 5 rows of the dataset\n",
    "trip_end_station_top10.head(10)"
   ]
  },
  {
   "cell_type": "code",
   "execution_count": null,
   "metadata": {},
   "outputs": [
    {
     "data": {
      "text/html": [
       "<div>\n",
       "<style scoped>\n",
       "    .dataframe tbody tr th:only-of-type {\n",
       "        vertical-align: middle;\n",
       "    }\n",
       "\n",
       "    .dataframe tbody tr th {\n",
       "        vertical-align: top;\n",
       "    }\n",
       "\n",
       "    .dataframe thead th {\n",
       "        text-align: right;\n",
       "    }\n",
       "</style>\n",
       "<table border=\"1\" class=\"dataframe\">\n",
       "  <thead>\n",
       "    <tr style=\"text-align: right;\">\n",
       "      <th></th>\n",
       "      <th>Station</th>\n",
       "      <th>Count</th>\n",
       "      <th>End station latitude</th>\n",
       "      <th>End station longitude</th>\n",
       "    </tr>\n",
       "  </thead>\n",
       "  <tbody>\n",
       "    <tr>\n",
       "      <th>0</th>\n",
       "      <td>Massachusetts Ave &amp; Dupont Circle NW</td>\n",
       "      <td>118707</td>\n",
       "      <td>38.910100</td>\n",
       "      <td>-77.044400</td>\n",
       "    </tr>\n",
       "    <tr>\n",
       "      <th>1</th>\n",
       "      <td>15th &amp; P St NW</td>\n",
       "      <td>83457</td>\n",
       "      <td>38.909627</td>\n",
       "      <td>-77.044409</td>\n",
       "    </tr>\n",
       "    <tr>\n",
       "      <th>2</th>\n",
       "      <td>Columbus Circle / Union Station</td>\n",
       "      <td>79681</td>\n",
       "      <td>38.897027</td>\n",
       "      <td>-77.004915</td>\n",
       "    </tr>\n",
       "    <tr>\n",
       "      <th>3</th>\n",
       "      <td>17th &amp; Corcoran St NW</td>\n",
       "      <td>67382</td>\n",
       "      <td>38.912083</td>\n",
       "      <td>-77.038646</td>\n",
       "    </tr>\n",
       "    <tr>\n",
       "      <th>4</th>\n",
       "      <td>14th &amp; V St NW</td>\n",
       "      <td>59658</td>\n",
       "      <td>38.918116</td>\n",
       "      <td>-77.035802</td>\n",
       "    </tr>\n",
       "  </tbody>\n",
       "</table>\n",
       "</div>"
      ],
      "text/plain": [
       "                                Station   Count  End station latitude  \\\n",
       "0  Massachusetts Ave & Dupont Circle NW  118707             38.910100   \n",
       "1                        15th & P St NW   83457             38.909627   \n",
       "2       Columbus Circle / Union Station   79681             38.897027   \n",
       "3                 17th & Corcoran St NW   67382             38.912083   \n",
       "4                        14th & V St NW   59658             38.918116   \n",
       "\n",
       "   End station longitude  \n",
       "0             -77.044400  \n",
       "1             -77.044409  \n",
       "2             -77.004915  \n",
       "3             -77.038646  \n",
       "4             -77.035802  "
      ]
     },
     "execution_count": 45,
     "metadata": {},
     "output_type": "execute_result"
    }
   ],
   "source": [
    "end_stations_long_lat = pd.read_csv('/Users/maximilianolopezsalgado/data_projects/capital_bike_sharing/datasets/end_stations_long_lat.csv', sep=',')\n",
    "\n",
    "# print first 5 rows\n",
    "end_stations_long_lat.head()\n",
    "\n",
    "# check data types\n",
    "end_stations_long_lat.dtypes\n",
    "\n",
    "# display the first 5 rows of the dataset\n",
    "end_stations_long_lat.head()"
   ]
  },
  {
   "cell_type": "code",
   "execution_count": null,
   "metadata": {},
   "outputs": [
    {
     "data": {
      "image/png": "[encoded data removed]",
      "text/plain": [
       "<Figure size 1000x1000 with 1 Axes>"
      ]
     },
     "metadata": {},
     "output_type": "display_data"
    }
   ],
   "source": [
    "# create a a plot to show the number of trips by end station in the map of washington DC limit the graphic to 10. Exchange the x and y axis to show the stations in the y axis. Order the stations by number of trips in descending order\n",
    "trip_end_station = trip['Start station'].value_counts().head(10).sort_values(ascending=False).plot(kind='barh', figsize=(10, 10))\n",
    "trip_end_station.set_xlabel('Number of trips')\n",
    "trip_end_station.set_ylabel('Start station')\n",
    "trip_end_station.set_title('Number of trips by start station')\n",
    "\n",
    "# make the bars vertical\n",
    "trip_end_station.invert_yaxis()\n",
    "\n",
    "# show the plot\n",
    "plt.show()"
   ]
  },
  {
   "cell_type": "code",
   "execution_count": null,
   "metadata": {},
   "outputs": [
    {
     "ename": "KeyError",
     "evalue": "'End station latitude'",
     "output_type": "error",
     "traceback": [
      "\u001b[0;31m---------------------------------------------------------------------------\u001b[0m",
      "\u001b[0;31mKeyError\u001b[0m                                  Traceback (most recent call last)",
      "File \u001b[0;32m~/opt/anaconda3/lib/python3.9/site-packages/pandas/core/indexes/base.py:3802\u001b[0m, in \u001b[0;36mIndex.get_loc\u001b[0;34m(self, key, method, tolerance)\u001b[0m\n\u001b[1;32m   3801\u001b[0m \u001b[39mtry\u001b[39;00m:\n\u001b[0;32m-> 3802\u001b[0m     \u001b[39mreturn\u001b[39;00m \u001b[39mself\u001b[39;49m\u001b[39m.\u001b[39;49m_engine\u001b[39m.\u001b[39;49mget_loc(casted_key)\n\u001b[1;32m   3803\u001b[0m \u001b[39mexcept\u001b[39;00m \u001b[39mKeyError\u001b[39;00m \u001b[39mas\u001b[39;00m err:\n",
      "File \u001b[0;32m~/opt/anaconda3/lib/python3.9/site-packages/pandas/_libs/index.pyx:138\u001b[0m, in \u001b[0;36mpandas._libs.index.IndexEngine.get_loc\u001b[0;34m()\u001b[0m\n",
      "File \u001b[0;32m~/opt/anaconda3/lib/python3.9/site-packages/pandas/_libs/index.pyx:165\u001b[0m, in \u001b[0;36mpandas._libs.index.IndexEngine.get_loc\u001b[0;34m()\u001b[0m\n",
      "File \u001b[0;32mpandas/_libs/hashtable_class_helper.pxi:5745\u001b[0m, in \u001b[0;36mpandas._libs.hashtable.PyObjectHashTable.get_item\u001b[0;34m()\u001b[0m\n",
      "File \u001b[0;32mpandas/_libs/hashtable_class_helper.pxi:5753\u001b[0m, in \u001b[0;36mpandas._libs.hashtable.PyObjectHashTable.get_item\u001b[0;34m()\u001b[0m\n",
      "\u001b[0;31mKeyError\u001b[0m: 'End station latitude'",
      "\nThe above exception was the direct cause of the following exception:\n",
      "\u001b[0;31mKeyError\u001b[0m                                  Traceback (most recent call last)",
      "Cell \u001b[0;32mIn[49], line 15\u001b[0m\n\u001b[1;32m     12\u001b[0m map_washington_end_top10 \u001b[39m=\u001b[39m folium\u001b[39m.\u001b[39mMap(location\u001b[39m=\u001b[39m[\u001b[39m38.9072\u001b[39m, \u001b[39m-\u001b[39m\u001b[39m77.0369\u001b[39m], zoom_start\u001b[39m=\u001b[39m\u001b[39m12\u001b[39m)\n\u001b[1;32m     14\u001b[0m \u001b[39m# add markers to map\u001b[39;00m\n\u001b[0;32m---> 15\u001b[0m \u001b[39mfor\u001b[39;00m lat, lng, label \u001b[39min\u001b[39;00m \u001b[39mzip\u001b[39m(trip_end_station_top10[\u001b[39m'\u001b[39;49m\u001b[39mEnd station latitude\u001b[39;49m\u001b[39m'\u001b[39;49m], trip_end_station_top10[\u001b[39m'\u001b[39m\u001b[39mEnd station longitude\u001b[39m\u001b[39m'\u001b[39m], trip_end_station_top10[\u001b[39m'\u001b[39m\u001b[39mStation\u001b[39m\u001b[39m'\u001b[39m]):\n\u001b[1;32m     16\u001b[0m     folium\u001b[39m.\u001b[39mCircleMarker(\n\u001b[1;32m     17\u001b[0m         [lat, lng],\n\u001b[1;32m     18\u001b[0m         radius\u001b[39m=\u001b[39m\u001b[39m5\u001b[39m,\n\u001b[0;32m   (...)\u001b[0m\n\u001b[1;32m     22\u001b[0m         fill_color\u001b[39m=\u001b[39m\u001b[39m'\u001b[39m\u001b[39mblue\u001b[39m\u001b[39m'\u001b[39m,\n\u001b[1;32m     23\u001b[0m         fill_opacity\u001b[39m=\u001b[39m\u001b[39m0.7\u001b[39m)\u001b[39m.\u001b[39madd_to(map_washington_end_top10)\n\u001b[1;32m     25\u001b[0m \u001b[39m# show map\u001b[39;00m\n",
      "File \u001b[0;32m~/opt/anaconda3/lib/python3.9/site-packages/pandas/core/frame.py:3807\u001b[0m, in \u001b[0;36mDataFrame.__getitem__\u001b[0;34m(self, key)\u001b[0m\n\u001b[1;32m   3805\u001b[0m \u001b[39mif\u001b[39;00m \u001b[39mself\u001b[39m\u001b[39m.\u001b[39mcolumns\u001b[39m.\u001b[39mnlevels \u001b[39m>\u001b[39m \u001b[39m1\u001b[39m:\n\u001b[1;32m   3806\u001b[0m     \u001b[39mreturn\u001b[39;00m \u001b[39mself\u001b[39m\u001b[39m.\u001b[39m_getitem_multilevel(key)\n\u001b[0;32m-> 3807\u001b[0m indexer \u001b[39m=\u001b[39m \u001b[39mself\u001b[39;49m\u001b[39m.\u001b[39;49mcolumns\u001b[39m.\u001b[39;49mget_loc(key)\n\u001b[1;32m   3808\u001b[0m \u001b[39mif\u001b[39;00m is_integer(indexer):\n\u001b[1;32m   3809\u001b[0m     indexer \u001b[39m=\u001b[39m [indexer]\n",
      "File \u001b[0;32m~/opt/anaconda3/lib/python3.9/site-packages/pandas/core/indexes/base.py:3804\u001b[0m, in \u001b[0;36mIndex.get_loc\u001b[0;34m(self, key, method, tolerance)\u001b[0m\n\u001b[1;32m   3802\u001b[0m     \u001b[39mreturn\u001b[39;00m \u001b[39mself\u001b[39m\u001b[39m.\u001b[39m_engine\u001b[39m.\u001b[39mget_loc(casted_key)\n\u001b[1;32m   3803\u001b[0m \u001b[39mexcept\u001b[39;00m \u001b[39mKeyError\u001b[39;00m \u001b[39mas\u001b[39;00m err:\n\u001b[0;32m-> 3804\u001b[0m     \u001b[39mraise\u001b[39;00m \u001b[39mKeyError\u001b[39;00m(key) \u001b[39mfrom\u001b[39;00m \u001b[39merr\u001b[39;00m\n\u001b[1;32m   3805\u001b[0m \u001b[39mexcept\u001b[39;00m \u001b[39mTypeError\u001b[39;00m:\n\u001b[1;32m   3806\u001b[0m     \u001b[39m# If we have a listlike key, _check_indexing_error will raise\u001b[39;00m\n\u001b[1;32m   3807\u001b[0m     \u001b[39m#  InvalidIndexError. Otherwise we fall through and re-raise\u001b[39;00m\n\u001b[1;32m   3808\u001b[0m     \u001b[39m#  the TypeError.\u001b[39;00m\n\u001b[1;32m   3809\u001b[0m     \u001b[39mself\u001b[39m\u001b[39m.\u001b[39m_check_indexing_error(key)\n",
      "\u001b[0;31mKeyError\u001b[0m: 'End station latitude'"
     ]
    }
   ],
   "source": [
    "# utilize folium library to show this 10 stations in the map of washington DC\n",
    "# create a dataframe with the 10 stations\n",
    "trip_end_station_top10 = pd.DataFrame(trip['End station'].value_counts().head(10))\n",
    "\n",
    "# reset index\n",
    "trip_end_station_top10.reset_index(inplace=True)\n",
    "\n",
    "# rename columns\n",
    "trip_end_station_top10.columns = ['End station', 'Number of trips']\n",
    "\n",
    "# create a map of washington DC\n",
    "map_washington_end_top10 = folium.Map(location=[38.9072, -77.0369], zoom_start=12)\n",
    "\n",
    "# add markers to map\n",
    "for lat, lng, label in zip(trip_end_station_top10['End station latitude'], trip_end_station_top10['End station longitude'], trip_end_station_top10['Station']):\n",
    "    folium.CircleMarker(\n",
    "        [lat, lng],\n",
    "        radius=5,\n",
    "        popup=label,\n",
    "        color='blue',\n",
    "        fill=True,\n",
    "        fill_color='blue',\n",
    "        fill_opacity=0.7).add_to(map_washington_end_top10)\n",
    "    \n",
    "# show map\n",
    "map_washington_end_top10\n",
    "\n"
   ]
  },
  {
   "cell_type": "code",
   "execution_count": null,
   "metadata": {},
   "outputs": [],
   "source": []
  },
  {
   "cell_type": "code",
   "execution_count": null,
   "metadata": {},
   "outputs": [],
   "source": []
  },
  {
   "cell_type": "code",
   "execution_count": null,
   "metadata": {},
   "outputs": [],
   "source": []
  },
  {
   "cell_type": "code",
   "execution_count": null,
   "metadata": {},
   "outputs": [],
   "source": []
  },
  {
   "cell_type": "code",
   "execution_count": null,
   "metadata": {},
   "outputs": [],
   "source": []
  },
  {
   "cell_type": "code",
   "execution_count": null,
   "metadata": {},
   "outputs": [],
   "source": []
  }
 ],
 "metadata": {
  "kernelspec": {
   "display_name": "ML",
   "language": "python",
   "name": "python3"
  },
  "language_info": {
   "codemirror_mode": {
    "name": "ipython",
    "version": 3
   },
   "file_extension": ".py",
   "mimetype": "text/x-python",
   "name": "python",
   "nbconvert_exporter": "python",
   "pygments_lexer": "ipython3",
   "version": "3.9.7"
  },
  "orig_nbformat": 4
 },
 "nbformat": 4,
 "nbformat_minor": 2
}
